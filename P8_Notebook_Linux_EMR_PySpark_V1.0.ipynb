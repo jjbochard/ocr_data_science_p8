{
 "cells": [
  {
   "cell_type": "markdown",
   "id": "441159cc",
   "metadata": {},
   "source": [
    "# Déployez un modèle dans le cloud\n",
    "\n",
    "\n",
    "# Sommaire :\n",
    "\n",
    "**1. Préambule**<br />\n",
    "&emsp;1.1 Problématique<br />\n",
    "&emsp;1.2 Objectifs dans ce projet<br />\n",
    "&emsp;1.3 Déroulement des étapes du projet<br />\n",
    "**2. Choix techniques généraux retenus**<br />\n",
    "&emsp;2.1 Calcul distribué<br />\n",
    "&emsp;2.2 Transfert Learning<br />\n",
    "**3. Déploiement de la solution en local**<br />\n",
    "&emsp;3.1 Environnement de travail<br />\n",
    "&emsp;3.2 Installation de Spark<br />\n",
    "&emsp;3.3 Installation des packages<br />\n",
    "&emsp;3.4 Import des librairies<br />\n",
    "&emsp;3.5 Définition des PATH pour charger les images et enregistrer les résultats<br />\n",
    "&emsp;3.6 Création de la SparkSession<br />\n",
    "&emsp;3.7 Traitement des données<br />\n",
    "&emsp;&emsp;3.7.1 Chargement des données<br />\n",
    "&emsp;&emsp;3.7.2 Préparation du modèle<br />\n",
    "&emsp;&emsp;3.7.3 Définition du processus de chargement des images et application <br />\n",
    "&emsp;&emsp;&emsp;&emsp;&emsp;de leur featurisation à travers l'utilisation de pandas UDF<br />\n",
    "&emsp;&emsp;3.7.4 Exécution des actions d'extractions de features<br />\n",
    "&emsp;3.8 Chargement des données enregistrées et validation du résultat<br />\n",
    "**4. Déploiement de la solution sur le cloud**<br />\n",
    "&emsp;4.1 Choix du prestataire cloud : AWS<br />\n",
    "&emsp;4.2 Choix de la solution technique : EMR<br />\n",
    "&emsp;4.3 Choix de la solution de stockage des données : Amazon S3<br />\n",
    "&emsp;4.4 Configuration de l'environnement de travail<br />\n",
    "&emsp;4.5 Upload de nos données sur S3<br />\n",
    "&emsp;4.6 Configuration du serveur EMR<br />\n",
    "&emsp;&emsp;4.6.1 Étape 1 : Logiciels et étapes<br />\n",
    "&emsp;&emsp;&emsp;4.6.1.1 Configuration des logiciels<br />\n",
    "&emsp;&emsp;&emsp;4.6.1.2 Modifier les paramètres du logiciel<br />\n",
    "&emsp;&emsp;4.6.2 Étape 2 : Matériel<br />\n",
    "&emsp;&emsp;4.6.3 Étape 3 : Paramètres de cluster généraux<br />\n",
    "&emsp;&emsp;&emsp;4.6.3.1 Options générales<br />\n",
    "&emsp;&emsp;&emsp;4.6.3.2 Actions d'amorçage<br />\n",
    "&emsp;&emsp;4.6.4 Étape 4 : Sécurité<br />\n",
    "&emsp;&emsp;&emsp;4.6.4.1 Options de sécurité<br />\n",
    "&emsp;4.7 Instanciation du serveur<br />\n",
    "&emsp;4.8 Création du tunnel SSH à l'instance EC2 (Maître)<br />\n",
    "&emsp;&emsp;4.8.1 Création des autorisations sur les connexions entrantes<br />\n",
    "&emsp;&emsp;4.8.2 Création du tunnel ssh vers le Driver<br />\n",
    "&emsp;&emsp;4.8.3 Configuration de FoxyProxy<br />\n",
    "&emsp;&emsp;4.8.4 Accès aux applications du serveur EMR via le tunnel ssh<br />\n",
    "&emsp;4.9 Connexion au notebook JupyterHub<br />\n",
    "&emsp;4.10 Exécution du code<br />\n",
    "&emsp;&emsp;4.10.1 Démarrage de la session Spark<br />\n",
    "&emsp;&emsp;4.10.2 Installation des packages<br />\n",
    "&emsp;&emsp;4.10.3 Import des librairies<br />\n",
    "&emsp;&emsp;4.10.4 Définition des PATH pour charger les images et enregistrer les résultats<br />\n",
    "&emsp;&emsp;4.10.5 Traitement des données<br />\n",
    "&emsp;&emsp;&emsp;4.10.5.1 Chargement des données<br />\n",
    "&emsp;&emsp;&emsp;4.10.5.2 Préparation du modèle<br />\n",
    "&emsp;&emsp;&emsp;4.10.5.3 Définition du processus de chargement des images<br />\n",
    "&emsp;&emsp;&emsp;&emsp;&emsp;&emsp;&emsp;et application de leur featurisation à travers l'utilisation de pandas UDF<br />\n",
    "&emsp;&emsp;&emsp;4.10.5.4 Exécutions des actions d'extractions de features<br />\n",
    "&emsp;&emsp;4.10.6 Chargement des données enregistrées et validation du résultat<br />\n",
    "&emsp;4.11 Suivi de l'avancement des tâches avec le Serveur d'Historique Spark<br />\n",
    "&emsp;4.12 Résiliation de l'instance EMR<br />\n",
    "&emsp;4.13 Cloner le serveur EMR (si besoin)<br />\n",
    "&emsp;4.14 Arborescence du serveur S3 à la fin du projet<br />\n",
    "**5. Conclusion**"
   ]
  },
  {
   "cell_type": "markdown",
   "id": "ec2cee08",
   "metadata": {},
   "source": [
    "# 1. Préambule\n",
    "\n",
    "## 1.1 Problématique\n",
    "\n",
    "La très jeune start-up de l'AgriTech, nommée \"**Fruits**!\", <br />\n",
    "cherche à proposer des solutions innovantes pour la récolte des fruits.\n",
    "\n",
    "La volonté de l’entreprise est de préserver la biodiversité des fruits <br />\n",
    "en permettant des traitements spécifiques pour chaque espèce de fruits <br />\n",
    "en développant des robots cueilleurs intelligents.\n",
    "\n",
    "La start-up souhaite dans un premier temps se faire connaître en mettant <br />\n",
    "à disposition du grand public une application mobile qui permettrait aux <br />\n",
    "utilisateurs de prendre en photo un fruit et d'obtenir des informations sur ce fruit.\n",
    "\n",
    "Pour la start-up, cette application permettrait de sensibiliser le grand public <br /> \n",
    "à la biodiversité des fruits et de mettre en place une première version du moteur <br />\n",
    "de classification des images de fruits.\n",
    "\n",
    "De plus, le développement de l’application mobile permettra de construire <br />\n",
    "une première version de l'architecture **Big Data** nécessaire.\n",
    "\n",
    "## 1.2 Objectifs dans ce projet\n",
    "\n",
    "1. Développer une première chaîne de traitement des données qui <br />\n",
    "   comprendra le **preprocessing** et une étape de **réduction de dimension**.\n",
    "2. Tenir compte du fait que <u>le volume de données va augmenter <br />\n",
    "   très rapidement</u> après la livraison de ce projet, ce qui implique de:\n",
    " - Déployer le traitement des données dans un environnement **Big Data**\n",
    " - Développer les scripts en **pyspark** pour effectuer du **calcul distribué**"
   ]
  },
  {
   "cell_type": "markdown",
   "id": "6b95e6ce",
   "metadata": {},
   "source": [
    "## 1.3 Déroulement des étapes du projet\n",
    "\n",
    "Le projet va être réalisé en 2 temps, dans deux environnements différents. <br />\n",
    "Nous allons dans un premier temps développer et exécuter notre code en local, <br />\n",
    "en travaillant sur un nombre limité d'images à traiter.\n",
    "\n",
    "Une fois les choix techniques validés, nous déploierons notre solution <br />\n",
    "dans un environnement Big Data en mode distribué.\n",
    "\n",
    "<u>Pour cette raison, ce projet sera divisé en 3 parties</u>:\n",
    "1. Liste des choix techniques généraux retenus\n",
    "2. Déploiement de la solution en local\n",
    "3. Déploiement de la solution dans le cloud"
   ]
  },
  {
   "cell_type": "markdown",
   "id": "f5b34029",
   "metadata": {},
   "source": [
    "# 2. Choix techniques généraux retenus"
   ]
  },
  {
   "cell_type": "markdown",
   "id": "32baf092",
   "metadata": {},
   "source": [
    "## 2.1 Calcul distribué\n",
    "\n",
    "L’énoncé du projet nous impose de développer des scripts en **pyspark** <br />\n",
    "afin de <u>prendre en compte l’augmentation très rapide du volume <br />\n",
    "de donné après la livraison du projet</u>.\n",
    "\n",
    "Pour comprendre rapidement et simplement ce qu’est **pyspark** <br />\n",
    "et son principe de fonctionnement, nous vous conseillons de lire <br />\n",
    "cet article : [PySpark : Tout savoir sur la librairie Python](https://datascientest.com/pyspark)\n",
    "\n",
    "<u>Le début de l’article nous dit ceci </u>:<br />\n",
    "« *Lorsque l’on parle de traitement de bases de données sur python, <br />\n",
    "on pense immédiatement à la librairie pandas. Cependant, lorsqu’on a <br />\n",
    "affaire à des bases de données trop massives, les calculs deviennent trop lents.<br />\n",
    "Heureusement, il existe une autre librairie python, assez proche <br />\n",
    "de pandas, qui permet de traiter des très grandes quantités de données : PySpark.<br />\n",
    "Apache Spark est un framework open-source développé par l’AMPLab <br />\n",
    "de UC Berkeley permettant de traiter des bases de données massives <br />\n",
    "en utilisant le calcul distribué, technique qui consiste à exploiter <br />\n",
    "plusieurs unités de calcul réparties en clusters au profit d’un seul <br />\n",
    "projet afin de diviser le temps d’exécution d’une requête.<br />\n",
    "Spark a été développé en Scala et est au meilleur de ses capacités <br />\n",
    "dans son langage natif. Cependant, la librairie PySpark propose de <br />\n",
    "l’utiliser avec le langage Python, en gardant des performances <br />\n",
    "similaires à des implémentations en Scala.<br />\n",
    "Pyspark est donc une bonne alternative à la librairie pandas lorsqu’on <br />\n",
    "cherche à traiter des jeux de données trop volumineux qui entraînent <br />\n",
    "des calculs trop chronophages.* »\n",
    "\n",
    "Comme nous le constatons, **pySpark** est un moyen de communiquer <br />\n",
    "avec **Spark** via le langage **Python**.<br />\n",
    "**Spark**, quant à lui, est un outil qui permet de gérer et de coordonner <br />\n",
    "l'exécution de tâches sur des données à travers un groupe d'ordinateurs. <br />\n",
    "<u>Spark (ou Apache Spark) est un framework open source de calcul distribué <br />\n",
    "in-memory pour le traitement et l'analyse de données massives</u>.\n",
    "\n",
    "Un autre [article très intéressant et beaucoup plus complet pour <br />\n",
    "comprendre le **fonctionnement de Spark**](https://www.veonum.com/apache-spark-pour-les-nuls/), ainsi que le rôle <br />\n",
    "des **Spark Session** que nous utiliserons dans ce projet.\n",
    "\n",
    "<u>Voici également un extrait</u>:\n",
    "\n",
    "*Les applications Spark se composent d’un pilote (« driver process ») <br />\n",
    "et de plusieurs exécuteurs (« executor processes »). Il peut être configuré <br />\n",
    "pour être lui-même l’exécuteur (local mode) ou en utiliser autant que <br />\n",
    "nécessaire pour traiter l’application, Spark prenant en charge la mise <br />\n",
    "à l’échelle automatique par une configuration d’un nombre minimum <br />\n",
    "et maximum d’exécuteurs.*\n",
    "\n",
    "![Schéma de Spark](img/spark-schema.png)\n",
    "\n",
    "*Le driver (parfois appelé « Spark Session ») distribue et planifie <br />\n",
    "les tâches entre les différents exécuteurs qui les exécutent et permettent <br />\n",
    "un traitement réparti. Il est le responsable de l’exécution du code <br />\n",
    "sur les différentes machines.\n",
    "\n",
    "Chaque exécuteur est un processus Java Virtual Machine (JVM) distinct <br />\n",
    "dont il est possible de configurer le nombre de CPU et la quantité de <br />\n",
    "mémoire qui lui est alloué. <br />\n",
    "Une seule tâche peut traiter un fractionnement de données à la fois.*\n",
    "\n",
    "Dans les deux environnements (Local et Cloud) nous utiliserons donc **Spark** <br />\n",
    "et nous l’exploiterons à travers des scripts python grâce à **PySpark**.\n",
    "\n",
    "Dans la <u>version locale</u> de notre script nous **simulerons <br />\n",
    "le calcul distribué** afin de valider que notre solution fonctionne.<br />\n",
    "Dans la <u>version cloud</u> nous **réaliserons les opérations sur un cluster de machine**."
   ]
  },
  {
   "cell_type": "markdown",
   "id": "5364c9f9",
   "metadata": {},
   "source": [
    "## 2.2 Transfert Learning\n",
    "\n",
    "L'énoncé du projet nous demande également de <br />\n",
    "réaliser une première chaîne de traitement <br />\n",
    "des données qui comprendra le preprocessing et <br />\n",
    "une étape de réduction de dimension.\n",
    "\n",
    "Il est également précisé qu'il n'est pas nécessaire <br />\n",
    "d'entraîner un modèle pour le moment.\n",
    "\n",
    "Nous décidons de partir sur une solution de **transfert learning**.\n",
    "\n",
    "Simplement, le **transfert learning** consiste <br />\n",
    "à utiliser la connaissance déjà acquise <br />\n",
    "par un modèle entraîné (ici **MobileNetV2**) pour <br />\n",
    "l'adapter à notre problématique.\n",
    "\n",
    "Nous allons fournir au modèle nos images, et nous allons <br />\n",
    "<u>récupérer l'avant dernière couche</u> du modèle.<br />\n",
    "En effet la dernière couche de modèle est une couche softmax <br />\n",
    "qui permet la classification des images ce que nous ne <br />\n",
    "souhaitons pas dans ce projet.\n",
    "\n",
    "L'avant dernière couche correspond à un **vecteur <br />\n",
    "réduit** de dimension (1,1,1280).\n",
    "\n",
    "Cela permettra de réaliser une première version du moteur <br />\n",
    "pour la classification des images des fruits.\n",
    "\n",
    "**MobileNetV2** a été retenu pour sa <u>rapidité d'exécution</u>, <br />\n",
    "particulièrement adaptée pour le traitement d'un gros volume <br />\n",
    "de données ainsi que la <u>faible dimensionnalité du vecteur <br />\n",
    "de caractéristique en sortie</u> (1,1,1280)"
   ]
  },
  {
   "cell_type": "markdown",
   "id": "1e89a2da",
   "metadata": {},
   "source": [
    "# 3. Déploiement de la solution en local\n",
    "\n",
    "\n",
    "## 3.1 Environnement de travail\n",
    "\n",
    "Pour des raisons de simplicité, nous développons dans un environnement <br />\n",
    "Linux Unbuntu (exécuté depuis une machine Windows dans une machine virtuelle)\n",
    "* Pour installer une machine virtuelle :  https://www.malekal.com/meilleurs-logiciels-de-machine-virtuelle-gratuits-ou-payants/\n",
    "\n",
    "## 3.2 Installation de Spark\n",
    "\n",
    "[La première étape consiste à installer Spark ](https://computingforgeeks.com/how-to-install-apache-spark-on-ubuntu-debian/)\n",
    "\n",
    "## 3.3 Installation des packages\n",
    "\n",
    "<u>On installe ensuite à l'aide de la commande **pip** <br />\n",
    "les packages qui nous seront nécessaires</u> :"
   ]
  },
  {
   "cell_type": "code",
   "execution_count": null,
   "id": "728d9256",
   "metadata": {
    "scrolled": true
   },
   "outputs": [
    {
     "name": "stdout",
     "output_type": "stream",
     "text": [
      "Requirement already satisfied: pip in /Users/jeremy/code/ocr/p8_fruits/pyspark-env/lib/python3.12/site-packages (25.2)\n",
      "Requirement already satisfied: Pandas in /Users/jeremy/code/ocr/p8_fruits/pyspark-env/lib/python3.12/site-packages (2.3.1)\n",
      "Requirement already satisfied: pillow in /Users/jeremy/code/ocr/p8_fruits/pyspark-env/lib/python3.12/site-packages (11.3.0)\n",
      "Requirement already satisfied: tensorflow in /Users/jeremy/code/ocr/p8_fruits/pyspark-env/lib/python3.12/site-packages (2.19.0)\n",
      "Requirement already satisfied: pyarrow in /Users/jeremy/code/ocr/p8_fruits/pyspark-env/lib/python3.12/site-packages (21.0.0)\n",
      "Requirement already satisfied: jupyter in /Users/jeremy/code/ocr/p8_fruits/pyspark-env/lib/python3.12/site-packages (1.1.1)\n",
      "Requirement already satisfied: pyspark==4.0.0 in /Users/jeremy/code/ocr/p8_fruits/pyspark-env/lib/python3.12/site-packages (4.0.0)\n",
      "Requirement already satisfied: matplotlib in /Users/jeremy/code/ocr/p8_fruits/pyspark-env/lib/python3.12/site-packages (3.10.5)\n",
      "Requirement already satisfied: scikit-learn in /Users/jeremy/code/ocr/p8_fruits/pyspark-env/lib/python3.12/site-packages (1.7.1)\n",
      "Requirement already satisfied: py4j==0.10.9.9 in /Users/jeremy/code/ocr/p8_fruits/pyspark-env/lib/python3.12/site-packages (from pyspark==4.0.0) (0.10.9.9)\n",
      "Requirement already satisfied: numpy>=1.26.0 in /Users/jeremy/code/ocr/p8_fruits/pyspark-env/lib/python3.12/site-packages (from Pandas) (2.1.3)\n",
      "Requirement already satisfied: python-dateutil>=2.8.2 in /Users/jeremy/code/ocr/p8_fruits/pyspark-env/lib/python3.12/site-packages (from Pandas) (2.9.0.post0)\n",
      "Requirement already satisfied: pytz>=2020.1 in /Users/jeremy/code/ocr/p8_fruits/pyspark-env/lib/python3.12/site-packages (from Pandas) (2025.2)\n",
      "Requirement already satisfied: tzdata>=2022.7 in /Users/jeremy/code/ocr/p8_fruits/pyspark-env/lib/python3.12/site-packages (from Pandas) (2025.2)\n",
      "Requirement already satisfied: absl-py>=1.0.0 in /Users/jeremy/code/ocr/p8_fruits/pyspark-env/lib/python3.12/site-packages (from tensorflow) (2.3.1)\n",
      "Requirement already satisfied: astunparse>=1.6.0 in /Users/jeremy/code/ocr/p8_fruits/pyspark-env/lib/python3.12/site-packages (from tensorflow) (1.6.3)\n",
      "Requirement already satisfied: flatbuffers>=24.3.25 in /Users/jeremy/code/ocr/p8_fruits/pyspark-env/lib/python3.12/site-packages (from tensorflow) (25.2.10)\n",
      "Requirement already satisfied: gast!=0.5.0,!=0.5.1,!=0.5.2,>=0.2.1 in /Users/jeremy/code/ocr/p8_fruits/pyspark-env/lib/python3.12/site-packages (from tensorflow) (0.6.0)\n",
      "Requirement already satisfied: google-pasta>=0.1.1 in /Users/jeremy/code/ocr/p8_fruits/pyspark-env/lib/python3.12/site-packages (from tensorflow) (0.2.0)\n",
      "Requirement already satisfied: libclang>=13.0.0 in /Users/jeremy/code/ocr/p8_fruits/pyspark-env/lib/python3.12/site-packages (from tensorflow) (18.1.1)\n",
      "Requirement already satisfied: opt-einsum>=2.3.2 in /Users/jeremy/code/ocr/p8_fruits/pyspark-env/lib/python3.12/site-packages (from tensorflow) (3.4.0)\n",
      "Requirement already satisfied: packaging in /Users/jeremy/code/ocr/p8_fruits/pyspark-env/lib/python3.12/site-packages (from tensorflow) (25.0)\n",
      "Requirement already satisfied: protobuf!=4.21.0,!=4.21.1,!=4.21.2,!=4.21.3,!=4.21.4,!=4.21.5,<6.0.0dev,>=3.20.3 in /Users/jeremy/code/ocr/p8_fruits/pyspark-env/lib/python3.12/site-packages (from tensorflow) (5.29.5)\n",
      "Requirement already satisfied: requests<3,>=2.21.0 in /Users/jeremy/code/ocr/p8_fruits/pyspark-env/lib/python3.12/site-packages (from tensorflow) (2.32.4)\n",
      "Requirement already satisfied: setuptools in /Users/jeremy/code/ocr/p8_fruits/pyspark-env/lib/python3.12/site-packages (from tensorflow) (80.9.0)\n",
      "Requirement already satisfied: six>=1.12.0 in /Users/jeremy/code/ocr/p8_fruits/pyspark-env/lib/python3.12/site-packages (from tensorflow) (1.17.0)\n",
      "Requirement already satisfied: termcolor>=1.1.0 in /Users/jeremy/code/ocr/p8_fruits/pyspark-env/lib/python3.12/site-packages (from tensorflow) (3.1.0)\n",
      "Requirement already satisfied: typing-extensions>=3.6.6 in /Users/jeremy/code/ocr/p8_fruits/pyspark-env/lib/python3.12/site-packages (from tensorflow) (4.14.1)\n",
      "Requirement already satisfied: wrapt>=1.11.0 in /Users/jeremy/code/ocr/p8_fruits/pyspark-env/lib/python3.12/site-packages (from tensorflow) (1.17.2)\n",
      "Requirement already satisfied: grpcio<2.0,>=1.24.3 in /Users/jeremy/code/ocr/p8_fruits/pyspark-env/lib/python3.12/site-packages (from tensorflow) (1.74.0)\n",
      "Requirement already satisfied: tensorboard~=2.19.0 in /Users/jeremy/code/ocr/p8_fruits/pyspark-env/lib/python3.12/site-packages (from tensorflow) (2.19.0)\n",
      "Requirement already satisfied: keras>=3.5.0 in /Users/jeremy/code/ocr/p8_fruits/pyspark-env/lib/python3.12/site-packages (from tensorflow) (3.11.1)\n",
      "Requirement already satisfied: h5py>=3.11.0 in /Users/jeremy/code/ocr/p8_fruits/pyspark-env/lib/python3.12/site-packages (from tensorflow) (3.14.0)\n",
      "Requirement already satisfied: ml-dtypes<1.0.0,>=0.5.1 in /Users/jeremy/code/ocr/p8_fruits/pyspark-env/lib/python3.12/site-packages (from tensorflow) (0.5.3)\n",
      "Requirement already satisfied: charset_normalizer<4,>=2 in /Users/jeremy/code/ocr/p8_fruits/pyspark-env/lib/python3.12/site-packages (from requests<3,>=2.21.0->tensorflow) (3.4.3)\n",
      "Requirement already satisfied: idna<4,>=2.5 in /Users/jeremy/code/ocr/p8_fruits/pyspark-env/lib/python3.12/site-packages (from requests<3,>=2.21.0->tensorflow) (3.10)\n",
      "Requirement already satisfied: urllib3<3,>=1.21.1 in /Users/jeremy/code/ocr/p8_fruits/pyspark-env/lib/python3.12/site-packages (from requests<3,>=2.21.0->tensorflow) (2.5.0)\n",
      "Requirement already satisfied: certifi>=2017.4.17 in /Users/jeremy/code/ocr/p8_fruits/pyspark-env/lib/python3.12/site-packages (from requests<3,>=2.21.0->tensorflow) (2025.8.3)\n",
      "Requirement already satisfied: markdown>=2.6.8 in /Users/jeremy/code/ocr/p8_fruits/pyspark-env/lib/python3.12/site-packages (from tensorboard~=2.19.0->tensorflow) (3.8.2)\n",
      "Requirement already satisfied: tensorboard-data-server<0.8.0,>=0.7.0 in /Users/jeremy/code/ocr/p8_fruits/pyspark-env/lib/python3.12/site-packages (from tensorboard~=2.19.0->tensorflow) (0.7.2)\n",
      "Requirement already satisfied: werkzeug>=1.0.1 in /Users/jeremy/code/ocr/p8_fruits/pyspark-env/lib/python3.12/site-packages (from tensorboard~=2.19.0->tensorflow) (3.1.3)\n",
      "Requirement already satisfied: notebook in /Users/jeremy/code/ocr/p8_fruits/pyspark-env/lib/python3.12/site-packages (from jupyter) (7.4.5)\n",
      "Requirement already satisfied: jupyter-console in /Users/jeremy/code/ocr/p8_fruits/pyspark-env/lib/python3.12/site-packages (from jupyter) (6.6.3)\n",
      "Requirement already satisfied: nbconvert in /Users/jeremy/code/ocr/p8_fruits/pyspark-env/lib/python3.12/site-packages (from jupyter) (7.16.6)\n",
      "Requirement already satisfied: ipykernel in /Users/jeremy/code/ocr/p8_fruits/pyspark-env/lib/python3.12/site-packages (from jupyter) (6.30.1)\n",
      "Requirement already satisfied: ipywidgets in /Users/jeremy/code/ocr/p8_fruits/pyspark-env/lib/python3.12/site-packages (from jupyter) (8.1.7)\n",
      "Requirement already satisfied: jupyterlab in /Users/jeremy/code/ocr/p8_fruits/pyspark-env/lib/python3.12/site-packages (from jupyter) (4.4.5)\n",
      "Requirement already satisfied: contourpy>=1.0.1 in /Users/jeremy/code/ocr/p8_fruits/pyspark-env/lib/python3.12/site-packages (from matplotlib) (1.3.3)\n",
      "Requirement already satisfied: cycler>=0.10 in /Users/jeremy/code/ocr/p8_fruits/pyspark-env/lib/python3.12/site-packages (from matplotlib) (0.12.1)\n",
      "Requirement already satisfied: fonttools>=4.22.0 in /Users/jeremy/code/ocr/p8_fruits/pyspark-env/lib/python3.12/site-packages (from matplotlib) (4.59.0)\n",
      "Requirement already satisfied: kiwisolver>=1.3.1 in /Users/jeremy/code/ocr/p8_fruits/pyspark-env/lib/python3.12/site-packages (from matplotlib) (1.4.9)\n",
      "Requirement already satisfied: pyparsing>=2.3.1 in /Users/jeremy/code/ocr/p8_fruits/pyspark-env/lib/python3.12/site-packages (from matplotlib) (3.2.3)\n",
      "Requirement already satisfied: scipy>=1.8.0 in /Users/jeremy/code/ocr/p8_fruits/pyspark-env/lib/python3.12/site-packages (from scikit-learn) (1.16.1)\n",
      "Requirement already satisfied: joblib>=1.2.0 in /Users/jeremy/code/ocr/p8_fruits/pyspark-env/lib/python3.12/site-packages (from scikit-learn) (1.5.1)\n",
      "Requirement already satisfied: threadpoolctl>=3.1.0 in /Users/jeremy/code/ocr/p8_fruits/pyspark-env/lib/python3.12/site-packages (from scikit-learn) (3.6.0)\n",
      "Requirement already satisfied: wheel<1.0,>=0.23.0 in /Users/jeremy/code/ocr/p8_fruits/pyspark-env/lib/python3.12/site-packages (from astunparse>=1.6.0->tensorflow) (0.45.1)\n",
      "Requirement already satisfied: rich in /Users/jeremy/code/ocr/p8_fruits/pyspark-env/lib/python3.12/site-packages (from keras>=3.5.0->tensorflow) (14.1.0)\n",
      "Requirement already satisfied: namex in /Users/jeremy/code/ocr/p8_fruits/pyspark-env/lib/python3.12/site-packages (from keras>=3.5.0->tensorflow) (0.1.0)\n",
      "Requirement already satisfied: optree in /Users/jeremy/code/ocr/p8_fruits/pyspark-env/lib/python3.12/site-packages (from keras>=3.5.0->tensorflow) (0.17.0)\n",
      "Requirement already satisfied: MarkupSafe>=2.1.1 in /Users/jeremy/code/ocr/p8_fruits/pyspark-env/lib/python3.12/site-packages (from werkzeug>=1.0.1->tensorboard~=2.19.0->tensorflow) (3.0.2)\n",
      "Requirement already satisfied: appnope>=0.1.2 in /Users/jeremy/code/ocr/p8_fruits/pyspark-env/lib/python3.12/site-packages (from ipykernel->jupyter) (0.1.4)\n",
      "Requirement already satisfied: comm>=0.1.1 in /Users/jeremy/code/ocr/p8_fruits/pyspark-env/lib/python3.12/site-packages (from ipykernel->jupyter) (0.2.3)\n",
      "Requirement already satisfied: debugpy>=1.6.5 in /Users/jeremy/code/ocr/p8_fruits/pyspark-env/lib/python3.12/site-packages (from ipykernel->jupyter) (1.8.16)\n",
      "Requirement already satisfied: ipython>=7.23.1 in /Users/jeremy/code/ocr/p8_fruits/pyspark-env/lib/python3.12/site-packages (from ipykernel->jupyter) (9.4.0)\n",
      "Requirement already satisfied: jupyter-client>=8.0.0 in /Users/jeremy/code/ocr/p8_fruits/pyspark-env/lib/python3.12/site-packages (from ipykernel->jupyter) (8.6.3)\n",
      "Requirement already satisfied: jupyter-core!=5.0.*,>=4.12 in /Users/jeremy/code/ocr/p8_fruits/pyspark-env/lib/python3.12/site-packages (from ipykernel->jupyter) (5.8.1)\n",
      "Requirement already satisfied: matplotlib-inline>=0.1 in /Users/jeremy/code/ocr/p8_fruits/pyspark-env/lib/python3.12/site-packages (from ipykernel->jupyter) (0.1.7)\n",
      "Requirement already satisfied: nest-asyncio>=1.4 in /Users/jeremy/code/ocr/p8_fruits/pyspark-env/lib/python3.12/site-packages (from ipykernel->jupyter) (1.6.0)\n",
      "Requirement already satisfied: psutil>=5.7 in /Users/jeremy/code/ocr/p8_fruits/pyspark-env/lib/python3.12/site-packages (from ipykernel->jupyter) (7.0.0)\n",
      "Requirement already satisfied: pyzmq>=25 in /Users/jeremy/code/ocr/p8_fruits/pyspark-env/lib/python3.12/site-packages (from ipykernel->jupyter) (27.0.1)\n",
      "Requirement already satisfied: tornado>=6.2 in /Users/jeremy/code/ocr/p8_fruits/pyspark-env/lib/python3.12/site-packages (from ipykernel->jupyter) (6.5.2)\n",
      "Requirement already satisfied: traitlets>=5.4.0 in /Users/jeremy/code/ocr/p8_fruits/pyspark-env/lib/python3.12/site-packages (from ipykernel->jupyter) (5.14.3)\n",
      "Requirement already satisfied: decorator in /Users/jeremy/code/ocr/p8_fruits/pyspark-env/lib/python3.12/site-packages (from ipython>=7.23.1->ipykernel->jupyter) (5.2.1)\n",
      "Requirement already satisfied: ipython-pygments-lexers in /Users/jeremy/code/ocr/p8_fruits/pyspark-env/lib/python3.12/site-packages (from ipython>=7.23.1->ipykernel->jupyter) (1.1.1)\n",
      "Requirement already satisfied: jedi>=0.16 in /Users/jeremy/code/ocr/p8_fruits/pyspark-env/lib/python3.12/site-packages (from ipython>=7.23.1->ipykernel->jupyter) (0.19.2)\n",
      "Requirement already satisfied: pexpect>4.3 in /Users/jeremy/code/ocr/p8_fruits/pyspark-env/lib/python3.12/site-packages (from ipython>=7.23.1->ipykernel->jupyter) (4.9.0)\n",
      "Requirement already satisfied: prompt_toolkit<3.1.0,>=3.0.41 in /Users/jeremy/code/ocr/p8_fruits/pyspark-env/lib/python3.12/site-packages (from ipython>=7.23.1->ipykernel->jupyter) (3.0.51)\n",
      "Requirement already satisfied: pygments>=2.4.0 in /Users/jeremy/code/ocr/p8_fruits/pyspark-env/lib/python3.12/site-packages (from ipython>=7.23.1->ipykernel->jupyter) (2.19.2)\n",
      "Requirement already satisfied: stack_data in /Users/jeremy/code/ocr/p8_fruits/pyspark-env/lib/python3.12/site-packages (from ipython>=7.23.1->ipykernel->jupyter) (0.6.3)\n",
      "Requirement already satisfied: wcwidth in /Users/jeremy/code/ocr/p8_fruits/pyspark-env/lib/python3.12/site-packages (from prompt_toolkit<3.1.0,>=3.0.41->ipython>=7.23.1->ipykernel->jupyter) (0.2.13)\n",
      "Requirement already satisfied: parso<0.9.0,>=0.8.4 in /Users/jeremy/code/ocr/p8_fruits/pyspark-env/lib/python3.12/site-packages (from jedi>=0.16->ipython>=7.23.1->ipykernel->jupyter) (0.8.4)\n",
      "Requirement already satisfied: platformdirs>=2.5 in /Users/jeremy/code/ocr/p8_fruits/pyspark-env/lib/python3.12/site-packages (from jupyter-core!=5.0.*,>=4.12->ipykernel->jupyter) (4.3.8)\n",
      "Requirement already satisfied: ptyprocess>=0.5 in /Users/jeremy/code/ocr/p8_fruits/pyspark-env/lib/python3.12/site-packages (from pexpect>4.3->ipython>=7.23.1->ipykernel->jupyter) (0.7.0)\n",
      "Requirement already satisfied: widgetsnbextension~=4.0.14 in /Users/jeremy/code/ocr/p8_fruits/pyspark-env/lib/python3.12/site-packages (from ipywidgets->jupyter) (4.0.14)\n",
      "Requirement already satisfied: jupyterlab_widgets~=3.0.15 in /Users/jeremy/code/ocr/p8_fruits/pyspark-env/lib/python3.12/site-packages (from ipywidgets->jupyter) (3.0.15)\n",
      "Requirement already satisfied: async-lru>=1.0.0 in /Users/jeremy/code/ocr/p8_fruits/pyspark-env/lib/python3.12/site-packages (from jupyterlab->jupyter) (2.0.5)\n",
      "Requirement already satisfied: httpx>=0.25.0 in /Users/jeremy/code/ocr/p8_fruits/pyspark-env/lib/python3.12/site-packages (from jupyterlab->jupyter) (0.28.1)\n",
      "Requirement already satisfied: jinja2>=3.0.3 in /Users/jeremy/code/ocr/p8_fruits/pyspark-env/lib/python3.12/site-packages (from jupyterlab->jupyter) (3.1.6)\n",
      "Requirement already satisfied: jupyter-lsp>=2.0.0 in /Users/jeremy/code/ocr/p8_fruits/pyspark-env/lib/python3.12/site-packages (from jupyterlab->jupyter) (2.2.6)\n",
      "Requirement already satisfied: jupyter-server<3,>=2.4.0 in /Users/jeremy/code/ocr/p8_fruits/pyspark-env/lib/python3.12/site-packages (from jupyterlab->jupyter) (2.16.0)\n",
      "Requirement already satisfied: jupyterlab-server<3,>=2.27.1 in /Users/jeremy/code/ocr/p8_fruits/pyspark-env/lib/python3.12/site-packages (from jupyterlab->jupyter) (2.27.3)\n",
      "Requirement already satisfied: notebook-shim>=0.2 in /Users/jeremy/code/ocr/p8_fruits/pyspark-env/lib/python3.12/site-packages (from jupyterlab->jupyter) (0.2.4)\n",
      "Requirement already satisfied: anyio>=3.1.0 in /Users/jeremy/code/ocr/p8_fruits/pyspark-env/lib/python3.12/site-packages (from jupyter-server<3,>=2.4.0->jupyterlab->jupyter) (4.10.0)\n",
      "Requirement already satisfied: argon2-cffi>=21.1 in /Users/jeremy/code/ocr/p8_fruits/pyspark-env/lib/python3.12/site-packages (from jupyter-server<3,>=2.4.0->jupyterlab->jupyter) (25.1.0)\n",
      "Requirement already satisfied: jupyter-events>=0.11.0 in /Users/jeremy/code/ocr/p8_fruits/pyspark-env/lib/python3.12/site-packages (from jupyter-server<3,>=2.4.0->jupyterlab->jupyter) (0.12.0)\n",
      "Requirement already satisfied: jupyter-server-terminals>=0.4.4 in /Users/jeremy/code/ocr/p8_fruits/pyspark-env/lib/python3.12/site-packages (from jupyter-server<3,>=2.4.0->jupyterlab->jupyter) (0.5.3)\n",
      "Requirement already satisfied: nbformat>=5.3.0 in /Users/jeremy/code/ocr/p8_fruits/pyspark-env/lib/python3.12/site-packages (from jupyter-server<3,>=2.4.0->jupyterlab->jupyter) (5.10.4)\n",
      "Requirement already satisfied: overrides>=5.0 in /Users/jeremy/code/ocr/p8_fruits/pyspark-env/lib/python3.12/site-packages (from jupyter-server<3,>=2.4.0->jupyterlab->jupyter) (7.7.0)\n",
      "Requirement already satisfied: prometheus-client>=0.9 in /Users/jeremy/code/ocr/p8_fruits/pyspark-env/lib/python3.12/site-packages (from jupyter-server<3,>=2.4.0->jupyterlab->jupyter) (0.22.1)\n",
      "Requirement already satisfied: send2trash>=1.8.2 in /Users/jeremy/code/ocr/p8_fruits/pyspark-env/lib/python3.12/site-packages (from jupyter-server<3,>=2.4.0->jupyterlab->jupyter) (1.8.3)\n",
      "Requirement already satisfied: terminado>=0.8.3 in /Users/jeremy/code/ocr/p8_fruits/pyspark-env/lib/python3.12/site-packages (from jupyter-server<3,>=2.4.0->jupyterlab->jupyter) (0.18.1)\n",
      "Requirement already satisfied: websocket-client>=1.7 in /Users/jeremy/code/ocr/p8_fruits/pyspark-env/lib/python3.12/site-packages (from jupyter-server<3,>=2.4.0->jupyterlab->jupyter) (1.8.0)\n",
      "Requirement already satisfied: babel>=2.10 in /Users/jeremy/code/ocr/p8_fruits/pyspark-env/lib/python3.12/site-packages (from jupyterlab-server<3,>=2.27.1->jupyterlab->jupyter) (2.17.0)\n",
      "Requirement already satisfied: json5>=0.9.0 in /Users/jeremy/code/ocr/p8_fruits/pyspark-env/lib/python3.12/site-packages (from jupyterlab-server<3,>=2.27.1->jupyterlab->jupyter) (0.12.0)\n",
      "Requirement already satisfied: jsonschema>=4.18.0 in /Users/jeremy/code/ocr/p8_fruits/pyspark-env/lib/python3.12/site-packages (from jupyterlab-server<3,>=2.27.1->jupyterlab->jupyter) (4.25.0)\n",
      "Requirement already satisfied: sniffio>=1.1 in /Users/jeremy/code/ocr/p8_fruits/pyspark-env/lib/python3.12/site-packages (from anyio>=3.1.0->jupyter-server<3,>=2.4.0->jupyterlab->jupyter) (1.3.1)\n",
      "Requirement already satisfied: argon2-cffi-bindings in /Users/jeremy/code/ocr/p8_fruits/pyspark-env/lib/python3.12/site-packages (from argon2-cffi>=21.1->jupyter-server<3,>=2.4.0->jupyterlab->jupyter) (25.1.0)\n",
      "Requirement already satisfied: httpcore==1.* in /Users/jeremy/code/ocr/p8_fruits/pyspark-env/lib/python3.12/site-packages (from httpx>=0.25.0->jupyterlab->jupyter) (1.0.9)\n",
      "Requirement already satisfied: h11>=0.16 in /Users/jeremy/code/ocr/p8_fruits/pyspark-env/lib/python3.12/site-packages (from httpcore==1.*->httpx>=0.25.0->jupyterlab->jupyter) (0.16.0)\n",
      "Requirement already satisfied: attrs>=22.2.0 in /Users/jeremy/code/ocr/p8_fruits/pyspark-env/lib/python3.12/site-packages (from jsonschema>=4.18.0->jupyterlab-server<3,>=2.27.1->jupyterlab->jupyter) (25.3.0)\n",
      "Requirement already satisfied: jsonschema-specifications>=2023.03.6 in /Users/jeremy/code/ocr/p8_fruits/pyspark-env/lib/python3.12/site-packages (from jsonschema>=4.18.0->jupyterlab-server<3,>=2.27.1->jupyterlab->jupyter) (2025.4.1)\n",
      "Requirement already satisfied: referencing>=0.28.4 in /Users/jeremy/code/ocr/p8_fruits/pyspark-env/lib/python3.12/site-packages (from jsonschema>=4.18.0->jupyterlab-server<3,>=2.27.1->jupyterlab->jupyter) (0.36.2)\n",
      "Requirement already satisfied: rpds-py>=0.7.1 in /Users/jeremy/code/ocr/p8_fruits/pyspark-env/lib/python3.12/site-packages (from jsonschema>=4.18.0->jupyterlab-server<3,>=2.27.1->jupyterlab->jupyter) (0.27.0)\n",
      "Requirement already satisfied: python-json-logger>=2.0.4 in /Users/jeremy/code/ocr/p8_fruits/pyspark-env/lib/python3.12/site-packages (from jupyter-events>=0.11.0->jupyter-server<3,>=2.4.0->jupyterlab->jupyter) (3.3.0)\n",
      "Requirement already satisfied: pyyaml>=5.3 in /Users/jeremy/code/ocr/p8_fruits/pyspark-env/lib/python3.12/site-packages (from jupyter-events>=0.11.0->jupyter-server<3,>=2.4.0->jupyterlab->jupyter) (6.0.2)\n",
      "Requirement already satisfied: rfc3339-validator in /Users/jeremy/code/ocr/p8_fruits/pyspark-env/lib/python3.12/site-packages (from jupyter-events>=0.11.0->jupyter-server<3,>=2.4.0->jupyterlab->jupyter) (0.1.4)\n",
      "Requirement already satisfied: rfc3986-validator>=0.1.1 in /Users/jeremy/code/ocr/p8_fruits/pyspark-env/lib/python3.12/site-packages (from jupyter-events>=0.11.0->jupyter-server<3,>=2.4.0->jupyterlab->jupyter) (0.1.1)\n",
      "Requirement already satisfied: fqdn in /Users/jeremy/code/ocr/p8_fruits/pyspark-env/lib/python3.12/site-packages (from jsonschema[format-nongpl]>=4.18.0->jupyter-events>=0.11.0->jupyter-server<3,>=2.4.0->jupyterlab->jupyter) (1.5.1)\n",
      "Requirement already satisfied: isoduration in /Users/jeremy/code/ocr/p8_fruits/pyspark-env/lib/python3.12/site-packages (from jsonschema[format-nongpl]>=4.18.0->jupyter-events>=0.11.0->jupyter-server<3,>=2.4.0->jupyterlab->jupyter) (20.11.0)\n",
      "Requirement already satisfied: jsonpointer>1.13 in /Users/jeremy/code/ocr/p8_fruits/pyspark-env/lib/python3.12/site-packages (from jsonschema[format-nongpl]>=4.18.0->jupyter-events>=0.11.0->jupyter-server<3,>=2.4.0->jupyterlab->jupyter) (3.0.0)\n",
      "Requirement already satisfied: rfc3987-syntax>=1.1.0 in /Users/jeremy/code/ocr/p8_fruits/pyspark-env/lib/python3.12/site-packages (from jsonschema[format-nongpl]>=4.18.0->jupyter-events>=0.11.0->jupyter-server<3,>=2.4.0->jupyterlab->jupyter) (1.1.0)\n",
      "Requirement already satisfied: uri-template in /Users/jeremy/code/ocr/p8_fruits/pyspark-env/lib/python3.12/site-packages (from jsonschema[format-nongpl]>=4.18.0->jupyter-events>=0.11.0->jupyter-server<3,>=2.4.0->jupyterlab->jupyter) (1.3.0)\n",
      "Requirement already satisfied: webcolors>=24.6.0 in /Users/jeremy/code/ocr/p8_fruits/pyspark-env/lib/python3.12/site-packages (from jsonschema[format-nongpl]>=4.18.0->jupyter-events>=0.11.0->jupyter-server<3,>=2.4.0->jupyterlab->jupyter) (24.11.1)\n",
      "Requirement already satisfied: beautifulsoup4 in /Users/jeremy/code/ocr/p8_fruits/pyspark-env/lib/python3.12/site-packages (from nbconvert->jupyter) (4.13.4)\n",
      "Requirement already satisfied: bleach!=5.0.0 in /Users/jeremy/code/ocr/p8_fruits/pyspark-env/lib/python3.12/site-packages (from bleach[css]!=5.0.0->nbconvert->jupyter) (6.2.0)\n",
      "Requirement already satisfied: defusedxml in /Users/jeremy/code/ocr/p8_fruits/pyspark-env/lib/python3.12/site-packages (from nbconvert->jupyter) (0.7.1)\n",
      "Requirement already satisfied: jupyterlab-pygments in /Users/jeremy/code/ocr/p8_fruits/pyspark-env/lib/python3.12/site-packages (from nbconvert->jupyter) (0.3.0)\n",
      "Requirement already satisfied: mistune<4,>=2.0.3 in /Users/jeremy/code/ocr/p8_fruits/pyspark-env/lib/python3.12/site-packages (from nbconvert->jupyter) (3.1.3)\n",
      "Requirement already satisfied: nbclient>=0.5.0 in /Users/jeremy/code/ocr/p8_fruits/pyspark-env/lib/python3.12/site-packages (from nbconvert->jupyter) (0.10.2)\n",
      "Requirement already satisfied: pandocfilters>=1.4.1 in /Users/jeremy/code/ocr/p8_fruits/pyspark-env/lib/python3.12/site-packages (from nbconvert->jupyter) (1.5.1)\n",
      "Requirement already satisfied: webencodings in /Users/jeremy/code/ocr/p8_fruits/pyspark-env/lib/python3.12/site-packages (from bleach!=5.0.0->bleach[css]!=5.0.0->nbconvert->jupyter) (0.5.1)\n",
      "Requirement already satisfied: tinycss2<1.5,>=1.1.0 in /Users/jeremy/code/ocr/p8_fruits/pyspark-env/lib/python3.12/site-packages (from bleach[css]!=5.0.0->nbconvert->jupyter) (1.4.0)\n",
      "Requirement already satisfied: fastjsonschema>=2.15 in /Users/jeremy/code/ocr/p8_fruits/pyspark-env/lib/python3.12/site-packages (from nbformat>=5.3.0->jupyter-server<3,>=2.4.0->jupyterlab->jupyter) (2.21.1)\n",
      "Requirement already satisfied: lark>=1.2.2 in /Users/jeremy/code/ocr/p8_fruits/pyspark-env/lib/python3.12/site-packages (from rfc3987-syntax>=1.1.0->jsonschema[format-nongpl]>=4.18.0->jupyter-events>=0.11.0->jupyter-server<3,>=2.4.0->jupyterlab->jupyter) (1.2.2)\n",
      "Requirement already satisfied: cffi>=1.0.1 in /Users/jeremy/code/ocr/p8_fruits/pyspark-env/lib/python3.12/site-packages (from argon2-cffi-bindings->argon2-cffi>=21.1->jupyter-server<3,>=2.4.0->jupyterlab->jupyter) (1.17.1)\n",
      "Requirement already satisfied: pycparser in /Users/jeremy/code/ocr/p8_fruits/pyspark-env/lib/python3.12/site-packages (from cffi>=1.0.1->argon2-cffi-bindings->argon2-cffi>=21.1->jupyter-server<3,>=2.4.0->jupyterlab->jupyter) (2.22)\n",
      "Requirement already satisfied: soupsieve>1.2 in /Users/jeremy/code/ocr/p8_fruits/pyspark-env/lib/python3.12/site-packages (from beautifulsoup4->nbconvert->jupyter) (2.7)\n",
      "Requirement already satisfied: arrow>=0.15.0 in /Users/jeremy/code/ocr/p8_fruits/pyspark-env/lib/python3.12/site-packages (from isoduration->jsonschema[format-nongpl]>=4.18.0->jupyter-events>=0.11.0->jupyter-server<3,>=2.4.0->jupyterlab->jupyter) (1.3.0)\n",
      "Requirement already satisfied: types-python-dateutil>=2.8.10 in /Users/jeremy/code/ocr/p8_fruits/pyspark-env/lib/python3.12/site-packages (from arrow>=0.15.0->isoduration->jsonschema[format-nongpl]>=4.18.0->jupyter-events>=0.11.0->jupyter-server<3,>=2.4.0->jupyterlab->jupyter) (2.9.0.20250809)\n",
      "Requirement already satisfied: markdown-it-py>=2.2.0 in /Users/jeremy/code/ocr/p8_fruits/pyspark-env/lib/python3.12/site-packages (from rich->keras>=3.5.0->tensorflow) (3.0.0)\n",
      "Requirement already satisfied: mdurl~=0.1 in /Users/jeremy/code/ocr/p8_fruits/pyspark-env/lib/python3.12/site-packages (from markdown-it-py>=2.2.0->rich->keras>=3.5.0->tensorflow) (0.1.2)\n",
      "Requirement already satisfied: executing>=1.2.0 in /Users/jeremy/code/ocr/p8_fruits/pyspark-env/lib/python3.12/site-packages (from stack_data->ipython>=7.23.1->ipykernel->jupyter) (2.2.0)\n",
      "Requirement already satisfied: asttokens>=2.1.0 in /Users/jeremy/code/ocr/p8_fruits/pyspark-env/lib/python3.12/site-packages (from stack_data->ipython>=7.23.1->ipykernel->jupyter) (3.0.0)\n",
      "Requirement already satisfied: pure-eval in /Users/jeremy/code/ocr/p8_fruits/pyspark-env/lib/python3.12/site-packages (from stack_data->ipython>=7.23.1->ipykernel->jupyter) (0.2.3)\n"
     ]
    }
   ],
   "source": [
    "!pip install --upgrade pip\n",
    "!pip install Pandas pillow tensorflow pyarrow jupyter \"pyspark==4.0.0\" matplotlib scikit-learn\n"
   ]
  },
  {
   "cell_type": "markdown",
   "id": "33a43845",
   "metadata": {},
   "source": [
    "## 3.4 Import des librairies"
   ]
  },
  {
   "cell_type": "code",
   "execution_count": null,
   "id": "a5c0c74f",
   "metadata": {},
   "outputs": [],
   "source": [
    "import pandas as pd\n",
    "from PIL import Image\n",
    "import numpy as np\n",
    "import io\n",
    "import os\n",
    "import matplotlib.pyplot as plt\n",
    "\n",
    "import tensorflow as tf\n",
    "from tensorflow.keras.applications.mobilenet_v2 import MobileNetV2, preprocess_input\n",
    "from tensorflow.keras.preprocessing.image import img_to_array\n",
    "from tensorflow.keras import Model\n",
    "from pyspark.sql.functions import (\n",
    "    col,\n",
    "    pandas_udf,\n",
    "    PandasUDFType,\n",
    "    element_at,\n",
    "    split,\n",
    "    size,\n",
    ")\n",
    "from pyspark.sql import SparkSession, functions as F\n",
    "from pyspark.ml.linalg import Vectors, VectorUDT\n",
    "from pyspark.ml.feature import StandardScaler, PCA\n",
    "from pyspark.ml import Pipeline\n",
    "from pyspark.ml.functions import vector_to_array\n"
   ]
  },
  {
   "cell_type": "markdown",
   "id": "661ff67c",
   "metadata": {},
   "source": [
    "## 3.5 Définition des PATH pour charger les images <br /> et enregistrer les résultats\n",
    "\n",
    "Dans cette version locale nous partons du principe que les données <br />\n",
    "sont stockées dans le même répertoire que le notebook.<br />\n",
    "Nous n'utilisons qu'un extrait de **300 images** à traiter dans cette <br />\n",
    "première version en local.<br />\n",
    "L'extrait des images à charger est stockée dans le dossier **Test1**.<br />\n",
    "Nous enregistrerons le résultat de notre traitement <br />\n",
    "dans le dossier \"**Results_Local**\""
   ]
  },
  {
   "cell_type": "code",
   "execution_count": null,
   "id": "cde0aa67",
   "metadata": {},
   "outputs": [
    {
     "name": "stdout",
     "output_type": "stream",
     "text": [
      "PATH:        /Users/jeremy/code/ocr/p8\n",
      "PATH_Data:   /Users/jeremy/code/ocr/p8/fruits/fruits-360-original-size/fruits-360-original-size/Test\n",
      "PATH_Result: /Users/jeremy/code/ocr/p8/data/Results\n",
      "PATH_Result_PCA: /Users/jeremy/code/ocr/p8/data/Results_PCA\n",
      "PATH_PCA_MODEL: /Users/jeremy/code/ocr/p8/data/PCA_Model\n"
     ]
    }
   ],
   "source": [
    "PATH = os.getcwd()\n",
    "PATH_Data = PATH + \"/fruits/fruits-360-original-size/fruits-360-original-size/Test\"\n",
    "PATH_Result = PATH + \"/data/Results\"\n",
    "PATH_Result_PCA = PATH + \"/data/Results_PCA\"\n",
    "PATH_PCA_MODEL = PATH + \"/data/PCA_Model\"\n",
    "print(\n",
    "    \"PATH:        \"\n",
    "    + PATH\n",
    "    + \"\\nPATH_Data:   \"\n",
    "    + PATH_Data\n",
    "    + \"\\nPATH_Result: \"\n",
    "    + PATH_Result\n",
    "    + \"\\nPATH_Result_PCA: \"\n",
    "    + PATH_Result_PCA\n",
    "    + \"\\nPATH_PCA_MODEL: \"\n",
    "    + PATH_PCA_MODEL\n",
    ")\n"
   ]
  },
  {
   "cell_type": "markdown",
   "id": "da5e637a",
   "metadata": {},
   "source": [
    "## 3.6 Création de la SparkSession\n",
    "\n",
    "L’application Spark est contrôlée grâce à un processus de pilotage (driver process) appelé **SparkSession**. <br />\n",
    "<u>Une instance de **SparkSession** est la façon dont Spark exécute les fonctions définies par l’utilisateur <br />\n",
    "dans l’ensemble du cluster</u>. <u>Une SparkSession correspond toujours à une application Spark</u>.\n",
    "\n",
    "<u>Ici nous créons une session spark en spécifiant dans l'ordre</u> :\n",
    " 1. un **nom pour l'application**, qui sera affichée dans l'interface utilisateur Web Spark \"**P8**\"\n",
    " 2. que l'application doit s'exécuter **localement**. <br />\n",
    "   Nous ne définissons pas le nombre de cœurs à utiliser (comme .master('local[4]) pour 4 cœurs à utiliser), <br />\n",
    "   nous utiliserons donc tous les cœurs disponibles dans notre processeur.<br />\n",
    " 3. une option de configuration supplémentaire permettant d'utiliser le **format \"parquet\"** <br />\n",
    "   que nous utiliserons pour enregistrer et charger le résultat de notre travail.\n",
    " 4. vouloir **obtenir une session spark** existante ou si aucune n'existe, en créer une nouvelle"
   ]
  },
  {
   "cell_type": "code",
   "execution_count": null,
   "id": "b7bea157",
   "metadata": {},
   "outputs": [
    {
     "name": "stderr",
     "output_type": "stream",
     "text": [
      "WARNING: Using incubator modules: jdk.incubator.vector\n",
      "Using Spark's default log4j profile: org/apache/spark/log4j2-defaults.properties\n",
      "25/08/14 11:30:19 WARN Utils: Your hostname, MacBook-Air-M3-de-Jeremy.local, resolves to a loopback address: 127.0.0.1; using 192.168.1.14 instead (on interface en0)\n",
      "25/08/14 11:30:19 WARN Utils: Set SPARK_LOCAL_IP if you need to bind to another address\n",
      "Using Spark's default log4j profile: org/apache/spark/log4j2-defaults.properties\n",
      "Setting default log level to \"WARN\".\n",
      "To adjust logging level use sc.setLogLevel(newLevel). For SparkR, use setLogLevel(newLevel).\n",
      "25/08/14 11:30:20 WARN NativeCodeLoader: Unable to load native-hadoop library for your platform... using builtin-java classes where applicable\n"
     ]
    }
   ],
   "source": [
    "spark = (\n",
    "    SparkSession.builder.appName(\"P8\")\n",
    "    .master(\"local\")\n",
    "    .config(\"spark.sql.parquet.writeLegacyFormat\", \"true\")\n",
    "    .getOrCreate()\n",
    ")\n"
   ]
  },
  {
   "cell_type": "markdown",
   "id": "5c8b53ac",
   "metadata": {},
   "source": [
    "<u>Nous créons également la variable \"**sc**\" qui est un **SparkContext** issue de la variable **spark**</u> :"
   ]
  },
  {
   "cell_type": "code",
   "execution_count": null,
   "id": "14aeccb1",
   "metadata": {},
   "outputs": [],
   "source": [
    "sc = spark.sparkContext\n"
   ]
  },
  {
   "cell_type": "markdown",
   "id": "5a086010",
   "metadata": {},
   "source": [
    "<u>Affichage des informations de Spark en cours d'execution</u> :"
   ]
  },
  {
   "cell_type": "code",
   "execution_count": null,
   "id": "e97bf13b",
   "metadata": {},
   "outputs": [
    {
     "data": {
      "text/html": [
       "\n",
       "            <div>\n",
       "                <p><b>SparkSession - in-memory</b></p>\n",
       "                \n",
       "        <div>\n",
       "            <p><b>SparkContext</b></p>\n",
       "\n",
       "            <p><a href=\"http://192.168.1.14:4040\">Spark UI</a></p>\n",
       "\n",
       "            <dl>\n",
       "              <dt>Version</dt>\n",
       "                <dd><code>v4.0.0</code></dd>\n",
       "              <dt>Master</dt>\n",
       "                <dd><code>local</code></dd>\n",
       "              <dt>AppName</dt>\n",
       "                <dd><code>P8</code></dd>\n",
       "            </dl>\n",
       "        </div>\n",
       "        \n",
       "            </div>\n",
       "        "
      ],
      "text/plain": [
       "<pyspark.sql.session.SparkSession at 0x178bb0320>"
      ]
     },
     "execution_count": 6,
     "metadata": {},
     "output_type": "execute_result"
    }
   ],
   "source": [
    "spark\n"
   ]
  },
  {
   "cell_type": "markdown",
   "id": "195a88b0",
   "metadata": {},
   "source": [
    "## 3.7 Traitement des données\n",
    "\n",
    "<u>Dans la suite de notre flux de travail, <br />\n",
    "nous allons successivement</u> :\n",
    "1. Préparer nos données\n",
    "    1. Importer les images dans un dataframe **pandas UDF**\n",
    "    2. Associer aux images leur **label**\n",
    "    3. Préprocesser en **redimensionnant nos images pour <br />\n",
    "       qu'elles soient compatibles avec notre modèle**\n",
    "2. Préparer notre modèle\n",
    "    1. Importer le modèle **MobileNetV2**\n",
    "    2. Créer un **nouveau modèle** dépourvu de la dernière couche de MobileNetV2\n",
    "3. Définir le processus de chargement des images et l'application <br />\n",
    "   de leur featurisation à travers l'utilisation de pandas UDF\n",
    "3. Exécuter les actions d'extraction de features\n",
    "4. Enregistrer le résultat de nos actions\n",
    "5. Tester le bon fonctionnement en chargeant les données enregistrées\n",
    "\n",
    "\n"
   ]
  },
  {
   "cell_type": "markdown",
   "id": "386fe0bc",
   "metadata": {},
   "source": [
    "### 3.7.1 Chargement des données\n",
    "\n",
    "Les images sont chargées au format binaire, ce qui offre, <br />\n",
    "plus de souplesse dans la façon de prétraiter les images.\n",
    "\n",
    "Avant de charger les images, nous spécifions que nous voulons charger <br />\n",
    "uniquement les fichiers dont l'extension est **jpg**.\n",
    "\n",
    "Nous indiquons également de charger tous les objets possibles contenus <br />\n",
    "dans les sous-dossiers du dossier communiqué."
   ]
  },
  {
   "cell_type": "code",
   "execution_count": null,
   "id": "e68e53b9",
   "metadata": {},
   "outputs": [
    {
     "name": "stderr",
     "output_type": "stream",
     "text": [
      "                                                                                \r"
     ]
    },
    {
     "data": {
      "text/plain": [
       "3110"
      ]
     },
     "execution_count": 7,
     "metadata": {},
     "output_type": "execute_result"
    }
   ],
   "source": [
    "images = (\n",
    "    spark.read.format(\"binaryFile\")\n",
    "    .option(\"pathGlobFilter\", \"*.jpg\")\n",
    "    .option(\"recursiveFileLookup\", \"true\")\n",
    "    .load(PATH_Data)\n",
    ")\n",
    "images.count()\n"
   ]
  },
  {
   "cell_type": "markdown",
   "id": "645faeaf",
   "metadata": {},
   "source": [
    "<u>Affichage des 5 premières images contenant</u> :\n",
    " - le path de l'image\n",
    " - la date et heure de sa dernière modification\n",
    " - sa longueur\n",
    " - son contenu encodé en valeur hexadécimal"
   ]
  },
  {
   "cell_type": "markdown",
   "id": "863981e5",
   "metadata": {},
   "source": [
    "<u>Je ne conserve que le **path** de l'image et j'ajoute <br />\n",
    "    une colonne contenant les **labels** de chaque image</u> :"
   ]
  },
  {
   "cell_type": "code",
   "execution_count": null,
   "id": "a08b0494",
   "metadata": {},
   "outputs": [
    {
     "name": "stdout",
     "output_type": "stream",
     "text": [
      "root\n",
      " |-- path: string (nullable = true)\n",
      " |-- modificationTime: timestamp (nullable = true)\n",
      " |-- length: long (nullable = true)\n",
      " |-- content: binary (nullable = true)\n",
      " |-- label: string (nullable = true)\n",
      "\n",
      "None\n",
      "+-------------------------------------------------------------------------------------------------------------------+-----------+\n",
      "|path                                                                                                               |label      |\n",
      "+-------------------------------------------------------------------------------------------------------------------+-----------+\n",
      "|file:/Users/jeremy/code/ocr/p8/fruits/fruits-360-original-size/fruits-360-original-size/Test/apple_hit_1/r0_115.jpg|apple_hit_1|\n",
      "|file:/Users/jeremy/code/ocr/p8/fruits/fruits-360-original-size/fruits-360-original-size/Test/apple_hit_1/r0_119.jpg|apple_hit_1|\n",
      "|file:/Users/jeremy/code/ocr/p8/fruits/fruits-360-original-size/fruits-360-original-size/Test/apple_hit_1/r0_107.jpg|apple_hit_1|\n",
      "|file:/Users/jeremy/code/ocr/p8/fruits/fruits-360-original-size/fruits-360-original-size/Test/apple_hit_1/r0_143.jpg|apple_hit_1|\n",
      "|file:/Users/jeremy/code/ocr/p8/fruits/fruits-360-original-size/fruits-360-original-size/Test/apple_hit_1/r0_111.jpg|apple_hit_1|\n",
      "+-------------------------------------------------------------------------------------------------------------------+-----------+\n",
      "only showing top 5 rows\n",
      "None\n"
     ]
    }
   ],
   "source": [
    "images = images.withColumn(\"label\", element_at(split(images[\"path\"], \"/\"), -2))\n",
    "print(images.printSchema())\n",
    "print(images.select(\"path\", \"label\").show(5, False))\n"
   ]
  },
  {
   "cell_type": "markdown",
   "id": "83d47705",
   "metadata": {},
   "source": [
    "### 3.7.2 Préparation du modèle\n",
    "\n",
    "Je vais utiliser la technique du **transfert learning** pour extraire les features des images.<br />\n",
    "J'ai choisi d'utiliser le modèle **MobileNetV2** pour sa rapidité d'exécution comparée <br />\n",
    "à d'autres modèles comme *VGG16* par exemple.\n",
    "\n",
    "Pour en savoir plus sur la conception et le fonctionnement de MobileNetV2, <br />\n",
    "je vous invite à lire [cet article](https://towardsdatascience.com/review-mobilenetv2-light-weight-model-image-classification-8febb490e61c).\n",
    "\n",
    "<u>Voici le schéma de son architecture globale</u> : \n",
    "\n",
    "![Architecture de MobileNetV2](img/mobilenetv2_architecture.png)\n",
    "\n",
    "Il existe une dernière couche qui sert à classer les images <br />\n",
    "selon 1000 catégories que nous ne voulons pas utiliser.<br />\n",
    "L'idée dans ce projet est de récupérer le **vecteur de caractéristiques <br />\n",
    "de dimensions (1,1,1280)** qui servira, plus tard, au travers d'un moteur <br />\n",
    "de classification à reconnaitre les différents fruits du jeu de données.\n",
    "\n",
    "Comme d'autres modèles similaires, **MobileNetV2**, lorsqu'on l'utilise <br />\n",
    "en incluant toutes ses couches, attend obligatoirement des images <br />\n",
    "de dimension (224,224,3). Nos images étant toutes de dimension (100,100,3), <br />\n",
    "nous devrons simplement les **redimensionner** avant de les confier au modèle.\n",
    "\n",
    "<u>Dans l'odre</u> :\n",
    " 1. Nous chargeons le modèle **MobileNetV2** avec les poids **précalculés** <br />\n",
    "    issus d'**imagenet** et en spécifiant le format de nos images en entrée\n",
    " 2. Nous créons un nouveau modèle avec:\n",
    "  - <u>en entrée</u> : l'entrée du modèle MobileNetV2\n",
    "  - <u>en sortie</u> : l'avant dernière couche du modèle MobileNetV2"
   ]
  },
  {
   "cell_type": "code",
   "execution_count": null,
   "id": "9cdd9bdf",
   "metadata": {},
   "outputs": [],
   "source": [
    "model = MobileNetV2(weights=\"imagenet\", include_top=True, input_shape=(224, 224, 3))\n"
   ]
  },
  {
   "cell_type": "code",
   "execution_count": null,
   "id": "99d6b68d",
   "metadata": {},
   "outputs": [],
   "source": [
    "new_model = Model(inputs=model.input, outputs=model.layers[-2].output)\n"
   ]
  },
  {
   "cell_type": "markdown",
   "id": "7b197379",
   "metadata": {},
   "source": [
    "Affichage du résumé de notre nouveau modèle où nous constatons <br />\n",
    "que <u>nous récupérons bien en sortie un vecteur de dimension (1, 1, 1280)</u> :"
   ]
  },
  {
   "cell_type": "code",
   "execution_count": null,
   "id": "e8207725",
   "metadata": {},
   "outputs": [],
   "source": [
    "# new_model.summary()\n"
   ]
  },
  {
   "cell_type": "markdown",
   "id": "2a0adcf5",
   "metadata": {},
   "source": [
    "Tous les workeurs doivent pouvoir accéder au modèle ainsi qu'à ses poids. <br />\n",
    "Une bonne pratique consiste à charger le modèle sur le driver puis à diffuser <br />\n",
    "ensuite les poids aux différents workeurs."
   ]
  },
  {
   "cell_type": "code",
   "execution_count": null,
   "id": "1cc53ff0",
   "metadata": {},
   "outputs": [],
   "source": [
    "broadcast_weights = sc.broadcast(new_model.get_weights())\n"
   ]
  },
  {
   "cell_type": "markdown",
   "id": "8bc0e34e",
   "metadata": {},
   "source": [
    "<u>Mettons cela sous forme de fonction</u> :"
   ]
  },
  {
   "cell_type": "code",
   "execution_count": null,
   "id": "3fd51ba9",
   "metadata": {},
   "outputs": [],
   "source": [
    "def model_fn():\n",
    "    \"\"\"\n",
    "    Returns a MobileNetV2 model with top layer removed\n",
    "    and broadcasted pretrained weights.\n",
    "    \"\"\"\n",
    "    model = MobileNetV2(weights=\"imagenet\", include_top=True, input_shape=(224, 224, 3))\n",
    "    for layer in model.layers:\n",
    "        layer.trainable = False\n",
    "    new_model = Model(inputs=model.input, outputs=model.layers[-2].output)\n",
    "    new_model.set_weights(broadcast_weights.value)\n",
    "    return new_model\n"
   ]
  },
  {
   "cell_type": "markdown",
   "id": "e5620876",
   "metadata": {},
   "source": [
    "### 3.7.3 Définition du processus de chargement des images et application <br/>de leur featurisation à travers l'utilisation de pandas UDF\n",
    "\n",
    "Ce notebook définit la logique par étapes, jusqu'à Pandas UDF.\n",
    "\n",
    "<u>L'empilement des appels est la suivante</u> :\n",
    "\n",
    "- Pandas UDF\n",
    "  - featuriser une série d'images pd.Series\n",
    "   - prétraiter une image"
   ]
  },
  {
   "cell_type": "code",
   "execution_count": null,
   "id": "dc4e5f69",
   "metadata": {},
   "outputs": [
    {
     "name": "stderr",
     "output_type": "stream",
     "text": [
      "/Users/jeremy/code/ocr/p8_fruits/pyspark-env/lib/python3.12/site-packages/pyspark/sql/pandas/functions.py:446: UserWarning: In Python 3.6+ and Spark 3.0+, it is preferred to specify type hints for pandas UDF instead of specifying pandas UDF type which will be deprecated in the future releases. See SPARK-28264 for more details.\n",
      "  warnings.warn(\n"
     ]
    }
   ],
   "source": [
    "def preprocess(content):\n",
    "    \"\"\"\n",
    "    Preprocesses raw image bytes for prediction.\n",
    "    \"\"\"\n",
    "    img = Image.open(io.BytesIO(content)).resize([224, 224])\n",
    "    arr = img_to_array(img)\n",
    "    return preprocess_input(arr)\n",
    "\n",
    "\n",
    "def featurize_series(model, content_series):\n",
    "    \"\"\"\n",
    "    Featurize a pd.Series of raw images using the input model.\n",
    "    :return: a pd.Series of image features\n",
    "    \"\"\"\n",
    "    input = np.stack(content_series.map(preprocess))\n",
    "    preds = model.predict(input)\n",
    "    # For some layers, output features will be multi-dimensional tensors.\n",
    "    # We flatten the feature tensors to vectors for easier storage in Spark DataFrames.\n",
    "    output = [p.flatten() for p in preds]\n",
    "    return pd.Series(output)\n",
    "\n",
    "\n",
    "@pandas_udf(\"array<float>\", PandasUDFType.SCALAR_ITER)\n",
    "def featurize_udf(content_series_iter):\n",
    "    \"\"\"\n",
    "    This method is a Scalar Iterator pandas UDF wrapping our featurization function.\n",
    "    The decorator specifies that this returns a Spark DataFrame column of type ArrayType(FloatType).\n",
    "\n",
    "    :param content_series_iter: This argument is an iterator over batches of data, where each batch\n",
    "                              is a pandas Series of image data.\n",
    "    \"\"\"\n",
    "    # With Scalar Iterator pandas UDFs, we can load the model once and then re-use it\n",
    "    # for multiple data batches.  This amortizes the overhead of loading big models.\n",
    "    model = model_fn()\n",
    "    for content_series in content_series_iter:\n",
    "        yield featurize_series(model, content_series)\n"
   ]
  },
  {
   "cell_type": "markdown",
   "id": "2bdf2ef9",
   "metadata": {},
   "source": [
    "### 3.7.4 Exécution des actions d'extraction de features\n",
    "\n",
    "Les Pandas UDF, sur de grands enregistrements (par exemple, de très grandes images), <br />\n",
    "peuvent rencontrer des erreurs de type Out Of Memory (OOM).<br />\n",
    "Si vous rencontrez de telles erreurs dans la cellule ci-dessous, <br />\n",
    "essayez de réduire la taille du lot Arrow via 'maxRecordsPerBatch'\n",
    "\n",
    "Je n'utiliserai pas cette commande dans ce projet <br />\n",
    "et je laisse donc la commande en commentaire."
   ]
  },
  {
   "cell_type": "code",
   "execution_count": null,
   "id": "1f30d28c",
   "metadata": {},
   "outputs": [],
   "source": [
    "# spark.conf.set(\"spark.sql.execution.arrow.maxRecordsPerBatch\", \"1024\")\n"
   ]
  },
  {
   "cell_type": "markdown",
   "id": "70f8f95d",
   "metadata": {},
   "source": [
    "Nous pouvons maintenant exécuter la featurisation sur l'ensemble de notre DataFrame Spark.<br />\n",
    "<u>REMARQUE</u> : Cela peut prendre beaucoup de temps, tout dépend du volume de données à traiter. <br />\n",
    "\n",
    "Notre jeu de données de **Test** contient **22819 images**. <br />\n",
    "Cependant, dans l'exécution en mode **local**, <br />\n",
    "nous <u>traiterons un ensemble réduit de **330 images**</u>."
   ]
  },
  {
   "cell_type": "code",
   "execution_count": null,
   "id": "69c1767c",
   "metadata": {},
   "outputs": [],
   "source": [
    "features_df = images.repartition(20).select(\n",
    "    col(\"path\"), col(\"label\"), featurize_udf(\"content\").alias(\"features\")\n",
    ")\n"
   ]
  },
  {
   "cell_type": "markdown",
   "id": "eb5e83ec",
   "metadata": {},
   "source": [
    "<u>Rappel du PATH où seront inscrits les fichiers au format \"**parquet**\" <br />\n",
    "contenant nos résultats, à savoir, un DataFrame contenant 3 colonnes</u> :\n",
    " 1. Path des images\n",
    " 2. Label de l'image\n",
    " 3. Vecteur de caractéristiques de l'image"
   ]
  },
  {
   "cell_type": "code",
   "execution_count": null,
   "id": "67fcdb0f",
   "metadata": {},
   "outputs": [
    {
     "name": "stdout",
     "output_type": "stream",
     "text": [
      "/Users/jeremy/code/ocr/p8/data/Results\n"
     ]
    }
   ],
   "source": [
    "print(PATH_Result)\n"
   ]
  },
  {
   "cell_type": "markdown",
   "id": "f8901db3",
   "metadata": {},
   "source": [
    "<u>Enregistrement des données traitées au format \"**parquet**\"</u> :"
   ]
  },
  {
   "cell_type": "code",
   "execution_count": null,
   "id": "ba972eba",
   "metadata": {},
   "outputs": [
    {
     "name": "stderr",
     "output_type": "stream",
     "text": [
      "\u001b[1m5/5\u001b[0m \u001b[32m━━━━━━━━━━━━━━━━━━━━\u001b[0m\u001b[37m\u001b[0m \u001b[1m2s\u001b[0m 282ms/step1)\n",
      "\u001b[1m5/5\u001b[0m \u001b[32m━━━━━━━━━━━━━━━━━━━━\u001b[0m\u001b[37m\u001b[0m \u001b[1m2s\u001b[0m 308ms/step1)\n",
      "WARNING:tensorflow:5 out of the last 11 calls to <function TensorFlowTrainer.make_predict_function.<locals>.one_step_on_data_distributed at 0x10482be20> triggered tf.function retracing. Tracing is expensive and the excessive number of tracings could be due to (1) creating @tf.function repeatedly in a loop, (2) passing tensors with different shapes, (3) passing Python objects instead of tensors. For (1), please define your @tf.function outside of the loop. For (2), @tf.function has reduce_retracing=True option that can avoid unnecessary retracing. For (3), please refer to https://www.tensorflow.org/guide/function#controlling_retracing and https://www.tensorflow.org/api_docs/python/tf/function for  more details.\n",
      "\u001b[1m4/5\u001b[0m \u001b[32m━━━━━━━━━━━━━━━━\u001b[0m\u001b[37m━━━━\u001b[0m \u001b[1m0s\u001b[0m 178ms/stepWARNING:tensorflow:5 out of the last 11 calls to <function TensorFlowTrainer.make_predict_function.<locals>.one_step_on_data_distributed at 0x10482be20> triggered tf.function retracing. Tracing is expensive and the excessive number of tracings could be due to (1) creating @tf.function repeatedly in a loop, (2) passing tensors with different shapes, (3) passing Python objects instead of tensors. For (1), please define your @tf.function outside of the loop. For (2), @tf.function has reduce_retracing=True option that can avoid unnecessary retracing. For (3), please refer to https://www.tensorflow.org/guide/function#controlling_retracing and https://www.tensorflow.org/api_docs/python/tf/function for  more details.\n",
      "\u001b[1m5/5\u001b[0m \u001b[32m━━━━━━━━━━━━━━━━━━━━\u001b[0m\u001b[37m\u001b[0m \u001b[1m1s\u001b[0m 237ms/step\n",
      "\u001b[1m5/5\u001b[0m \u001b[32m━━━━━━━━━━━━━━━━━━━━\u001b[0m\u001b[37m\u001b[0m \u001b[1m1s\u001b[0m 251ms/step1)\n",
      "\u001b[1m5/5\u001b[0m \u001b[32m━━━━━━━━━━━━━━━━━━━━\u001b[0m\u001b[37m\u001b[0m \u001b[1m1s\u001b[0m 242ms/step1) /\n",
      "\u001b[1m5/5\u001b[0m \u001b[32m━━━━━━━━━━━━━━━━━━━━\u001b[0m\u001b[37m\u001b[0m \u001b[1m1s\u001b[0m 242ms/step1) /\n",
      "\u001b[1m5/5\u001b[0m \u001b[32m━━━━━━━━━━━━━━━━━━━━\u001b[0m\u001b[37m\u001b[0m \u001b[1m1s\u001b[0m 251ms/step1)\n",
      "\u001b[1m5/5\u001b[0m \u001b[32m━━━━━━━━━━━━━━━━━━━━\u001b[0m\u001b[37m\u001b[0m \u001b[1m1s\u001b[0m 239ms/step1) /\n",
      "\u001b[1m5/5\u001b[0m \u001b[32m━━━━━━━━━━━━━━━━━━━━\u001b[0m\u001b[37m\u001b[0m \u001b[1m1s\u001b[0m 235ms/step1) /\n",
      "\u001b[1m5/5\u001b[0m \u001b[32m━━━━━━━━━━━━━━━━━━━━\u001b[0m\u001b[37m\u001b[0m \u001b[1m2s\u001b[0m 262ms/step1)\n",
      "\u001b[1m5/5\u001b[0m \u001b[32m━━━━━━━━━━━━━━━━━━━━\u001b[0m\u001b[37m\u001b[0m \u001b[1m2s\u001b[0m 256ms/step1) /\n",
      "\u001b[1m5/5\u001b[0m \u001b[32m━━━━━━━━━━━━━━━━━━━━\u001b[0m\u001b[37m\u001b[0m \u001b[1m1s\u001b[0m 255ms/step1) /\n",
      "\u001b[1m5/5\u001b[0m \u001b[32m━━━━━━━━━━━━━━━━━━━━\u001b[0m\u001b[37m\u001b[0m \u001b[1m1s\u001b[0m 196ms/step1) /\n",
      "\u001b[1m5/5\u001b[0m \u001b[32m━━━━━━━━━━━━━━━━━━━━\u001b[0m\u001b[37m\u001b[0m \u001b[1m1s\u001b[0m 254ms/step1) /\n",
      "\u001b[1m6/6\u001b[0m \u001b[32m━━━━━━━━━━━━━━━━━━━━\u001b[0m\u001b[37m\u001b[0m \u001b[1m2s\u001b[0m 209ms/step1)\n",
      "\u001b[1m6/6\u001b[0m \u001b[32m━━━━━━━━━━━━━━━━━━━━\u001b[0m\u001b[37m\u001b[0m \u001b[1m2s\u001b[0m 227ms/step1)\n",
      "\u001b[1m6/6\u001b[0m \u001b[32m━━━━━━━━━━━━━━━━━━━━\u001b[0m\u001b[37m\u001b[0m \u001b[1m1s\u001b[0m 186ms/step1)\n",
      "\u001b[1m6/6\u001b[0m \u001b[32m━━━━━━━━━━━━━━━━━━━━\u001b[0m\u001b[37m\u001b[0m \u001b[1m1s\u001b[0m 197ms/step1)\n",
      "\u001b[1m6/6\u001b[0m \u001b[32m━━━━━━━━━━━━━━━━━━━━\u001b[0m\u001b[37m\u001b[0m \u001b[1m1s\u001b[0m 186ms/step1)\n",
      "\u001b[1m6/6\u001b[0m \u001b[32m━━━━━━━━━━━━━━━━━━━━\u001b[0m\u001b[37m\u001b[0m \u001b[1m1s\u001b[0m 186ms/step1)\n",
      "                                                                                \r"
     ]
    }
   ],
   "source": [
    "features_df.write.mode(\"overwrite\").parquet(PATH_Result)\n"
   ]
  },
  {
   "cell_type": "markdown",
   "id": "de34b709",
   "metadata": {},
   "source": [
    "### 3.7.5 Réduction de dimension"
   ]
  },
  {
   "cell_type": "code",
   "execution_count": null,
   "id": "cbf36c9b",
   "metadata": {},
   "outputs": [
    {
     "name": "stderr",
     "output_type": "stream",
     "text": [
      "\u001b[1m5/5\u001b[0m \u001b[32m━━━━━━━━━━━━━━━━━━━━\u001b[0m\u001b[37m\u001b[0m \u001b[1m1s\u001b[0m 228ms/step1) /\n",
      "\u001b[1m5/5\u001b[0m \u001b[32m━━━━━━━━━━━━━━━━━━━━\u001b[0m\u001b[37m\u001b[0m \u001b[1m2s\u001b[0m 286ms/step\n",
      "\u001b[1m5/5\u001b[0m \u001b[32m━━━━━━━━━━━━━━━━━━━━\u001b[0m\u001b[37m\u001b[0m \u001b[1m1s\u001b[0m 219ms/step1) /\n",
      "\u001b[1m5/5\u001b[0m \u001b[32m━━━━━━━━━━━━━━━━━━━━\u001b[0m\u001b[37m\u001b[0m \u001b[1m1s\u001b[0m 211ms/step1) /\n",
      "\u001b[1m5/5\u001b[0m \u001b[32m━━━━━━━━━━━━━━━━━━━━\u001b[0m\u001b[37m\u001b[0m \u001b[1m1s\u001b[0m 250ms/step1)\n",
      "\u001b[1m5/5\u001b[0m \u001b[32m━━━━━━━━━━━━━━━━━━━━\u001b[0m\u001b[37m\u001b[0m \u001b[1m1s\u001b[0m 217ms/step1) /\n",
      "\u001b[1m5/5\u001b[0m \u001b[32m━━━━━━━━━━━━━━━━━━━━\u001b[0m\u001b[37m\u001b[0m \u001b[1m1s\u001b[0m 221ms/step1) /\n",
      "\u001b[1m5/5\u001b[0m \u001b[32m━━━━━━━━━━━━━━━━━━━━\u001b[0m\u001b[37m\u001b[0m \u001b[1m1s\u001b[0m 212ms/step1) /\n",
      "\u001b[1m5/5\u001b[0m \u001b[32m━━━━━━━━━━━━━━━━━━━━\u001b[0m\u001b[37m\u001b[0m \u001b[1m1s\u001b[0m 227ms/step1)\n",
      "\u001b[1m5/5\u001b[0m \u001b[32m━━━━━━━━━━━━━━━━━━━━\u001b[0m\u001b[37m\u001b[0m \u001b[1m1s\u001b[0m 223ms/step1) /\n",
      "\u001b[1m5/5\u001b[0m \u001b[32m━━━━━━━━━━━━━━━━━━━━\u001b[0m\u001b[37m\u001b[0m \u001b[1m1s\u001b[0m 246ms/step1)\n",
      "\u001b[1m5/5\u001b[0m \u001b[32m━━━━━━━━━━━━━━━━━━━━\u001b[0m\u001b[37m\u001b[0m \u001b[1m1s\u001b[0m 233ms/step1) /\n",
      "\u001b[1m5/5\u001b[0m \u001b[32m━━━━━━━━━━━━━━━━━━━━\u001b[0m\u001b[37m\u001b[0m \u001b[1m1s\u001b[0m 168ms/step1) /\n",
      "\u001b[1m5/5\u001b[0m \u001b[32m━━━━━━━━━━━━━━━━━━━━\u001b[0m\u001b[37m\u001b[0m \u001b[1m1s\u001b[0m 224ms/step1) /\n",
      "\u001b[1m6/6\u001b[0m \u001b[32m━━━━━━━━━━━━━━━━━━━━\u001b[0m\u001b[37m\u001b[0m \u001b[1m1s\u001b[0m 184ms/step1)\n",
      "\u001b[1m6/6\u001b[0m \u001b[32m━━━━━━━━━━━━━━━━━━━━\u001b[0m\u001b[37m\u001b[0m \u001b[1m1s\u001b[0m 196ms/step1)\n",
      "\u001b[1m6/6\u001b[0m \u001b[32m━━━━━━━━━━━━━━━━━━━━\u001b[0m\u001b[37m\u001b[0m \u001b[1m1s\u001b[0m 192ms/step1)\n",
      "\u001b[1m6/6\u001b[0m \u001b[32m━━━━━━━━━━━━━━━━━━━━\u001b[0m\u001b[37m\u001b[0m \u001b[1m1s\u001b[0m 196ms/step1)\n",
      "\u001b[1m6/6\u001b[0m \u001b[32m━━━━━━━━━━━━━━━━━━━━\u001b[0m\u001b[37m\u001b[0m \u001b[1m1s\u001b[0m 186ms/step1)\n",
      "\u001b[1m6/6\u001b[0m \u001b[32m━━━━━━━━━━━━━━━━━━━━\u001b[0m\u001b[37m\u001b[0m \u001b[1m2s\u001b[0m 199ms/step1)\n",
      "\u001b[1m5/5\u001b[0m \u001b[32m━━━━━━━━━━━━━━━━━━━━\u001b[0m\u001b[37m\u001b[0m \u001b[1m1s\u001b[0m 224ms/step 1) \n",
      "\u001b[1m5/5\u001b[0m \u001b[32m━━━━━━━━━━━━━━━━━━━━\u001b[0m\u001b[37m\u001b[0m \u001b[1m1s\u001b[0m 227ms/step 1) \n",
      "\u001b[1m5/5\u001b[0m \u001b[32m━━━━━━━━━━━━━━━━━━━━\u001b[0m\u001b[37m\u001b[0m \u001b[1m1s\u001b[0m 225ms/step1) /\n",
      "\u001b[1m5/5\u001b[0m \u001b[32m━━━━━━━━━━━━━━━━━━━━\u001b[0m\u001b[37m\u001b[0m \u001b[1m1s\u001b[0m 223ms/step1) /\n",
      "\u001b[1m5/5\u001b[0m \u001b[32m━━━━━━━━━━━━━━━━━━━━\u001b[0m\u001b[37m\u001b[0m \u001b[1m1s\u001b[0m 210ms/step1) /\n",
      "\u001b[1m5/5\u001b[0m \u001b[32m━━━━━━━━━━━━━━━━━━━━\u001b[0m\u001b[37m\u001b[0m \u001b[1m1s\u001b[0m 221ms/step1) /\n",
      "\u001b[1m5/5\u001b[0m \u001b[32m━━━━━━━━━━━━━━━━━━━━\u001b[0m\u001b[37m\u001b[0m \u001b[1m1s\u001b[0m 225ms/step1)\n",
      "\u001b[1m5/5\u001b[0m \u001b[32m━━━━━━━━━━━━━━━━━━━━\u001b[0m\u001b[37m\u001b[0m \u001b[1m1s\u001b[0m 228ms/step1) /\n",
      "\u001b[1m5/5\u001b[0m \u001b[32m━━━━━━━━━━━━━━━━━━━━\u001b[0m\u001b[37m\u001b[0m \u001b[1m1s\u001b[0m 218ms/step1) /\n",
      "\u001b[1m5/5\u001b[0m \u001b[32m━━━━━━━━━━━━━━━━━━━━\u001b[0m\u001b[37m\u001b[0m \u001b[1m1s\u001b[0m 212ms/step1) /\n",
      "\u001b[1m5/5\u001b[0m \u001b[32m━━━━━━━━━━━━━━━━━━━━\u001b[0m\u001b[37m\u001b[0m \u001b[1m1s\u001b[0m 228ms/step1)\n",
      "\u001b[1m5/5\u001b[0m \u001b[32m━━━━━━━━━━━━━━━━━━━━\u001b[0m\u001b[37m\u001b[0m \u001b[1m1s\u001b[0m 227ms/step1) /\n",
      "\u001b[1m5/5\u001b[0m \u001b[32m━━━━━━━━━━━━━━━━━━━━\u001b[0m\u001b[37m\u001b[0m \u001b[1m1s\u001b[0m 228ms/step1) /\n",
      "\u001b[1m5/5\u001b[0m \u001b[32m━━━━━━━━━━━━━━━━━━━━\u001b[0m\u001b[37m\u001b[0m \u001b[1m1s\u001b[0m 233ms/step1) /\n",
      "\u001b[1m5/5\u001b[0m \u001b[32m━━━━━━━━━━━━━━━━━━━━\u001b[0m\u001b[37m\u001b[0m \u001b[1m1s\u001b[0m 171ms/step1) /\n",
      "\u001b[1m5/5\u001b[0m \u001b[32m━━━━━━━━━━━━━━━━━━━━\u001b[0m\u001b[37m\u001b[0m \u001b[1m1s\u001b[0m 225ms/step1) /\n",
      "\u001b[1m6/6\u001b[0m \u001b[32m━━━━━━━━━━━━━━━━━━━━\u001b[0m\u001b[37m\u001b[0m \u001b[1m1s\u001b[0m 187ms/step1)\n",
      "\u001b[1m6/6\u001b[0m \u001b[32m━━━━━━━━━━━━━━━━━━━━\u001b[0m\u001b[37m\u001b[0m \u001b[1m1s\u001b[0m 197ms/step1)\n",
      "\u001b[1m6/6\u001b[0m \u001b[32m━━━━━━━━━━━━━━━━━━━━\u001b[0m\u001b[37m\u001b[0m \u001b[1m1s\u001b[0m 198ms/step1)\n",
      "\u001b[1m6/6\u001b[0m \u001b[32m━━━━━━━━━━━━━━━━━━━━\u001b[0m\u001b[37m\u001b[0m \u001b[1m1s\u001b[0m 203ms/step1)\n",
      "\u001b[1m6/6\u001b[0m \u001b[32m━━━━━━━━━━━━━━━━━━━━\u001b[0m\u001b[37m\u001b[0m \u001b[1m1s\u001b[0m 189ms/step1)\n",
      "\u001b[1m6/6\u001b[0m \u001b[32m━━━━━━━━━━━━━━━━━━━━\u001b[0m\u001b[37m\u001b[0m \u001b[1m1s\u001b[0m 200ms/step1)\n",
      "\u001b[1m5/5\u001b[0m \u001b[32m━━━━━━━━━━━━━━━━━━━━\u001b[0m\u001b[37m\u001b[0m \u001b[1m1s\u001b[0m 225ms/step 1) \n",
      "\u001b[1m5/5\u001b[0m \u001b[32m━━━━━━━━━━━━━━━━━━━━\u001b[0m\u001b[37m\u001b[0m \u001b[1m1s\u001b[0m 228ms/step1) /\n",
      "25/08/14 11:33:05 WARN InstanceBuilder: Failed to load implementation from:dev.ludovic.netlib.blas.JNIBLAS\n",
      "\u001b[1m5/5\u001b[0m \u001b[32m━━━━━━━━━━━━━━━━━━━━\u001b[0m\u001b[37m\u001b[0m \u001b[1m1s\u001b[0m 242ms/step1) /\n",
      "\u001b[1m5/5\u001b[0m \u001b[32m━━━━━━━━━━━━━━━━━━━━\u001b[0m\u001b[37m\u001b[0m \u001b[1m2s\u001b[0m 247ms/step1)\n",
      "\u001b[1m5/5\u001b[0m \u001b[32m━━━━━━━━━━━━━━━━━━━━\u001b[0m\u001b[37m\u001b[0m \u001b[1m1s\u001b[0m 212ms/step1) /\n",
      "\u001b[1m5/5\u001b[0m \u001b[32m━━━━━━━━━━━━━━━━━━━━\u001b[0m\u001b[37m\u001b[0m \u001b[1m1s\u001b[0m 226ms/step1) /\n",
      "\u001b[1m5/5\u001b[0m \u001b[32m━━━━━━━━━━━━━━━━━━━━\u001b[0m\u001b[37m\u001b[0m \u001b[1m1s\u001b[0m 226ms/step1) /\n",
      "\u001b[1m5/5\u001b[0m \u001b[32m━━━━━━━━━━━━━━━━━━━━\u001b[0m\u001b[37m\u001b[0m \u001b[1m1s\u001b[0m 217ms/step1) /\n",
      "\u001b[1m5/5\u001b[0m \u001b[32m━━━━━━━━━━━━━━━━━━━━\u001b[0m\u001b[37m\u001b[0m \u001b[1m1s\u001b[0m 209ms/step1) /\n",
      "\u001b[1m5/5\u001b[0m \u001b[32m━━━━━━━━━━━━━━━━━━━━\u001b[0m\u001b[37m\u001b[0m \u001b[1m1s\u001b[0m 222ms/step1) /\n",
      "\u001b[1m5/5\u001b[0m \u001b[32m━━━━━━━━━━━━━━━━━━━━\u001b[0m\u001b[37m\u001b[0m \u001b[1m1s\u001b[0m 229ms/step1) /\n",
      "\u001b[1m5/5\u001b[0m \u001b[32m━━━━━━━━━━━━━━━━━━━━\u001b[0m\u001b[37m\u001b[0m \u001b[1m1s\u001b[0m 226ms/step1) /\n",
      "\u001b[1m5/5\u001b[0m \u001b[32m━━━━━━━━━━━━━━━━━━━━\u001b[0m\u001b[37m\u001b[0m \u001b[1m1s\u001b[0m 235ms/step1) /\n",
      "\u001b[1m5/5\u001b[0m \u001b[32m━━━━━━━━━━━━━━━━━━━━\u001b[0m\u001b[37m\u001b[0m \u001b[1m1s\u001b[0m 159ms/step1) /\n",
      "\u001b[1m5/5\u001b[0m \u001b[32m━━━━━━━━━━━━━━━━━━━━\u001b[0m\u001b[37m\u001b[0m \u001b[1m2s\u001b[0m 272ms/step1)\n",
      "\u001b[1m6/6\u001b[0m \u001b[32m━━━━━━━━━━━━━━━━━━━━\u001b[0m\u001b[37m\u001b[0m \u001b[1m2s\u001b[0m 227ms/step1)\n",
      "\u001b[1m6/6\u001b[0m \u001b[32m━━━━━━━━━━━━━━━━━━━━\u001b[0m\u001b[37m\u001b[0m \u001b[1m2s\u001b[0m 223ms/step1)\n",
      "\u001b[1m6/6\u001b[0m \u001b[32m━━━━━━━━━━━━━━━━━━━━\u001b[0m\u001b[37m\u001b[0m \u001b[1m2s\u001b[0m 268ms/step\n",
      "\u001b[1m6/6\u001b[0m \u001b[32m━━━━━━━━━━━━━━━━━━━━\u001b[0m\u001b[37m\u001b[0m \u001b[1m2s\u001b[0m 240ms/step\n",
      "\u001b[1m6/6\u001b[0m \u001b[32m━━━━━━━━━━━━━━━━━━━━\u001b[0m\u001b[37m\u001b[0m \u001b[1m2s\u001b[0m 221ms/step1)\n",
      "\u001b[1m6/6\u001b[0m \u001b[32m━━━━━━━━━━━━━━━━━━━━\u001b[0m\u001b[37m\u001b[0m \u001b[1m2s\u001b[0m 226ms/step\n",
      "25/08/14 11:33:47 WARN InstanceBuilder: Failed to load implementation from:dev.ludovic.netlib.lapack.JNILAPACK\n"
     ]
    },
    {
     "name": "stdout",
     "output_type": "stream",
     "text": [
      "zsh:1: command not found: TODO:\n",
      "Number of features for 90% of variance : 235\n"
     ]
    }
   ],
   "source": [
    "to_vec = F.udf(lambda xs: Vectors.dense(xs), VectorUDT())\n",
    "df_vec = features_df.withColumn(\"features_vec\", to_vec(F.col(\"features\")))\n",
    "\n",
    "scaler = StandardScaler(\n",
    "    inputCol=\"features_vec\",\n",
    "    outputCol=\"features_scaled\",\n",
    "    withMean=True,\n",
    "    withStd=True,\n",
    ")\n",
    "\n",
    "# Step to estimate k\n",
    "k_probe = 300\n",
    "pca_probe = PCA(k=k_probe, inputCol=\"features_scaled\", outputCol=\"pca_probe\")\n",
    "\n",
    "pipe_probe = Pipeline(stages=[scaler, pca_probe])\n",
    "model_probe = pipe_probe.fit(df_vec)\n",
    "\n",
    "!TODO: Maybe elbow method\n",
    "# Choose k for >= 90%\n",
    "explained = np.array(model_probe.stages[-1].explainedVariance.toArray())\n",
    "cum = explained.cumsum()\n",
    "k90 = int(np.searchsorted(cum, 0.90) + 1)\n",
    "print(f\"Number of features for 90% of variance : {k90}\")\n"
   ]
  },
  {
   "cell_type": "code",
   "execution_count": null,
   "id": "dba3e36a",
   "metadata": {},
   "outputs": [
    {
     "data": {
      "image/png": "[encoded data removed]",
      "text/plain": [
       "<Figure size 800x500 with 1 Axes>"
      ]
     },
     "metadata": {},
     "output_type": "display_data"
    }
   ],
   "source": [
    "fig, ax1 = plt.subplots(figsize=(8, 5))\n",
    "\n",
    "ax1.bar(range(1, len(explained) + 1), explained, alpha=0.5, label=\"Explicated variance\")\n",
    "ax1.plot(\n",
    "    range(1, len(cum) + 1), cum, marker=\"o\", color=\"red\", label=\"Cumulated variance\"\n",
    ")\n",
    "\n",
    "ax1.axhline(y=0.90, color=\"green\", linestyle=\"--\", label=\"90 %\")\n",
    "ax1.axvline(x=k90, color=\"purple\", linestyle=\"--\", label=f\"k={k90}\")\n",
    "\n",
    "ax1.set_xlabel(\"Component principal\")\n",
    "ax1.set_ylabel(\"Variance\")\n",
    "ax1.set_title(\"Explicated variance for PCA\")\n",
    "ax1.legend(loc=\"best\")\n",
    "plt.tight_layout()\n",
    "plt.show()\n"
   ]
  },
  {
   "cell_type": "code",
   "execution_count": null,
   "id": "2e3f8a52",
   "metadata": {},
   "outputs": [
    {
     "name": "stderr",
     "output_type": "stream",
     "text": [
      "\u001b[1m5/5\u001b[0m \u001b[32m━━━━━━━━━━━━━━━━━━━━\u001b[0m\u001b[37m\u001b[0m \u001b[1m2s\u001b[0m 258ms/step1) /\n",
      "\u001b[1m5/5\u001b[0m \u001b[32m━━━━━━━━━━━━━━━━━━━━\u001b[0m\u001b[37m\u001b[0m \u001b[1m2s\u001b[0m 273ms/step1)\n",
      "\u001b[1m5/5\u001b[0m \u001b[32m━━━━━━━━━━━━━━━━━━━━\u001b[0m\u001b[37m\u001b[0m \u001b[1m2s\u001b[0m 258ms/step1) /\n",
      "\u001b[1m5/5\u001b[0m \u001b[32m━━━━━━━━━━━━━━━━━━━━\u001b[0m\u001b[37m\u001b[0m \u001b[1m2s\u001b[0m 261ms/step1)\n",
      "\u001b[1m5/5\u001b[0m \u001b[32m━━━━━━━━━━━━━━━━━━━━\u001b[0m\u001b[37m\u001b[0m \u001b[1m2s\u001b[0m 311ms/step\n",
      "\u001b[1m5/5\u001b[0m \u001b[32m━━━━━━━━━━━━━━━━━━━━\u001b[0m\u001b[37m\u001b[0m \u001b[1m2s\u001b[0m 328ms/step\n",
      "\u001b[1m5/5\u001b[0m \u001b[32m━━━━━━━━━━━━━━━━━━━━\u001b[0m\u001b[37m\u001b[0m \u001b[1m2s\u001b[0m 230ms/step1) /\n",
      "\u001b[1m5/5\u001b[0m \u001b[32m━━━━━━━━━━━━━━━━━━━━\u001b[0m\u001b[37m\u001b[0m \u001b[1m1s\u001b[0m 229ms/step1) /\n",
      "\u001b[1m5/5\u001b[0m \u001b[32m━━━━━━━━━━━━━━━━━━━━\u001b[0m\u001b[37m\u001b[0m \u001b[1m1s\u001b[0m 216ms/step1) /\n",
      "\u001b[1m5/5\u001b[0m \u001b[32m━━━━━━━━━━━━━━━━━━━━\u001b[0m\u001b[37m\u001b[0m \u001b[1m1s\u001b[0m 223ms/step1) /\n",
      "\u001b[1m5/5\u001b[0m \u001b[32m━━━━━━━━━━━━━━━━━━━━\u001b[0m\u001b[37m\u001b[0m \u001b[1m1s\u001b[0m 225ms/step1) /\n",
      "\u001b[1m5/5\u001b[0m \u001b[32m━━━━━━━━━━━━━━━━━━━━\u001b[0m\u001b[37m\u001b[0m \u001b[1m1s\u001b[0m 226ms/step1) /\n",
      "\u001b[1m5/5\u001b[0m \u001b[32m━━━━━━━━━━━━━━━━━━━━\u001b[0m\u001b[37m\u001b[0m \u001b[1m1s\u001b[0m 172ms/step1) /\n",
      "\u001b[1m5/5\u001b[0m \u001b[32m━━━━━━━━━━━━━━━━━━━━\u001b[0m\u001b[37m\u001b[0m \u001b[1m1s\u001b[0m 227ms/step1) /\n",
      "\u001b[1m6/6\u001b[0m \u001b[32m━━━━━━━━━━━━━━━━━━━━\u001b[0m\u001b[37m\u001b[0m \u001b[1m1s\u001b[0m 197ms/step1)\n",
      "\u001b[1m6/6\u001b[0m \u001b[32m━━━━━━━━━━━━━━━━━━━━\u001b[0m\u001b[37m\u001b[0m \u001b[1m1s\u001b[0m 186ms/step1)\n",
      "\u001b[1m6/6\u001b[0m \u001b[32m━━━━━━━━━━━━━━━━━━━━\u001b[0m\u001b[37m\u001b[0m \u001b[1m1s\u001b[0m 196ms/step1)\n",
      "\u001b[1m6/6\u001b[0m \u001b[32m━━━━━━━━━━━━━━━━━━━━\u001b[0m\u001b[37m\u001b[0m \u001b[1m1s\u001b[0m 198ms/step1)\n",
      "\u001b[1m6/6\u001b[0m \u001b[32m━━━━━━━━━━━━━━━━━━━━\u001b[0m\u001b[37m\u001b[0m \u001b[1m1s\u001b[0m 197ms/step1)\n",
      "\u001b[1m6/6\u001b[0m \u001b[32m━━━━━━━━━━━━━━━━━━━━\u001b[0m\u001b[37m\u001b[0m \u001b[1m2s\u001b[0m 206ms/step1)\n",
      "\u001b[1m5/5\u001b[0m \u001b[32m━━━━━━━━━━━━━━━━━━━━\u001b[0m\u001b[37m\u001b[0m \u001b[1m1s\u001b[0m 242ms/step 1) \n",
      "\u001b[1m5/5\u001b[0m \u001b[32m━━━━━━━━━━━━━━━━━━━━\u001b[0m\u001b[37m\u001b[0m \u001b[1m1s\u001b[0m 237ms/step 1) \n",
      "\u001b[1m5/5\u001b[0m \u001b[32m━━━━━━━━━━━━━━━━━━━━\u001b[0m\u001b[37m\u001b[0m \u001b[1m1s\u001b[0m 238ms/step1) /\n",
      "\u001b[1m5/5\u001b[0m \u001b[32m━━━━━━━━━━━━━━━━━━━━\u001b[0m\u001b[37m\u001b[0m \u001b[1m1s\u001b[0m 236ms/step1) /\n",
      "\u001b[1m5/5\u001b[0m \u001b[32m━━━━━━━━━━━━━━━━━━━━\u001b[0m\u001b[37m\u001b[0m \u001b[1m1s\u001b[0m 228ms/step1)\n",
      "\u001b[1m5/5\u001b[0m \u001b[32m━━━━━━━━━━━━━━━━━━━━\u001b[0m\u001b[37m\u001b[0m \u001b[1m1s\u001b[0m 218ms/step1) /\n",
      "\u001b[1m5/5\u001b[0m \u001b[32m━━━━━━━━━━━━━━━━━━━━\u001b[0m\u001b[37m\u001b[0m \u001b[1m1s\u001b[0m 219ms/step1) /\n",
      "\u001b[1m5/5\u001b[0m \u001b[32m━━━━━━━━━━━━━━━━━━━━\u001b[0m\u001b[37m\u001b[0m \u001b[1m1s\u001b[0m 219ms/step1) /\n",
      "\u001b[1m5/5\u001b[0m \u001b[32m━━━━━━━━━━━━━━━━━━━━\u001b[0m\u001b[37m\u001b[0m \u001b[1m1s\u001b[0m 217ms/step1) /\n",
      "\u001b[1m5/5\u001b[0m \u001b[32m━━━━━━━━━━━━━━━━━━━━\u001b[0m\u001b[37m\u001b[0m \u001b[1m1s\u001b[0m 226ms/step1) /\n",
      "\u001b[1m5/5\u001b[0m \u001b[32m━━━━━━━━━━━━━━━━━━━━\u001b[0m\u001b[37m\u001b[0m \u001b[1m1s\u001b[0m 219ms/step1) /\n",
      "\u001b[1m5/5\u001b[0m \u001b[32m━━━━━━━━━━━━━━━━━━━━\u001b[0m\u001b[37m\u001b[0m \u001b[1m1s\u001b[0m 227ms/step1) /\n",
      "\u001b[1m5/5\u001b[0m \u001b[32m━━━━━━━━━━━━━━━━━━━━\u001b[0m\u001b[37m\u001b[0m \u001b[1m1s\u001b[0m 246ms/step1)\n",
      "\u001b[1m5/5\u001b[0m \u001b[32m━━━━━━━━━━━━━━━━━━━━\u001b[0m\u001b[37m\u001b[0m \u001b[1m1s\u001b[0m 232ms/step1) /\n",
      "\u001b[1m5/5\u001b[0m \u001b[32m━━━━━━━━━━━━━━━━━━━━\u001b[0m\u001b[37m\u001b[0m \u001b[1m1s\u001b[0m 164ms/step1) /\n",
      "\u001b[1m5/5\u001b[0m \u001b[32m━━━━━━━━━━━━━━━━━━━━\u001b[0m\u001b[37m\u001b[0m \u001b[1m1s\u001b[0m 244ms/step1)\n",
      "\u001b[1m6/6\u001b[0m \u001b[32m━━━━━━━━━━━━━━━━━━━━\u001b[0m\u001b[37m\u001b[0m \u001b[1m1s\u001b[0m 195ms/step1)\n",
      "\u001b[1m6/6\u001b[0m \u001b[32m━━━━━━━━━━━━━━━━━━━━\u001b[0m\u001b[37m\u001b[0m \u001b[1m1s\u001b[0m 202ms/step1)\n",
      "\u001b[1m6/6\u001b[0m \u001b[32m━━━━━━━━━━━━━━━━━━━━\u001b[0m\u001b[37m\u001b[0m \u001b[1m1s\u001b[0m 190ms/step1)\n",
      "\u001b[1m6/6\u001b[0m \u001b[32m━━━━━━━━━━━━━━━━━━━━\u001b[0m\u001b[37m\u001b[0m \u001b[1m1s\u001b[0m 203ms/step1)\n",
      "\u001b[1m6/6\u001b[0m \u001b[32m━━━━━━━━━━━━━━━━━━━━\u001b[0m\u001b[37m\u001b[0m \u001b[1m1s\u001b[0m 191ms/step1)\n",
      "\u001b[1m6/6\u001b[0m \u001b[32m━━━━━━━━━━━━━━━━━━━━\u001b[0m\u001b[37m\u001b[0m \u001b[1m1s\u001b[0m 200ms/step1)\n",
      "\u001b[1m5/5\u001b[0m \u001b[32m━━━━━━━━━━━━━━━━━━━━\u001b[0m\u001b[37m\u001b[0m \u001b[1m1s\u001b[0m 230ms/step 1) \n",
      "\u001b[1m5/5\u001b[0m \u001b[32m━━━━━━━━━━━━━━━━━━━━\u001b[0m\u001b[37m\u001b[0m \u001b[1m1s\u001b[0m 230ms/step1) /\n",
      "\u001b[1m5/5\u001b[0m \u001b[32m━━━━━━━━━━━━━━━━━━━━\u001b[0m\u001b[37m\u001b[0m \u001b[1m1s\u001b[0m 249ms/step1)\n",
      "\u001b[1m5/5\u001b[0m \u001b[32m━━━━━━━━━━━━━━━━━━━━\u001b[0m\u001b[37m\u001b[0m \u001b[1m2s\u001b[0m 284ms/step1) /\n",
      "\u001b[1m5/5\u001b[0m \u001b[32m━━━━━━━━━━━━━━━━━━━━\u001b[0m\u001b[37m\u001b[0m \u001b[1m1s\u001b[0m 237ms/step1) /\n",
      "\u001b[1m5/5\u001b[0m \u001b[32m━━━━━━━━━━━━━━━━━━━━\u001b[0m\u001b[37m\u001b[0m \u001b[1m1s\u001b[0m 222ms/step1) /\n",
      "\u001b[1m5/5\u001b[0m \u001b[32m━━━━━━━━━━━━━━━━━━━━\u001b[0m\u001b[37m\u001b[0m \u001b[1m1s\u001b[0m 228ms/step1) /\n",
      "\u001b[1m5/5\u001b[0m \u001b[32m━━━━━━━━━━━━━━━━━━━━\u001b[0m\u001b[37m\u001b[0m \u001b[1m1s\u001b[0m 246ms/step1)\n",
      "\u001b[1m5/5\u001b[0m \u001b[32m━━━━━━━━━━━━━━━━━━━━\u001b[0m\u001b[37m\u001b[0m \u001b[1m1s\u001b[0m 221ms/step1) /\n",
      "\u001b[1m5/5\u001b[0m \u001b[32m━━━━━━━━━━━━━━━━━━━━\u001b[0m\u001b[37m\u001b[0m \u001b[1m1s\u001b[0m 220ms/step1) /\n",
      "\u001b[1m5/5\u001b[0m \u001b[32m━━━━━━━━━━━━━━━━━━━━\u001b[0m\u001b[37m\u001b[0m \u001b[1m1s\u001b[0m 234ms/step1) /\n",
      "\u001b[1m5/5\u001b[0m \u001b[32m━━━━━━━━━━━━━━━━━━━━\u001b[0m\u001b[37m\u001b[0m \u001b[1m1s\u001b[0m 239ms/step1) /\n",
      "\u001b[1m5/5\u001b[0m \u001b[32m━━━━━━━━━━━━━━━━━━━━\u001b[0m\u001b[37m\u001b[0m \u001b[1m1s\u001b[0m 255ms/step1)\n",
      "\u001b[1m5/5\u001b[0m \u001b[32m━━━━━━━━━━━━━━━━━━━━\u001b[0m\u001b[37m\u001b[0m \u001b[1m1s\u001b[0m 171ms/step1) /\n",
      "\u001b[1m5/5\u001b[0m \u001b[32m━━━━━━━━━━━━━━━━━━━━\u001b[0m\u001b[37m\u001b[0m \u001b[1m1s\u001b[0m 247ms/step1) /\n",
      "\u001b[1m6/6\u001b[0m \u001b[32m━━━━━━━━━━━━━━━━━━━━\u001b[0m\u001b[37m\u001b[0m \u001b[1m1s\u001b[0m 201ms/step1)\n",
      "\u001b[1m6/6\u001b[0m \u001b[32m━━━━━━━━━━━━━━━━━━━━\u001b[0m\u001b[37m\u001b[0m \u001b[1m1s\u001b[0m 199ms/step1)\n",
      "\u001b[1m6/6\u001b[0m \u001b[32m━━━━━━━━━━━━━━━━━━━━\u001b[0m\u001b[37m\u001b[0m \u001b[1m2s\u001b[0m 215ms/step1)\n",
      "\u001b[1m6/6\u001b[0m \u001b[32m━━━━━━━━━━━━━━━━━━━━\u001b[0m\u001b[37m\u001b[0m \u001b[1m1s\u001b[0m 198ms/step1)\n",
      "\u001b[1m6/6\u001b[0m \u001b[32m━━━━━━━━━━━━━━━━━━━━\u001b[0m\u001b[37m\u001b[0m \u001b[1m1s\u001b[0m 199ms/step1)\n",
      "\u001b[1m6/6\u001b[0m \u001b[32m━━━━━━━━━━━━━━━━━━━━\u001b[0m\u001b[37m\u001b[0m \u001b[1m2s\u001b[0m 210ms/step1)\n",
      "                                                                                \r"
     ]
    }
   ],
   "source": [
    "# DO PCA with k90\n",
    "pca_final = PCA(k=k90, inputCol=\"features_scaled\", outputCol=\"pca\")\n",
    "pipe_final = Pipeline(stages=[scaler, pca_final])\n",
    "model_final = pipe_final.fit(df_vec)\n",
    "df_pca = model_final.transform(df_vec)\n"
   ]
  },
  {
   "cell_type": "code",
   "execution_count": null,
   "id": "77d90534",
   "metadata": {},
   "outputs": [
    {
     "name": "stderr",
     "output_type": "stream",
     "text": [
      "25/08/14 11:36:21 WARN TaskSetManager: Stage 49 contains a task of very large size (2410 KiB). The maximum recommended task size is 1000 KiB.\n"
     ]
    }
   ],
   "source": [
    "model_final.write().overwrite().save(PATH_PCA_MODEL)\n"
   ]
  },
  {
   "cell_type": "code",
   "execution_count": null,
   "id": "5cd763cc",
   "metadata": {},
   "outputs": [
    {
     "name": "stderr",
     "output_type": "stream",
     "text": [
      "25/08/14 11:36:26 WARN DAGScheduler: Broadcasting large task binary with size 2.6 MiB\n",
      "\u001b[1m5/5\u001b[0m \u001b[32m━━━━━━━━━━━━━━━━━━━━\u001b[0m\u001b[37m\u001b[0m \u001b[1m1s\u001b[0m 233ms/step1) /\n",
      "\u001b[1m5/5\u001b[0m \u001b[32m━━━━━━━━━━━━━━━━━━━━\u001b[0m\u001b[37m\u001b[0m \u001b[1m1s\u001b[0m 224ms/step1) /\n",
      "\u001b[1m5/5\u001b[0m \u001b[32m━━━━━━━━━━━━━━━━━━━━\u001b[0m\u001b[37m\u001b[0m \u001b[1m1s\u001b[0m 218ms/step1) /\n",
      "\u001b[1m5/5\u001b[0m \u001b[32m━━━━━━━━━━━━━━━━━━━━\u001b[0m\u001b[37m\u001b[0m \u001b[1m1s\u001b[0m 216ms/step1) /\n",
      "\u001b[1m5/5\u001b[0m \u001b[32m━━━━━━━━━━━━━━━━━━━━\u001b[0m\u001b[37m\u001b[0m \u001b[1m1s\u001b[0m 233ms/step1)\n",
      "\u001b[1m5/5\u001b[0m \u001b[32m━━━━━━━━━━━━━━━━━━━━\u001b[0m\u001b[37m\u001b[0m \u001b[1m1s\u001b[0m 227ms/step1) /\n",
      "\u001b[1m5/5\u001b[0m \u001b[32m━━━━━━━━━━━━━━━━━━━━\u001b[0m\u001b[37m\u001b[0m \u001b[1m1s\u001b[0m 222ms/step1) /\n",
      "\u001b[1m5/5\u001b[0m \u001b[32m━━━━━━━━━━━━━━━━━━━━\u001b[0m\u001b[37m\u001b[0m \u001b[1m1s\u001b[0m 231ms/step1)\n",
      "\u001b[1m5/5\u001b[0m \u001b[32m━━━━━━━━━━━━━━━━━━━━\u001b[0m\u001b[37m\u001b[0m \u001b[1m1s\u001b[0m 218ms/step1) /\n",
      "\u001b[1m5/5\u001b[0m \u001b[32m━━━━━━━━━━━━━━━━━━━━\u001b[0m\u001b[37m\u001b[0m \u001b[1m1s\u001b[0m 242ms/step1)\n",
      "\u001b[1m5/5\u001b[0m \u001b[32m━━━━━━━━━━━━━━━━━━━━\u001b[0m\u001b[37m\u001b[0m \u001b[1m1s\u001b[0m 231ms/step1) /\n",
      "\u001b[1m5/5\u001b[0m \u001b[32m━━━━━━━━━━━━━━━━━━━━\u001b[0m\u001b[37m\u001b[0m \u001b[1m1s\u001b[0m 245ms/step1)\n",
      "\u001b[1m5/5\u001b[0m \u001b[32m━━━━━━━━━━━━━━━━━━━━\u001b[0m\u001b[37m\u001b[0m \u001b[1m1s\u001b[0m 160ms/step1) /\n",
      "\u001b[1m5/5\u001b[0m \u001b[32m━━━━━━━━━━━━━━━━━━━━\u001b[0m\u001b[37m\u001b[0m \u001b[1m1s\u001b[0m 231ms/step1) /\n",
      "\u001b[1m6/6\u001b[0m \u001b[32m━━━━━━━━━━━━━━━━━━━━\u001b[0m\u001b[37m\u001b[0m \u001b[1m1s\u001b[0m 192ms/step1)\n",
      "\u001b[1m6/6\u001b[0m \u001b[32m━━━━━━━━━━━━━━━━━━━━\u001b[0m\u001b[37m\u001b[0m \u001b[1m1s\u001b[0m 203ms/step1)\n",
      "\u001b[1m6/6\u001b[0m \u001b[32m━━━━━━━━━━━━━━━━━━━━\u001b[0m\u001b[37m\u001b[0m \u001b[1m1s\u001b[0m 196ms/step1)\n",
      "\u001b[1m6/6\u001b[0m \u001b[32m━━━━━━━━━━━━━━━━━━━━\u001b[0m\u001b[37m\u001b[0m \u001b[1m1s\u001b[0m 192ms/step1)\n",
      "\u001b[1m6/6\u001b[0m \u001b[32m━━━━━━━━━━━━━━━━━━━━\u001b[0m\u001b[37m\u001b[0m \u001b[1m2s\u001b[0m 211ms/step1)\n",
      "\u001b[1m6/6\u001b[0m \u001b[32m━━━━━━━━━━━━━━━━━━━━\u001b[0m\u001b[37m\u001b[0m \u001b[1m2s\u001b[0m 217ms/step1)\n",
      "                                                                                \r"
     ]
    }
   ],
   "source": [
    "df_pca.select(\"path\", \"label\", \"pca\").write.mode(\"overwrite\").parquet(PATH_Result_PCA)\n"
   ]
  },
  {
   "cell_type": "markdown",
   "id": "3ebbf04e",
   "metadata": {},
   "source": [
    "## 3.8 Chargement des données enregistrées et validation du résultat\n",
    "\n",
    "<u>On charge les données fraichement enregistrées dans un **DataFrame Pandas**</u> :"
   ]
  },
  {
   "cell_type": "markdown",
   "id": "40d1a9e4",
   "metadata": {},
   "source": [
    "### 3.8.1 Sans PCA"
   ]
  },
  {
   "cell_type": "code",
   "execution_count": null,
   "id": "c0322f73",
   "metadata": {},
   "outputs": [],
   "source": [
    "df = pd.read_parquet(PATH_Result, engine=\"pyarrow\")\n"
   ]
  },
  {
   "cell_type": "markdown",
   "id": "f0756f4e",
   "metadata": {},
   "source": [
    "<u>On affiche les 5 premières lignes du DataFrame</u> :"
   ]
  },
  {
   "cell_type": "code",
   "execution_count": null,
   "id": "0eb50639",
   "metadata": {},
   "outputs": [
    {
     "data": {
      "application/vnd.microsoft.datawrangler.viewer.v0+json": {
       "columns": [
        {
         "name": "index",
         "rawType": "int64",
         "type": "integer"
        },
        {
         "name": "path",
         "rawType": "object",
         "type": "string"
        },
        {
         "name": "label",
         "rawType": "object",
         "type": "string"
        },
        {
         "name": "features",
         "rawType": "object",
         "type": "unknown"
        }
       ],
       "ref": "4c425c2b-a017-46f9-b904-67906778a634",
       "rows": [
        [
         "0",
         "file:/Users/jeremy/code/ocr/p8/fruits/fruits-360-original-size/fruits-360-original-size/Test/apple_hit_1/r0_119.jpg",
         "apple_hit_1",
         "[0.16603519 0.499771   1.47335    ... 0.         0.86211115 0.53479445]"
        ],
        [
         "1",
         "file:/Users/jeremy/code/ocr/p8/fruits/fruits-360-original-size/fruits-360-original-size/Test/apple_hit_1/r0_115.jpg",
         "apple_hit_1",
         "[0.16454755 0.34861296 1.1157503  ... 0.         0.70368195 0.77124274]"
        ],
        [
         "2",
         "file:/Users/jeremy/code/ocr/p8/fruits/fruits-360-original-size/fruits-360-original-size/Test/apple_hit_1/r1_47.jpg",
         "apple_hit_1",
         "[0.0426635  0.09701779 1.3296239  ... 0.         0.5666803  0.        ]"
        ],
        [
         "3",
         "file:/Users/jeremy/code/ocr/p8/fruits/fruits-360-original-size/fruits-360-original-size/Test/apple_hit_1/r1_87.jpg",
         "apple_hit_1",
         "[0.38942748 0.0129183  0.         ... 0.3601729  0.         0.7776614 ]"
        ],
        [
         "4",
         "file:/Users/jeremy/code/ocr/p8/fruits/fruits-360-original-size/fruits-360-original-size/Test/apple_hit_1/r2_223.jpg",
         "apple_hit_1",
         "[0.01889768 0.19343294 0.19145788 ... 0.         1.3923208  0.        ]"
        ]
       ],
       "shape": {
        "columns": 3,
        "rows": 5
       }
      },
      "text/html": [
       "<div>\n",
       "<style scoped>\n",
       "    .dataframe tbody tr th:only-of-type {\n",
       "        vertical-align: middle;\n",
       "    }\n",
       "\n",
       "    .dataframe tbody tr th {\n",
       "        vertical-align: top;\n",
       "    }\n",
       "\n",
       "    .dataframe thead th {\n",
       "        text-align: right;\n",
       "    }\n",
       "</style>\n",
       "<table border=\"1\" class=\"dataframe\">\n",
       "  <thead>\n",
       "    <tr style=\"text-align: right;\">\n",
       "      <th></th>\n",
       "      <th>path</th>\n",
       "      <th>label</th>\n",
       "      <th>features</th>\n",
       "    </tr>\n",
       "  </thead>\n",
       "  <tbody>\n",
       "    <tr>\n",
       "      <th>0</th>\n",
       "      <td>file:/Users/jeremy/code/ocr/p8/fruits/fruits-3...</td>\n",
       "      <td>apple_hit_1</td>\n",
       "      <td>[0.16603519, 0.499771, 1.47335, 0.0, 0.4889720...</td>\n",
       "    </tr>\n",
       "    <tr>\n",
       "      <th>1</th>\n",
       "      <td>file:/Users/jeremy/code/ocr/p8/fruits/fruits-3...</td>\n",
       "      <td>apple_hit_1</td>\n",
       "      <td>[0.16454755, 0.34861296, 1.1157503, 0.0, 1.091...</td>\n",
       "    </tr>\n",
       "    <tr>\n",
       "      <th>2</th>\n",
       "      <td>file:/Users/jeremy/code/ocr/p8/fruits/fruits-3...</td>\n",
       "      <td>apple_hit_1</td>\n",
       "      <td>[0.042663496, 0.09701779, 1.3296239, 0.0, 0.17...</td>\n",
       "    </tr>\n",
       "    <tr>\n",
       "      <th>3</th>\n",
       "      <td>file:/Users/jeremy/code/ocr/p8/fruits/fruits-3...</td>\n",
       "      <td>apple_hit_1</td>\n",
       "      <td>[0.38942748, 0.012918297, 0.0, 0.0, 0.00819722...</td>\n",
       "    </tr>\n",
       "    <tr>\n",
       "      <th>4</th>\n",
       "      <td>file:/Users/jeremy/code/ocr/p8/fruits/fruits-3...</td>\n",
       "      <td>apple_hit_1</td>\n",
       "      <td>[0.018897679, 0.19343294, 0.19145788, 0.0, 0.0...</td>\n",
       "    </tr>\n",
       "  </tbody>\n",
       "</table>\n",
       "</div>"
      ],
      "text/plain": [
       "                                                path        label  \\\n",
       "0  file:/Users/jeremy/code/ocr/p8/fruits/fruits-3...  apple_hit_1   \n",
       "1  file:/Users/jeremy/code/ocr/p8/fruits/fruits-3...  apple_hit_1   \n",
       "2  file:/Users/jeremy/code/ocr/p8/fruits/fruits-3...  apple_hit_1   \n",
       "3  file:/Users/jeremy/code/ocr/p8/fruits/fruits-3...  apple_hit_1   \n",
       "4  file:/Users/jeremy/code/ocr/p8/fruits/fruits-3...  apple_hit_1   \n",
       "\n",
       "                                            features  \n",
       "0  [0.16603519, 0.499771, 1.47335, 0.0, 0.4889720...  \n",
       "1  [0.16454755, 0.34861296, 1.1157503, 0.0, 1.091...  \n",
       "2  [0.042663496, 0.09701779, 1.3296239, 0.0, 0.17...  \n",
       "3  [0.38942748, 0.012918297, 0.0, 0.0, 0.00819722...  \n",
       "4  [0.018897679, 0.19343294, 0.19145788, 0.0, 0.0...  "
      ]
     },
     "metadata": {},
     "output_type": "display_data"
    }
   ],
   "source": [
    "df.head()\n"
   ]
  },
  {
   "cell_type": "code",
   "execution_count": null,
   "id": "7588cb63",
   "metadata": {},
   "outputs": [
    {
     "data": {
      "text/plain": [
       "(1280,)"
      ]
     },
     "execution_count": 27,
     "metadata": {},
     "output_type": "execute_result"
    }
   ],
   "source": [
    "df.loc[0, \"features\"].shape\n"
   ]
  },
  {
   "cell_type": "markdown",
   "id": "b42ae776",
   "metadata": {},
   "source": [
    "### 3.8.2 Avec PCA"
   ]
  },
  {
   "cell_type": "code",
   "execution_count": null,
   "id": "61e42f37",
   "metadata": {},
   "outputs": [
    {
     "name": "stderr",
     "output_type": "stream",
     "text": [
      "25/08/14 11:54:00 WARN TaskSetManager: Stage 60 contains a task of very large size (2410 KiB). The maximum recommended task size is 1000 KiB.\n"
     ]
    }
   ],
   "source": [
    "model_final.write().overwrite().save(PATH_PCA_MODEL)\n"
   ]
  },
  {
   "cell_type": "code",
   "execution_count": null,
   "id": "835e7822",
   "metadata": {},
   "outputs": [
    {
     "name": "stderr",
     "output_type": "stream",
     "text": [
      "25/08/14 11:54:06 WARN DAGScheduler: Broadcasting large task binary with size 2.6 MiB\n",
      "\u001b[1m5/5\u001b[0m \u001b[32m━━━━━━━━━━━━━━━━━━━━\u001b[0m\u001b[37m\u001b[0m \u001b[1m2s\u001b[0m 247ms/step1) /\n",
      "\u001b[1m5/5\u001b[0m \u001b[32m━━━━━━━━━━━━━━━━━━━━\u001b[0m\u001b[37m\u001b[0m \u001b[1m1s\u001b[0m 244ms/step1)\n",
      "WARNING:tensorflow:5 out of the last 11 calls to <function TensorFlowTrainer.make_predict_function.<locals>.one_step_on_data_distributed at 0x104853e20> triggered tf.function retracing. Tracing is expensive and the excessive number of tracings could be due to (1) creating @tf.function repeatedly in a loop, (2) passing tensors with different shapes, (3) passing Python objects instead of tensors. For (1), please define your @tf.function outside of the loop. For (2), @tf.function has reduce_retracing=True option that can avoid unnecessary retracing. For (3), please refer to https://www.tensorflow.org/guide/function#controlling_retracing and https://www.tensorflow.org/api_docs/python/tf/function for  more details.\n",
      "\u001b[1m4/5\u001b[0m \u001b[32m━━━━━━━━━━━━━━━━\u001b[0m\u001b[37m━━━━\u001b[0m \u001b[1m0s\u001b[0m 163ms/stepWARNING:tensorflow:5 out of the last 11 calls to <function TensorFlowTrainer.make_predict_function.<locals>.one_step_on_data_distributed at 0x104853e20> triggered tf.function retracing. Tracing is expensive and the excessive number of tracings could be due to (1) creating @tf.function repeatedly in a loop, (2) passing tensors with different shapes, (3) passing Python objects instead of tensors. For (1), please define your @tf.function outside of the loop. For (2), @tf.function has reduce_retracing=True option that can avoid unnecessary retracing. For (3), please refer to https://www.tensorflow.org/guide/function#controlling_retracing and https://www.tensorflow.org/api_docs/python/tf/function for  more details.\n",
      "\u001b[1m5/5\u001b[0m \u001b[32m━━━━━━━━━━━━━━━━━━━━\u001b[0m\u001b[37m\u001b[0m \u001b[1m1s\u001b[0m 224ms/step\n",
      "\u001b[1m5/5\u001b[0m \u001b[32m━━━━━━━━━━━━━━━━━━━━\u001b[0m\u001b[37m\u001b[0m \u001b[1m1s\u001b[0m 218ms/step1) /\n",
      "\u001b[1m5/5\u001b[0m \u001b[32m━━━━━━━━━━━━━━━━━━━━\u001b[0m\u001b[37m\u001b[0m \u001b[1m1s\u001b[0m 217ms/step1) /\n",
      "\u001b[1m5/5\u001b[0m \u001b[32m━━━━━━━━━━━━━━━━━━━━\u001b[0m\u001b[37m\u001b[0m \u001b[1m1s\u001b[0m 224ms/step1) /\n",
      "\u001b[1m5/5\u001b[0m \u001b[32m━━━━━━━━━━━━━━━━━━━━\u001b[0m\u001b[37m\u001b[0m \u001b[1m1s\u001b[0m 217ms/step1) /\n",
      "\u001b[1m5/5\u001b[0m \u001b[32m━━━━━━━━━━━━━━━━━━━━\u001b[0m\u001b[37m\u001b[0m \u001b[1m1s\u001b[0m 209ms/step1) /\n",
      "\u001b[1m5/5\u001b[0m \u001b[32m━━━━━━━━━━━━━━━━━━━━\u001b[0m\u001b[37m\u001b[0m \u001b[1m1s\u001b[0m 223ms/step1) /\n",
      "\u001b[1m5/5\u001b[0m \u001b[32m━━━━━━━━━━━━━━━━━━━━\u001b[0m\u001b[37m\u001b[0m \u001b[1m1s\u001b[0m 229ms/step1) /\n",
      "\u001b[1m5/5\u001b[0m \u001b[32m━━━━━━━━━━━━━━━━━━━━\u001b[0m\u001b[37m\u001b[0m \u001b[1m1s\u001b[0m 242ms/step1)\n",
      "\u001b[1m5/5\u001b[0m \u001b[32m━━━━━━━━━━━━━━━━━━━━\u001b[0m\u001b[37m\u001b[0m \u001b[1m1s\u001b[0m 227ms/step1) /\n",
      "\u001b[1m5/5\u001b[0m \u001b[32m━━━━━━━━━━━━━━━━━━━━\u001b[0m\u001b[37m\u001b[0m \u001b[1m1s\u001b[0m 178ms/step1) /\n",
      "\u001b[1m5/5\u001b[0m \u001b[32m━━━━━━━━━━━━━━━━━━━━\u001b[0m\u001b[37m\u001b[0m \u001b[1m1s\u001b[0m 224ms/step1) /\n",
      "\u001b[1m6/6\u001b[0m \u001b[32m━━━━━━━━━━━━━━━━━━━━\u001b[0m\u001b[37m\u001b[0m \u001b[1m1s\u001b[0m 196ms/step1)\n",
      "\u001b[1m6/6\u001b[0m \u001b[32m━━━━━━━━━━━━━━━━━━━━\u001b[0m\u001b[37m\u001b[0m \u001b[1m1s\u001b[0m 198ms/step1)\n",
      "\u001b[1m6/6\u001b[0m \u001b[32m━━━━━━━━━━━━━━━━━━━━\u001b[0m\u001b[37m\u001b[0m \u001b[1m2s\u001b[0m 232ms/step\n",
      "\u001b[1m6/6\u001b[0m \u001b[32m━━━━━━━━━━━━━━━━━━━━\u001b[0m\u001b[37m\u001b[0m \u001b[1m2s\u001b[0m 240ms/step\n",
      "\u001b[1m6/6\u001b[0m \u001b[32m━━━━━━━━━━━━━━━━━━━━\u001b[0m\u001b[37m\u001b[0m \u001b[1m1s\u001b[0m 195ms/step1)\n",
      "\u001b[1m6/6\u001b[0m \u001b[32m━━━━━━━━━━━━━━━━━━━━\u001b[0m\u001b[37m\u001b[0m \u001b[1m2s\u001b[0m 229ms/step1)\n",
      "                                                                                \r"
     ]
    }
   ],
   "source": [
    "df_pca.select(\"path\", \"label\", \"pca\").write.mode(\"overwrite\").parquet(PATH_Result_PCA)\n"
   ]
  },
  {
   "cell_type": "code",
   "execution_count": null,
   "id": "c570ffab",
   "metadata": {},
   "outputs": [
    {
     "name": "stderr",
     "output_type": "stream",
     "text": [
      "25/08/14 12:07:29 WARN DAGScheduler: Broadcasting large task binary with size 2.4 MiB\n",
      "\u001b[1m4/5\u001b[0m \u001b[32m━━━━━━━━━━━━━━━━\u001b[0m\u001b[37m━━━━\u001b[0m \u001b[1m0s\u001b[0m 164ms/step 1) / "
     ]
    },
    {
     "name": "stdout",
     "output_type": "stream",
     "text": [
      "+-------------------------------------------------------------------------------------------------------------------+-----------+----------+------------------------------------------------------------------------------------------------------------------------------------------------------------------------------------------------------------------------------------------------------------------------------------------------------------------------------------------------------------------------------------------------------------------------------------------------------------------------------------------------------------------------------------------------------------------------------------------------------------------------------------------------------------------------------------------------------------------------------------------------------------------------------------------------------------------------------------------------------------------------------------------------------------------------------------------------------------------------------------------------------------------------------------------------------------------------------------------------------------------------------------------------------------------------------------------------------------------------------------------------------------------------------------------------------------------------------------------------------------------------------------------------------------------------------------------------------------------------------------------------------------------------------------------------------------------------------------------------------------------------------------------------------------------------------------------------------------------------------------------------------------------------------------------------------------------------------------------------------------------------------------------------------------------------------------------------------------------------------------------------------------------------------------------------------------------------------------------------------------------------------------------------------------------------------------------------------------------------------------------------------------------------------------------------------------------------------------------------------------------------------------------------------------------------------------------------------------------------------------------------------------------------------------------------------------------------------------------------------------------------------------------------------------------------------------------------------------------------------------------------------------------------------------------------------------------------------------------------------------------------------------------------------------------------------------------------------------------------------------------------------------------------------------------------------------------------------------------------------------------------------------------------------------------------------------------------------------------------------------------------------------------------------------------------------------------------------------------------------------------------------------------------------------------------------------------------------------------------------------------------------------------------------------------------------------------------------------------------------------------------------------------------------------------------------------------------------------------------------------------------------------------------------------------------------------------------------------------------------------------------------------------------------------------------------------------------------------------------------------------------------------------------------------------------------------------------------------------------------------------------------------------------------------------------------------------------------------------------------------------------------------------------------------------------------------------------------------------------------------------------------------------------------------------------------------------------------------------------------------------------------------------------------------------------------------------------------------------------------------------------------------------------------------------------------------------------------------------------------------------------------------------+\n",
      "|path                                                                                                               |label      |pca_length|pca                                                                                                                                                                                                                                                                                                                                                                                                                                                                                                                                                                                                                                                                                                                                                                                                                                                                                                                                                                                                                                                                                                                                                                                                                                                                                                                                                                                                                                                                                                                                                                                                                                                                                                                                                                                                                                                                                                                                                                                                                                                                                                                                                                                                                                                                                                                                                                                                                                                                                                                                                                                                                                                                                                                                                                                                                                                                                                                                                                                                                                                                                                                                                                                                                                                                                                                                                                                                                                                                                                                                                                                                                                                                                                                                                                                                                                                                                                                                                                                                                                                                                                                                                                                                                                                                                                                                                                                                                                                                                                                                                                                                                                                                                                                                                               |\n",
      "+-------------------------------------------------------------------------------------------------------------------+-----------+----------+------------------------------------------------------------------------------------------------------------------------------------------------------------------------------------------------------------------------------------------------------------------------------------------------------------------------------------------------------------------------------------------------------------------------------------------------------------------------------------------------------------------------------------------------------------------------------------------------------------------------------------------------------------------------------------------------------------------------------------------------------------------------------------------------------------------------------------------------------------------------------------------------------------------------------------------------------------------------------------------------------------------------------------------------------------------------------------------------------------------------------------------------------------------------------------------------------------------------------------------------------------------------------------------------------------------------------------------------------------------------------------------------------------------------------------------------------------------------------------------------------------------------------------------------------------------------------------------------------------------------------------------------------------------------------------------------------------------------------------------------------------------------------------------------------------------------------------------------------------------------------------------------------------------------------------------------------------------------------------------------------------------------------------------------------------------------------------------------------------------------------------------------------------------------------------------------------------------------------------------------------------------------------------------------------------------------------------------------------------------------------------------------------------------------------------------------------------------------------------------------------------------------------------------------------------------------------------------------------------------------------------------------------------------------------------------------------------------------------------------------------------------------------------------------------------------------------------------------------------------------------------------------------------------------------------------------------------------------------------------------------------------------------------------------------------------------------------------------------------------------------------------------------------------------------------------------------------------------------------------------------------------------------------------------------------------------------------------------------------------------------------------------------------------------------------------------------------------------------------------------------------------------------------------------------------------------------------------------------------------------------------------------------------------------------------------------------------------------------------------------------------------------------------------------------------------------------------------------------------------------------------------------------------------------------------------------------------------------------------------------------------------------------------------------------------------------------------------------------------------------------------------------------------------------------------------------------------------------------------------------------------------------------------------------------------------------------------------------------------------------------------------------------------------------------------------------------------------------------------------------------------------------------------------------------------------------------------------------------------------------------------------------------------------------------------------------------------------------------------------------------------------+\n",
      "|file:/Users/jeremy/code/ocr/p8/fruits/fruits-360-original-size/fruits-360-original-size/Test/apple_hit_1/r0_119.jpg|apple_hit_1|235       |[8.66237244631774,-10.734555292697562,17.01980309563735,-0.9151540179967121,-1.8284088174429558,-5.644244620377483,-3.5515341534490243,-11.174604147766814,-5.492957990893013,4.836012763650539,3.0013335099745495,2.228811410312336,-5.579038652575385,-2.2522422663608297,3.0501791838939196,-5.182878041175551,10.603567034843348,0.13866739634140063,9.14074159895225,2.955677488908738,-5.691275855100899,3.421858145384041,-7.359807159647504,5.789775916026528,0.667665080288194,-0.5172628119018022,-5.727351995523188,-6.872495383737964,5.590694111614386,-0.7723527035898492,0.3615785541629598,0.4742001973176509,-2.402195498198915,-0.31689994340585453,-2.993591938077368,-3.828075978431162,-7.543599385252621,-1.8285401928369835,-2.478337455374286,1.3807312842637285,-0.4953380068826422,-2.204805153313602,-2.8693685706031378,-0.6133729787002196,0.4884333434493354,6.322863353168346,-5.149788702297924,-0.2868667571063337,-0.7271984771007571,0.43394424068233367,1.6528972431805329,0.06987430755376889,2.949355535236614,1.5746859879949258,-1.3950941200046925,1.5851887387967227,-3.3229784366703488,3.6059148087537665,0.3022162022511584,-2.095295081127508,0.4774691910287599,-2.2527551412721234,2.516996573948725,-3.1863911948479764,1.711400337162892,1.8409533556863302,2.031615648401635,0.7204086346278227,-3.6991409317466672,0.2373490854435385,2.4462604776777965,1.1762181165780665,-0.19187931483047968,1.627922957129937,2.8721814210490253,2.4021094050137908,1.138707903665867,2.805127356736214,-3.5788548522804335,-0.649222342785946,0.19501684149377901,-1.1813896345533097,-0.18004430502917057,0.6958727991390722,1.026461328940187,-2.6469819552969884,2.714994603382431,-1.1147551454625846,-0.2983579089651046,3.4719511515669623,0.9659890965715265,-3.2230451075119477,0.16572412153157245,1.2050905587635798,1.2409891071515824,1.7342130155707618,-1.2803508499099288,0.8750080217946408,-0.16574904314973266,1.742517991928448,-0.717901868361694,1.7672604174015705,-0.11947620492102799,-2.478327747386897,1.1060517336745908,0.5974482707633744,-1.478923225833931,-1.2588940999823324,-1.03381556523404,-0.0021228513013158423,0.4988941952931538,1.8544428133447026,-0.5460766622884032,0.7510834281095871,0.9487636951610171,-0.09496431313096329,-0.27224618909307696,-0.23903562736183837,0.3296440315085638,1.433552484308581,-0.8035883930594336,1.4861435317477258,0.8900979816805126,-1.361863977674686,0.6479939258762444,1.4067009988679493,-1.766655787714519,0.6988730901934685,-0.3243298235697001,1.6425239269643461,-0.13360034408805127,-0.4273564372035028,1.146425716675739,-1.5756317263971746,0.11322333459803663,-1.2311088116164217,-0.5710128022996851,0.21520077971068988,-0.44168485592813334,-1.2758095930788182,-0.4897813846474901,0.22437652759961532,0.2628416139560483,0.47098585663140635,1.43793605039694,-0.052768155599255406,-0.12624142456912166,0.9459551622795832,-1.3165177461152848,0.738322241363968,-1.1305722903222346,0.47412511622355674,-0.644387106701484,1.0145934720402885,-3.324673958732637,0.5343547251270446,1.139554567035873,0.12228833161590946,-1.078050015187888,0.7442586454288465,-0.351210041301814,-0.7414473725165265,-1.7863806727613658,-0.8744229951254634,1.4258360773985999,-2.0709994833636105,-0.26016693675103386,-0.013773280001549315,0.15659917973072454,1.6878453942221228,0.2169125345021201,0.5915550947655699,0.758288653353639,0.37581482173406056,-0.5974970452274898,-1.4991151217010787,0.6961766878787394,-0.825230182300617,-0.6107937220215545,0.98787894679937,0.0443245449159656,0.10194894013569394,-1.4693983930732235,0.3759299464323891,-0.32775627926373785,0.7799840967952778,0.32079875300361393,0.198980521208715,1.1251310687037697,0.07280708018319379,1.2894107312703804,1.0692049943812152,-0.30668685789625155,0.21143358677794574,-2.033913461146607,-0.134042588885044,-1.72736978309664,0.18189290147524426,1.0741099639206837,-0.6252824104043772,0.3854413270571858,-0.017510501283903163,-0.08569297583208468,-0.6416987270222103,-0.3639435873585223,-2.2542559399116646,-1.59287015406828,-1.7569206792264178,-0.05734983928657089,0.7366013294787145,0.007894708607149414,0.2506932723027227,1.2794900372556808,0.4124754925398251,1.3628131732085442,-0.4493817868387261,-0.818275385746675,0.531541335225034,1.7347807166263784,-0.3355530647554352,-0.936802748037913,1.4504760892539383,0.474756995492839,-0.47508703195351365,2.43904515193225,-0.009903110294337547,0.48442905030468825,0.6119067902970262,0.5566858986768036,0.14710345250740098,0.935440560000387,-0.42625498044111887,-0.35788448321215627,0.20818124417895956,-3.076514812705667]                       |\n",
      "|file:/Users/jeremy/code/ocr/p8/fruits/fruits-360-original-size/fruits-360-original-size/Test/apple_hit_1/r0_115.jpg|apple_hit_1|235       |[10.387398230902843,-10.875901044182601,17.767574796563544,-0.43193849750609475,-1.427632807409121,-6.65156534281243,-6.382564838919619,-11.613228740701768,-5.846589670727344,5.981808618138055,3.646071568128814,2.996981259298029,-5.908931365422447,-1.071732836840971,2.5955504852387667,-6.289259562816017,12.034106166631336,-0.9245675974584859,11.042021118836429,3.9950326165381442,-6.988917819644021,5.031862305695778,-7.91247286732173,5.741747322794263,0.04159973446193327,-1.644608794383222,-5.423442575358371,-5.9948377916765505,5.662152008366615,-1.3096668053573386,-0.19410755896307075,2.2397941948775597,-3.0921034913923977,-0.19257636785769905,-3.6283606324198976,-4.141398289767581,-10.046823710930926,-1.416193556963956,-3.4347020677424718,0.4743275812834785,-0.6360316411842006,-3.8927628851058884,-3.4926219929204745,0.5385616805371232,-0.60482676613653,7.241276744355,-5.3394766398727915,0.41335686611024214,-2.274136033846627,1.1100790250574293,2.860351948228748,2.400142506982637,1.4571651739245284,1.599724601444941,-3.059700478705648,0.14787113225046178,-2.8210327874816703,4.692292140246235,1.6260497734299486,-2.0318825012238624,1.3938168502322228,-3.55754785413209,4.208070872645013,-3.196767566030297,0.672659297602022,-0.34673128753847093,2.6340721912916334,1.222601757866737,-4.382779460866212,-0.7891582549892926,1.885778861048223,1.9004899088931335,-0.9010409830063605,1.4166823001275155,3.1470104633382716,2.0100605312777633,1.8725945462045375,3.9219736781977534,-4.755445981612562,-1.7915288047764144,-0.6043548663948859,-1.3512250623795692,-0.12762318933241634,-1.3838383150212583,1.0145315562027637,-0.9768729628729382,2.894895752453338,-2.792548420526523,-1.0578002514672549,3.985970954450113,2.128630914661379,-4.683599033783403,0.2780411143029036,0.717939130852591,1.7609702212971576,2.614993253479199,-0.808896123929789,1.8496513286914258,1.1206333478911148,3.0385147627516376,-1.6779119974616061,1.0303948525098083,-0.8883704342140765,-3.049712681114239,3.103421776454992,-0.08269311932526824,-1.2029124074856254,-1.8435747837980436,-1.2359336893686592,0.3966825134370302,-0.5371624983376169,0.18570816178333213,-0.9869577014943052,0.7171779496287537,2.2514892018728165,1.4662150185771892,1.123614304317263,1.0508031569839016,0.617753907476003,1.2208609398456414,-0.531898105243717,0.805556155272745,1.676169779702237,-0.4537512923044136,1.4207215956612553,0.6561383516618478,-1.679257285790702,0.7994479001198889,-0.058231344481524006,1.5723748380924831,0.36238860154251773,0.13581335115622706,0.8246933378372723,-0.674967030137283,0.7767257044851468,-0.9122075206112192,-0.30935999664978553,-1.5286061543433456,0.2150988279050844,-1.0023574006266724,-1.6844371329327097,-0.08888172041297378,-0.15640369601173032,0.3526243937781825,2.3795444119526517,-0.2928154960338959,1.4715660553719405,0.6157971732118461,-0.5244832404437092,1.1417143785062647,-0.5079369697741544,0.03503184833309736,0.4349603866964453,0.42098852789790786,-3.0538198065788023,-0.39257217116985177,-0.15296370753294292,-0.8246350880850156,-1.096822675701434,0.5756812417814657,1.0562450968353574,-1.8771933392258409,-0.587931886258422,0.3512445380774969,1.1205367512026028,-1.0867092277118537,-0.07755060987110463,0.3202220737768009,1.1442917983968728,3.7482765287752686,-0.7054366493930779,0.786874001981713,1.3608115347510268,0.7114139483369588,-1.0332426677767916,-0.8987344759308971,-0.7810698822493871,-1.0180200667656647,-0.26286198173139796,-0.1048712138011163,-0.1258650135069449,-0.8451516849853187,-1.6999057644766582,0.9124140460095502,-0.9697830632966794,-0.3852414715222161,0.2127960677032663,0.6705425720721925,0.8479638545266464,-0.2865611255717317,0.20777949309468585,0.7694983341661537,-1.5046640698911298,-0.7747325451274958,-2.6502384993798733,0.13218093104161788,-0.8091169562226419,0.477269874718703,-0.47568973771067713,-0.48127293052097825,1.061223932634309,-0.1394366589768743,-0.7434644671345441,-1.3317919654392667,0.5417733975925424,-1.7359093516367392,-1.7365176436853589,-1.8229743901725228,0.1254323277157927,-0.06976930659687605,0.8557813884311211,1.4147024434770803,1.4388654855513334,0.7010690006854308,1.736839369124283,-0.39134849953790124,-0.025093887769175482,0.3621293049698193,0.6109105908461923,1.0103051955694704,0.1629379515702445,1.8994030424295323,0.45404478070740606,0.29624720701689655,1.8982039026027895,1.167458607244265,-0.09205075678255192,0.9013863663509215,0.22500347710276258,-0.0071852799203707685,0.45935579560133943,0.3391449695006373,-0.1401768962591552,-0.8008224356631231,-1.8270006843423192]                      |\n",
      "|file:/Users/jeremy/code/ocr/p8/fruits/fruits-360-original-size/fruits-360-original-size/Test/apple_hit_1/r1_47.jpg |apple_hit_1|235       |[4.765699384252079,-12.350522875293851,9.76413219002771,-1.289365143946392,0.6270336524427121,-1.3764690107078232,-4.103573960024325,-11.660936040571405,3.946494849109925,3.0515294726881317,2.789753022336102,-2.0396884253061094,-3.9242401445525132,-0.748891751834267,0.34448607117279745,-3.140977319435744,0.27835877214487625,-4.290799128784671,2.145861015891678,-1.359122733800422,1.255050058034449,-1.0939281520158401,-4.126583955616552,2.1200508133142613,6.354930832079701,-0.15584012033130223,-2.95122763059468,-3.4639334255246963,-2.765650694155446,1.9688514036751095,2.5115547814326966,-3.1002430078425167,1.7187353529315106,4.195270746999511,-2.78947884482729,-3.340466606337305,9.28394136082099,-5.6120655630836485,2.6833977424768634,-0.8203302947798472,-3.279260017356761,-0.20937023941112062,-0.2548120005430184,5.936740908200646,2.3656735762412118,-6.319458581915826,0.7836394490306463,-2.0411950189460826,0.5120896254126516,-2.489231217128898,-3.4475506426672204,1.8458933932583086,0.2066979257160897,-0.13190206990382575,-0.4868863034773523,-0.8421912726218967,1.208205942052511,1.434852347768181,-3.064909000017604,4.324037607403863,0.7629640491300749,-2.3002952553107394,-4.693586085937113,-1.0067075124919749,-0.9836675797395035,0.4588509967688338,-6.185386863810768,2.1874414600613687,3.2588175749490396,-6.64205521012583,-1.5761369334895035,-2.678374216960903,-0.7872006490103652,0.7440425730584428,-3.221981837530797,0.2998820259346663,-1.3475571959535748,3.208445151822723,4.50996858910157,2.7347325129644213,1.9564785801183815,1.0249859767283414,0.5139288144332577,1.780645587785592,2.616587952463282,-2.0172232501634078,-0.7140453891683674,-0.6294007613915191,1.083420093442574,-0.6093170755276495,-3.2514049695077665,4.35650773699399,0.714112416888818,4.239629061585299,-4.555961108967862,2.1335527877087683,2.9619169260692133,2.744427506043346,-0.7552088975432929,-0.9477952310701974,-1.122358584888973,0.15218786629575465,2.3846709503167283,2.723573391346065,-4.0087023682602405,2.696115057812178,-1.094005609396754,-0.22155526984455556,0.15367267625398978,0.6476434449013431,-0.5476878314303549,0.19039818036233458,-0.7219588100671109,1.9403204360139605,-1.7364697510384894,0.8358918533430834,-3.005926230840556,-1.379794051784145,0.5097241855482106,3.5271903571217456,2.1672365599268537,-0.08629146820429184,2.1146766269880586,-0.09879427834411716,-0.7138260387727966,3.0075558484014104,0.7592144186348191,-2.6504557728726867,-2.6209004044447464,-0.9968229375337748,-0.4983912535761815,0.372306270643151,0.67773998760185,-3.8466195333421522,-0.07526887226494006,0.8779000430450704,0.6595019241293817,0.43340567820569054,2.384023075307371,-0.844160974204814,0.3778665051399912,0.5970968085634493,-2.601144169648923,1.6685960505346893,-1.4137821851748864,-2.372644645865125,-0.5660560991940384,0.3088868393927765,0.44693721659198027,-1.1437528100838419,-0.6736775512700106,2.8369016594967356,-0.13524635741152813,0.2894933115594337,0.44123661076210685,0.6253092514088203,-0.5539417618673382,-0.9373545429586322,1.026695600841721,-0.4658148165397753,-0.2805339014908579,-1.6416187654312986,1.045702292221784,-0.036163646696293184,-3.2287903246237444,1.4103214756957243,1.5429095584576236,-1.3178338128157643,0.2511925876427726,1.5045830147257693,-4.110112978447113,2.179540416434423,-0.3098431965423739,0.21341569405277439,-1.792567926334765,0.24893033020341115,0.08439212935621077,0.7707554836159083,-0.47186147878206847,-0.4783535542703934,0.3783668131213769,0.5836101602952195,0.23795159085965945,0.2936503850935697,-0.18954144234202353,-0.8368076763548451,0.7461889301166199,-1.0406653060705624,1.1118506559693726,1.4192592082814164,-1.507209022814803,0.888025909899092,-0.2083086419687797,-1.7143383265965422,1.346966295415802,-0.5004809463608798,-0.8129880790579374,-0.7562312052549611,0.46596390241917685,-0.2175031867688304,0.10282392269166696,0.8606669768044086,-0.1485256057535086,0.004196751611381444,1.8716478045815723,-0.845870276010622,-0.001583992484590846,-0.24187088776937837,-0.8359395570475748,-1.2494671224136729,0.09287852066275626,2.002215896135749,-0.333063265610601,-0.06610511622834703,0.40315317594024513,1.034112198178631,-0.8507377349812062,-0.8657364446732339,1.576500552281338,1.3402567729229407,0.23801120950694554,-0.21001968269247362,0.7811027500093881,-0.16146580576194047,0.10768679347091403,1.660380922102265,0.7528682897177034,0.022569083495762865,-0.4641290600986342,0.881034418792992,0.5585047673287066,0.08765534701099881,1.4918906221618973,-1.0302198129752358,-0.8007831571489592]                                 |\n",
      "|file:/Users/jeremy/code/ocr/p8/fruits/fruits-360-original-size/fruits-360-original-size/Test/apple_hit_1/r1_87.jpg |apple_hit_1|235       |[-1.411990282182765,-14.581577502977556,-5.1375145638278665,-1.5392642996914099,6.421488259043385,3.1472358787040324,-9.169190718706757,-4.611223431917848,3.198367184264749,1.3304659253510884,4.191376480967499,-1.2541687926317664,-1.330107049033331,3.8538678562488498,-4.315638304583368,0.9094368377306442,-4.159911384860315,-0.5317273901070417,-3.64145390806099,-2.3840574700539494,-1.460658957772694,-0.29104179282386394,0.9367391334007821,1.1081203549046517,1.1447039014408242,-2.540392577147518,-0.29087477531003736,3.3119226462205065,4.709812649488623,-0.537082440231636,-0.01691986870072293,3.9973870278862766,1.6847468942219155,-0.5760693724813057,-1.3566342768360449,3.6511109099640198,5.505759165956528,4.025390167531051,3.9396937429594643,-0.0759966044900714,0.22156332367483556,-0.6311467164088569,0.6407013418285074,-0.7838514417847972,1.4300714491151616,0.18327279419623235,-6.440786304737239,-0.7143755759435421,-2.9526428708412316,-0.6026263567703402,-0.9511588805081623,-5.729377017377878,0.011156424885448248,-1.7791940553655916,-2.281984522713195,0.6186540284489339,-1.0499775077585864,0.5485969501793792,-2.2307783271724286,-0.5304729847320571,1.9733143363948125,-1.4450617789739832,-1.2289053418554658,-0.9963693044139144,0.5643953904332772,-4.104139530730439,2.8384591846751195,0.6756410507266378,-0.7411505321379543,0.9301024681108898,1.3370792259615656,-5.002100544017487,-0.04927918848355142,1.9928885362738185,1.8883347897878608,-0.8641941100349964,-0.2763255350335713,2.3701870616190366,0.8394430090275602,0.22643375377326125,-0.26798851131489815,1.2399604305266996,-0.6346018586275634,-0.9709762487053244,2.367128646185737,-0.20694462560307825,0.6615977504507025,0.5353740630147129,-0.9216966006733804,0.4522938045742868,-1.1316126860541629,0.1846976474349662,1.321782468503907,1.7078674601880508,1.3211574061507,0.7616983150404361,0.7140877321740867,0.7152428819746817,1.2310111331564886,2.1535089132415997,-1.8628962700879261,0.5988736049858694,1.0975229346512159,0.5882019795505575,0.7663788795918471,0.6225592650515891,-1.482480721496683,0.45035882433792823,0.7881877162642184,2.81720709698056,0.05291738996017062,-0.242169651658177,1.330541127014915,0.804471865635777,1.2646917397919428,-1.9904358590218054,-1.4748336995446165,-2.157281745848619,1.1444441851003853,-0.9416001127740972,-0.10524143628197502,0.0017081412289156467,2.5726589347834774,-1.4819289090347474,0.1882039320746629,-2.6049488580783366,1.2475917956693607,0.12317118021509543,0.4658931911315827,1.0997440300332368,3.888427375030325,0.15380074279982947,-1.0274128781033538,0.4217662984477204,-0.7120578530285037,-1.1838194974379554,0.7054312108405294,-0.8483071023337108,0.28296106292627654,0.009943418515921384,-0.28775412058838656,-0.7114478351027351,1.5598551526726074,0.3010177158139582,-1.732107384163828,-0.13175030335803986,0.11013601143169693,-2.532117374163465,1.1211849805105787,-1.5721760591466558,0.3570013751306762,0.6187338698146215,-1.3867492323111157,-0.9516244979251549,1.0375193731098755,-1.709359011852555,0.11755040152862892,0.2877011256809626,1.1385969865773995,-1.4055119337229653,-0.44614769688829614,1.4369054508178762,0.556854417211924,0.10912204556875005,0.32458387956946316,-2.49944479237626,0.8409012373174235,0.2583055900493243,-0.3536492713084215,-2.508477767111997,1.1639377716110304,1.2615218114011828,-1.7153867649498273,-0.5821758609887617,-1.0179030522219115,0.37281992315520185,-0.8895771880649248,0.7538798592243038,-0.8483901495679962,-0.41703287024700697,-0.8186029889142892,-1.760007728496967,2.101497268824045,-0.6908560607723635,0.285779640410152,-0.35587059668863763,0.9736019334431842,-0.2637129094025785,1.0344195544083425,-1.3324864659822604,1.1172924525161314,0.5110959859606625,-0.050610150338293525,0.7794976844861319,-0.550921092315161,0.7041850909437057,1.9281059033979182,3.1348595703188473,1.122354138005738,-0.6641684740106433,-1.004816363968356,-0.5345944115440457,0.6619987489894603,-0.4621152229731009,0.0380412459670465,0.6417986057395482,0.5162049614387682,-0.5920703617305877,0.01923995793022798,1.428254162288177,-0.5351370454130144,0.3994408950381073,-0.7269650173737973,-2.295109339363225,-0.6205021126503294,-0.07313017393112783,-0.8201409048128079,1.0038334647597866,-0.6110855644210378,-1.948315378764934,-1.1555443745722598,0.27220219708332444,1.6694990991214786,-0.7105264786117317,0.695585523187628,1.0058733392236574,-1.3359035387212854,1.0950607872768434,0.14905221896912035,-0.6894649145070227,-1.0335082809487217,0.8801476488964375,-1.1750830559811114,-0.4059151654062045,0.48839731954987736]             |\n",
      "|file:/Users/jeremy/code/ocr/p8/fruits/fruits-360-original-size/fruits-360-original-size/Test/apple_hit_1/r2_223.jpg|apple_hit_1|235       |[2.5851678987038014,-14.93259747545411,-1.1466129877557558,-2.990614754418649,7.211384237692604,2.618312436251711,-13.777328881367364,-7.255447265197998,7.034115032864531,3.123590987270533,0.6463096213150026,-0.06036188692800515,-2.2724145916416956,6.5146030696123125,-4.997081856003133,-1.1223138025301993,0.8827785888331623,0.11786798941285996,-5.6144546643593785,-1.7112207739237253,-4.7010481906701775,1.0531498887016424,-0.6924318136232894,-1.1523698592009495,-5.112628043489607,-0.8725444854799513,-2.8758877499012367,6.140950179498307,2.1139715351444655,6.048968920580474,-0.4778996791120067,-0.16047658647846927,0.42632770955030774,-1.8977289993960318,-2.1387049441852004,3.871713981762661,1.8249328459366905,-1.0794558931308673,-2.436375560002584,-2.3797695698429053,-3.185808851898258,-1.867145499134345,1.8438814447627552,-2.5110028311837795,1.6410550136999151,0.11549765047415472,-1.2551796231865002,-0.40029045115269146,2.0842820725545446,-1.0553805809481556,-2.6152721545889674,-1.4483738393046492,-1.3640262271626742,0.38568259310689934,0.7060919984446843,-2.105846623838577,1.7577496934695682,-2.461693059702333,0.9966698854149042,3.001804371826604,-0.5841875337100558,3.3903479014619755,2.6754136040181407,-0.1973086643085054,0.8723895735343357,5.2194470943407545,-1.3572713252874893,2.099093284114959,0.8990451024451013,1.6760483223506204,1.7526441460628743,-0.5927238788750305,0.9979387159053065,1.661811648984396,-0.1409547137648808,-0.30696513654515534,-1.2502198192522873,2.0303269168187517,-4.388964755430371,0.9733844641116596,0.6357927062561524,2.711953816693779,1.3401830108067507,-3.154974155588561,1.1798194939117472,-0.29670477443105236,0.6447190118913475,-0.39391306066870524,0.7046245465508336,1.102569163332367,1.3135661941645482,-0.3042460388391854,-1.3611454175345252,-0.705926130622671,-0.20459084834710106,0.4486205152246087,1.3691843019049348,0.6900928338759853,1.7520202922333805,0.5249427048573145,-0.0022239516161026707,-3.247845164948159,-3.280094855216707,2.109505258022127,2.491782581251438,2.55117271205658,0.4440164126308326,-2.3299841146367535,-0.38138207567019156,1.2890426592917428,2.137017453643061,2.81155346460098,-2.3818434363743215,-0.34552187883063856,-0.17333226660675338,-3.801267819590845,1.6659418424059635,1.7283248969298914,3.0045043956377007,0.46660126529962354,-1.7738128961389248,-0.6238017108753453,0.5369939259099026,0.6515889167695891,-0.1480814172090296,0.4468314031187032,-0.612358184564277,-0.8108294914792524,-0.7300677209228874,0.8074698662804465,0.4908375844224659,0.5642868238122474,-0.3609868362375047,1.3665105615233482,-1.6776503722585256,-0.634947645668583,-2.055678697561468,0.023625255534780676,-0.20120065095533055,0.5843710062371616,-1.1698958388838654,0.9111982172351034,1.2706457092379273,-0.19624642594027736,-1.1899765509781486,-1.1835475829887834,-1.4406360583800453,-1.9215427088493438,-0.4772668621002124,1.974961083452481,-0.3032014113345771,-0.7817220837773114,-1.1724054370056338,-0.8052537102907116,-0.3853478725944763,-3.091389846542933,-1.4446500411427559,1.5522045328528624,0.03906737704331603,-0.37648607565223685,-0.28548509761111135,1.5090635509784778,-1.0514794315488172,2.533122177907978,1.383307255582376,-0.3961432034360418,-0.6308865184171758,-0.02899812738280083,0.08204897460332816,-2.4971708387232985,0.6022629928016889,0.25821473007912243,2.4577009089447364,0.4995681210879178,1.1022250161732088,1.2553216648251802,-2.1269928569873615,0.016228067283188652,-0.5505017761538054,0.984974728292217,1.0672623289396286,0.8809490532499517,0.41320298730335003,0.5135451601817604,1.7965099413597274,1.0394569225581956,1.3312040557735039,0.7713730796165784,-0.4451590284538257,0.19016649221014237,-0.8583029017454986,-0.09038855391260903,-0.5352140735041333,-0.7649866608573161,0.5903468021752696,-0.015097922581132038,-0.5697578453264758,1.1709893992789573,-1.1614119238878429,1.4814807751401373,-0.4678000626965354,0.42245552179454554,0.45044780776882387,-0.43313644610787677,1.6003409027831426,-0.5092519652657799,-1.030822109640205,-0.08117895403733166,0.3987923966953957,-0.8882982390842351,1.3622373367068275,-0.6549328209334706,-0.8424739338532199,1.58796919679494,1.1548084115665325,0.4108057358492032,-0.6014380551836411,-0.7365149594682904,-0.6151896427489842,-0.41858840902055283,-0.8518825178339021,3.034832135571955,0.042530995687091,-0.985903874335976,-1.5584114903977333,-0.2762810599835861,0.4157980474069414,-0.4888339291571743,-0.5413748027005452,-0.5291782236743463,1.4689126203542324,-0.9490461522343319,2.010417789085886,-1.5782787384275279,1.6927060666240243]|\n",
      "+-------------------------------------------------------------------------------------------------------------------+-----------+----------+------------------------------------------------------------------------------------------------------------------------------------------------------------------------------------------------------------------------------------------------------------------------------------------------------------------------------------------------------------------------------------------------------------------------------------------------------------------------------------------------------------------------------------------------------------------------------------------------------------------------------------------------------------------------------------------------------------------------------------------------------------------------------------------------------------------------------------------------------------------------------------------------------------------------------------------------------------------------------------------------------------------------------------------------------------------------------------------------------------------------------------------------------------------------------------------------------------------------------------------------------------------------------------------------------------------------------------------------------------------------------------------------------------------------------------------------------------------------------------------------------------------------------------------------------------------------------------------------------------------------------------------------------------------------------------------------------------------------------------------------------------------------------------------------------------------------------------------------------------------------------------------------------------------------------------------------------------------------------------------------------------------------------------------------------------------------------------------------------------------------------------------------------------------------------------------------------------------------------------------------------------------------------------------------------------------------------------------------------------------------------------------------------------------------------------------------------------------------------------------------------------------------------------------------------------------------------------------------------------------------------------------------------------------------------------------------------------------------------------------------------------------------------------------------------------------------------------------------------------------------------------------------------------------------------------------------------------------------------------------------------------------------------------------------------------------------------------------------------------------------------------------------------------------------------------------------------------------------------------------------------------------------------------------------------------------------------------------------------------------------------------------------------------------------------------------------------------------------------------------------------------------------------------------------------------------------------------------------------------------------------------------------------------------------------------------------------------------------------------------------------------------------------------------------------------------------------------------------------------------------------------------------------------------------------------------------------------------------------------------------------------------------------------------------------------------------------------------------------------------------------------------------------------------------------------------------------------------------------------------------------------------------------------------------------------------------------------------------------------------------------------------------------------------------------------------------------------------------------------------------------------------------------------------------------------------------------------------------------------------------------------------------------------------------------------------------------------------------------------------------------------------+\n",
      "only showing top 5 rows\n"
     ]
    },
    {
     "name": "stderr",
     "output_type": "stream",
     "text": [
      "\u001b[1m5/5\u001b[0m \u001b[32m━━━━━━━━━━━━━━━━━━━━\u001b[0m\u001b[37m\u001b[0m \u001b[1m1s\u001b[0m 235ms/step\n",
      "                                                                                \r"
     ]
    }
   ],
   "source": [
    "df_pca.select(\n",
    "    \"path\", \"label\", size(vector_to_array(\"pca\")).alias(\"pca_length\"), \"pca\"\n",
    ").show(5, truncate=False)\n"
   ]
  },
  {
   "cell_type": "markdown",
   "id": "9a36434a",
   "metadata": {},
   "source": [
    "On valide que la dimension du vecteur de caractéristiques des images est bien de dimension 1280 <b>sans PCA</b>\n",
    "\n",
    "<u><b>Avec PCA</b>, et en gardant un nombre de caractéristiques qui explique 90 % de la variance, la dimension du vecteur n'est plus que de 235</u>"
   ]
  },
  {
   "cell_type": "markdown",
   "id": "34e7a912",
   "metadata": {},
   "source": [
    "Nous venons de valider le processus sur un jeu de données allégé en local <br />\n",
    "où nous avons simulé un cluster de machines en répartissant la charge de travail <br />\n",
    "sur différents cœurs de processeur au sein d'une même machine.\n",
    "\n",
    "Nous allons maintenant généraliser le processus en déployant notre solution <br />\n",
    "sur un réel cluster de machines et nous travaillerons désormais sur la totalité <br />\n",
    "des 22819 images de notre dossier \"Test\"."
   ]
  },
  {
   "cell_type": "markdown",
   "id": "a0f0f7c1",
   "metadata": {},
   "source": [
    "# 4. Déploiement de la solution sur le cloud\n",
    "\n",
    "Maintenant que nous avons vérifié que notre solution fonctionne, <br />\n",
    "il est temps de la <u>déployer à plus grande échelle sur un vrai cluster de machines</u>.\n",
    "\n",
    "**Attention**, *je travaille sous Linux avec une version Ubuntu, <br />\n",
    "les commandes décrites ci-dessous sont donc réalisées <br />\n",
    "exclusivement dans cet environnement.*\n",
    "\n",
    "<u>Plusieurs contraintes se posent</u> :\n",
    " 1. Quel prestataire de Cloud choisir ?\n",
    " 2. Quelles solutions de ce prestataire adopter ?\n",
    " 3. Où stocker nos données ?\n",
    " 4. Comment configurer nos outils dans ce nouvel environnement ?\n",
    " \n",
    "## 4.1 Choix du prestataire cloud : AWS\n",
    "\n",
    "Le prestataire le plus connu et qui offre à ce jour l'offre <br />\n",
    "la plus large dans le cloud computing est **Amazon Web Services** (AWS).<br />\n",
    "Certaines de leurs offres sont parfaitement adaptées à notre problématique <br />\n",
    "et c'est la raison pour laquelle j'utiliserai leurs services.\n",
    "\n",
    "L'objectif premier est de pouvoir, grâce à AWS, <u>louer de la puissance de calcul à la demande</u>. <br />\n",
    "L'idée étant de pouvoir, quel que soit la charge de travail, <br />\n",
    "obtenir suffisamment de puissance de calcul pour pouvoir traiter nos images, <br />\n",
    "même si le volume de données venait à fortement augmenter.\n",
    "\n",
    "De plus, la capacité d'utiliser cette puissance de calcul à la demande <br />\n",
    "permet de diminuer drastiquement les coûts si l'on compare les coûts d'une location <br />\n",
    "de serveur complet sur une durée fixe (1 mois, 1 année par exemple).\n",
    "\n",
    "## 4.2 Choix de la solution technique : EMR\n",
    "\n",
    "<u>Plusieurs solutions s'offre à nous</u> :\n",
    "1. Solution **IAAS** (Infrastructure AS A Service)\n",
    " - Dans cette configuration **AWS** met à notre disposition des serveurs vierges <br />\n",
    "   sur lequel nous avons un accès en administrateur, ils sont nommés **instance EC2**.<br />\n",
    "   Pour faire simple, nous pouvons avec cette solution reproduire pratiquement <br />\n",
    "   à l'identique la solution mis en œuvre en local sur notre machine.<br />\n",
    "   <u>On installe nous-même l'intégralité des outils puis on exécute notre script</u> :\n",
    "  - Installation de **Spark**, **Java** etc.\n",
    "  - Installation de **Python** (via Anaconda par exemple)\n",
    "  - Installation de **Jupyter Notebook**\n",
    "  - Installation des **librairies complémentaires**\n",
    "  - Il faudra bien évidement veiller à **implémenter les librairies \n",
    "    nécessaires à toutes les machines (workers) du cluster**\n",
    "  - <u>Avantages</u> :\n",
    "      - Liberté totale de mise en œuvre de la solution\n",
    "      - Facilité de mise en œuvre à partir d'un modèle qui s'exécute en local sur une machine Linux\n",
    "  - <u>Inconvénients</u> :\n",
    "      - Cronophage\n",
    "          - Nécessité d'installer et de configurer toute la solution\n",
    "      - Possible problèmes techniques à l'installation des outils (des problématiques qui <br />\n",
    "        n'existaient pas en local sur notre machine peuvent apparaitre sur le serveur EC2)\n",
    "      - Solution non pérenne dans le temps, il faudra veiller à la mise à jour des outils <br />\n",
    "        et éventuellement devoir réinstaller Spark, Java etc. \n",
    "2. Solution **PAAS** (Plateforme As A Service)\n",
    " - **AWS** fournit énormément de services différents, dans l'un de ceux-là <br />\n",
    "   il existe une offre qui permet de louer des **instances EC2** <br />\n",
    "   avec des applications préinstallées et configurées : il s'agit du **service EMR**.\n",
    " - **Spark** y sera déjà installé\n",
    " - Possibilité de demander l'installation de **Tensorflow** ainsi que **JupyterHub**\n",
    " - Possibilité d'indiquer des **packages complémentaires** à installer <br />\n",
    "   à l'initialisation du serveur **sur l'ensemble des machines du cluster**.\n",
    " - <u>Avantages</u> :\n",
    "     - Facilité de mise en œuvre\n",
    "         - Il suffit de très peu de configuration pour obtenir <br />\n",
    "           un environnement parfaitement fonctionnel\n",
    "     - Rapidité de mise en œuvre\n",
    "         - Une fois la première configuration réalisée, il est très facile <br />\n",
    "           et très rapide de recréer des clusters à l'identique qui seront <br />\n",
    "           disponibles presque instantanément (le temps d'instancier les <br />\n",
    "           serveurs soit environ 15/20 minutes)\n",
    "     - Solutions matérielless et logicielles optimisées par les ingénieurs d'AWS\n",
    "         - On sait que les versions installées vont fonctionner <br />\n",
    "           et que l'architecture proposée est optimisée\n",
    "     - Stabilité de la solution\n",
    "    - Solution évolutive\n",
    "        Il est facile d’obtenir à chaque nouvelle instanciation une version à jour <br />\n",
    "        de chaque package, en étant garanti de leur compatibilité avec le reste de l’environnement.\n",
    "  - Plus sécurisé\n",
    "\t- Les éventuels patchs de sécurité seront automatiquement mis à jour <br />\n",
    "      à chaque nouvelle instanciation du cluster EMR.\n",
    " - <u>Inconvénients</u> :\n",
    "     - Peut-être un certain manque de liberté sur la version des packages disponibles ? <br />\n",
    "       Même si je n'ai pas constaté ce problème.\n",
    "   \n",
    "\n",
    "Je retiens la solution **PAAS** en choisissant d'utiliser <br />\n",
    "le service **EMR** d'Amazon Web Services.<br />\n",
    "Je la trouve plus adaptée à notre problématique et permet <br />\n",
    "une mise en œuvre qui soit à la fois plus rapide et <br />\n",
    "plus efficace que la solution IAAS.\n",
    "\n",
    "## 4.3 Choix de la solution de stockage des données : Amazon S3\n",
    "\n",
    "<u>Amazon propose une solution très efficace pour la gestion du stockage des données</u> : **Amazon S3**. <br />\n",
    "S3 pour Amazon Simple Storage Service.\n",
    "\n",
    "Il pourrait être tentant de stocker nos données sur l'espace alloué par le serveur **EC2**, <br />\n",
    "mais si nous ne prenons aucune mesure pour les sauvegarder ensuite sur un autre support, <br />\n",
    "<u>les données seront perdues</u> lorsque le serveur sera résilié (on résilie le serveur lorsqu'on <br />\n",
    "ne s'en sert pas pour des raisons de coût).<br />\n",
    "De fait, si l'on décide d'utiliser l'espace disque du serveur EC2 il faudra imaginer <br />\n",
    "une solution pour sauvegarder les données avant la résiliation du serveur.\n",
    "De plus, nous serions exposés à certaines problématiques si nos données venaient à <br />\n",
    "**saturer** l'espace disponible de nos serveurs (ralentissements, disfonctionnements).\n",
    "\n",
    "<u>Utiliser **Amazon S3** permet de s'affranchir de toutes ces problématiques</u>. <br />\n",
    "L'espace disque disponible est **illimité**, et il est **indépendant de nos serveurs EC2**. <br />\n",
    "L'accès aux données est **très rapide** car nous restons dans l'environnement d'AWS <br />\n",
    "et nous prenons soin de <u>choisir la même région pour nos serveurs **EC2** et **S3**</u>.\n",
    "\n",
    "De plus, comme nous le verrons <u>il est possible d'accéder aux données sur **S3** <br />\n",
    "    de la même manière que l'on **accède aux données sur un disque local**</u>.<br />\n",
    "Nous utiliserons simplement un **PATH au format s3://...** .\n",
    "\n",
    "## 4.4 Configuration de l'environnement de travail\n",
    "\n",
    "La première étape est d'installer et de configurer [**AWS Cli**](https://aws.amazon.com/fr/cli/),<br />\n",
    "il s'agit de l'**interface en ligne de commande d'AWS**.<br />\n",
    "Elle nous permet d'**interagir avec les différents services d'AWS**, comme **S3** par exemple.\n",
    "\n",
    "Pour pouvoir utiliser **AWS Cli**, il faut le configurer en créant préalablement <br />\n",
    "un utilisateur à qui on donnera les autorisations dont nous aurons besoin.<br />\n",
    "Dans ce projet il faut que l'utilisateur ait à minima un contrôle total sur le service S3.\n",
    "\n",
    "<u>La gestion des utilisateurs et de leurs droits s'effectue via le service **AMI**</u> d'AWS.\n",
    "\n",
    "Une fois l'utilisateur créé et ses autorisations configurées nous créons une **paire de clés** <br />\n",
    "qui nous permettra de nous **connecter sans à avoir à devoir saisir systématiquement notre login/mot de passe**.<br />\n",
    "\n",
    "Il faut également configurer l'**accès SSH** à nos futurs serveurs EC2. <br />\n",
    "Ici aussi, via un système de clés qui nous dispense de devoir nous authentifier \"à la main\" à chaque connexion.\n",
    "\n",
    "Toutes ses étapes de configuration sont parfaitement décrites <br />\n",
    "dans le cours du projet: [Découvrez le cloud avec Amazon Web Services / Faites vos premiers pas sur AWS](https://openclassrooms.com/fr/courses/4810836-decouvrez-le-cloud-avec-amazon-web-services/7821712-faites-vos-premiers-pas-sur-aws)\n",
    "\n",
    "## 4.5 Upload de nos données sur S3\n",
    "\n",
    "Nos outils sont configurés. <br />\n",
    "Il faut maintenant uploader nos données de travail sur Amazon S3.\n",
    "\n",
    "Ici aussi les étapes sont décrites avec précision <br />\n",
    "dans le cours [Découvrez le cloud avec Amazon Web Services / Stockez et accédez à des fichiers sur Amazon S3](https://openclassrooms.com/fr/courses/4810836-decouvrez-le-cloud-avec-amazon-web-services/7822690-stockez-et-accedez-a-des-fichiers-sur-amazon-s3)\n",
    "\n",
    "Je décide de n'uploader que les données contenues dans le dossier **Test** du [jeu de données du projet](https://www.kaggle.com/moltean/fruits/download)\n",
    "\n",
    "\n",
    "La première étape consiste à **créer un bucket sur S3** <br />\n",
    "dans lequel nous uploaderons les données du projet:\n",
    "- **aws s3 mb s3://p8-data**\n",
    "\n",
    "On vérifie que le bucket à bien été créé\n",
    "- **aws s3 ls**\n",
    " - Si le nom du bucket s'affiche alors c'est qu'il a été correctement créé.\n",
    "\n",
    "On copie ensuite le contenu du dossier \"**Test**\" <br />\n",
    "dans un répertoire \"**Test**\" sur notre bucket \"**p8-data**\":\n",
    "1. On se place à l'intérieur du répertoire **Test**\n",
    "2. **aws sync . s3://p8-data/Test**\n",
    "\n",
    "La commande **sync** est utile pour synchroniser deux répertoires.\n",
    "\n",
    "<u>Nos données du projet sont maintenant disponibles sur Amazon S3</u>.\n",
    "\n",
    "## 4.6 Configuration du serveur EMR\n",
    "\n",
    "Une fois encore, le cours [Découvrez le cloud avec Amazon Web Services / Découvrez les services d'Amazon EC2](https://openclassrooms.com/fr/courses/4810836-decouvrez-le-cloud-avec-amazon-web-services/7822091-demarrez-votre-premiere-instance-ec2) <br /> détaille l'essentiel des étapes pour lancer un cluster avec **EMR**.\n",
    "\n",
    "<u>Je détaillerai ici les étapes particulières qui nous permettent <br />\n",
    "de configurer le serveur selon nos besoins</u> :\n",
    "\n",
    "1. Cliquez sur Créer un cluster\n",
    "![Créer un cluster](img/EMR_creer.png)\n",
    "2. Cliquez sur Accéder aux options avancées\n",
    "![Créer un cluster](img/EMR_options_avancees.png)\n",
    "\n",
    "### 4.6.1 Étape 1 : Logiciels et étapes\n",
    "\n",
    "#### 4.6.1.1 Configuration des logiciels\n",
    "\n",
    "<u>Sélectionnez les packages dont nous aurons besoin comme dans la capture d'écran</u> :\n",
    "1. Nous sélectionnons la dernière version d'**EMR**, soit la version **6.3.0** au moment où je rédige ce document\n",
    "2. Nous cochons bien évidement **Hadoop** et **Spark** qui seront préinstallés dans leur version la plus récente\n",
    "3. Nous aurons également besoin de **TensorFlow** pour importer notre modèle et réaliser le **transfert learning**\n",
    "4. Nous travaillerons enfin avec un **notebook Jupyter** via l'application **JupyterHub**<br />\n",
    " - Comme nous le verrons dans un instant nous allons <u>paramétrer l'application afin que les notebooks</u>, <br />\n",
    "   comme le reste de nos données de travail, <u>soient enregistrés directement sur S3</u>.\n",
    "![Créer un cluster](img/EMR_configuration_logiciels.png)\n",
    "\n",
    "#### 4.6.1.2 Modifier les paramètres du logiciel\n",
    "\n",
    "<u>Paramétrez la persistance des notebooks créés et ouvert via JupyterHub</u> :\n",
    "- On peut à cette étape effectuer des demandes de paramétrage particulières sur nos applications. <br />\n",
    "  L'objectif est, comme pour le reste de nos données de travail, <br />\n",
    "  d'éviter toutes les problématiques évoquées précédemment. <br />\n",
    "  C'est l'objectif à cette étape, <u>nous allons enregistrer <br />\n",
    "  et ouvrir les notebooks</u> non pas sur l'espace disque de  l'instance EC2 (comme <br />\n",
    "  ce serait le cas dans la configuration par défaut de JupyterHub) mais <br />\n",
    "  <u>directement sur **Amazon S3**</u>.\n",
    "- <u>deux solutions sont possibles pour réaliser cela</u> :\n",
    " 1. Créer un **fichier de configuration JSON** que l'on **upload sur S3** et on indique ensuite le chemin d’accès au fichier JSON\n",
    " 2. Rentrez directement la configuration au format JSON\n",
    " \n",
    "J'ai personnellement créé un fichier JSON lors de la création de ma première instance EMR, <br />\n",
    "puis lorsqu'on décide de cloner notre serveur pour en recréer un facilement à l'identique, <br />\n",
    "la configuration du fichier JSON se retrouve directement copié comme dans la capture ci-dessous.\n",
    "\n",
    "<u>Voici le contenu de mon fichier JSON</u> :  [{\"classification\":\"jupyter-s3-conf\",\"properties\":{\"s3.persistence.bucket\":\"p8-data\",\"s3.persistence.enabled\":\"true\"}}]\n",
    " Appuyez ensuite sur \"**Suivant**\"\n",
    "![Modifier les paramètres du logiciel](img/EMR_parametres_logiciel.png)\n",
    "\n",
    "### 4.6.2 Étape 2 : Matériel\n",
    "\n",
    "A cette étape, laissez les choix par défaut. <br />\n",
    "<u>L'important ici est la sélection de nos instances</u> :\n",
    "\n",
    "1. je choisi les instances de type **M5** qui sont des **instances de type équilibrés**\n",
    "2. je choisi le type **xlarge** qui est l'instance la **moins onéreuse disponible**\n",
    " [Plus d'informations sur les instances M5 Amazon EC2](https://aws.amazon.com/fr/ec2/instance-types/m5/)\n",
    "3. Je sélectionne **1 instance Maître** (le driver) et **2 instances Principales** (les workeurs) <br />\n",
    "   soit **un total de 3 instance EC2**.\n",
    "![Choix du materiel](img/EMR_materiel.png)\n",
    "\n",
    "### 4.6.3 Étape 3 : Paramètres de cluster généraux\n",
    "\n",
    "#### 4.6.3.1 Options générales\n",
    "<u>La première chose à faire est de donner un nom au cluster</u> :<br />\n",
    "*J'ai également décoché \"Protection de la résiliation\" pour des raisons pratiques.*\n",
    "    \n",
    "![Nom du Cluster](img/EMR_nom_cluster.png)\n",
    "\n",
    "#### 4.6.3.2 Actions d'amorçage\n",
    "\n",
    "Nous allons à cette étape **choisir les packages manquants à installer** et qui <br />\n",
    "nous serons utiles dans l'exécution de notre notebook.<br />\n",
    "<u>L'avantage de réaliser cette étape maintenant est que les packages <br />\n",
    "installés le seront sur l'ensemble des machines du cluster</u>.\n",
    "\n",
    "Nous créons un fichier nommé \"**bootstrap-emr.sh**\" que nous <u>uploadons <br />\n",
    "sur S3</u>(je l’installe à la racine de mon **bucket \"p8-data\"**) et nous l'ajoutons <br />\n",
    "comme indiqué dans la capture d'écran ci-dessous:\n",
    "![Actions d'amorcage](img/EMR_amorcage.png)\n",
    "\n",
    "Voici le contenu du fichier **bootstrap-emr.sh**<br />\n",
    "Comme on peut le constater il s'agit simplement de commande \"**pip install**\" <br />\n",
    "pour **installer les bibliothèques manquantes** comme réalisé en local.<br />\n",
    "Une fois encore, <u>il est nécessaire de réaliser ces actions à cette étape</u> <br />\n",
    "pour que <u>les packages soient installés sur l'ensemble des machines du cluster</u> <br />\n",
    "et non pas uniquement sur le driver, comme cela serait le cas si nous exécutions <br />\n",
    "ces commandes directement dans le notebook JupyterHub ou dans la console EMR (connecté au driver).\n",
    "![Contenu du fichier bootstrap](img/EMR_bootstrap.png)\n",
    "\n",
    "**setuptools** et **pip** sont mis à jour pour éviter une problématique <br />\n",
    "avec l'installation du package **pyarrow**.<br />\n",
    "**Pandas** a eu droit à une mise à jour majeur (1.3.0) il y a moins d'une semaine <br />\n",
    "au moment de la rédaction de ce notebook, et la nouvelle version de **Pandas** <br />\n",
    "nécessite une version plus récente de **Numpy** que la version installée par <br />\n",
    "défaut (1.16.5) à l'initialisation des instances **EC2**. <u>Il ne semble pas <br />\n",
    "possible d'imposer une autre version de Numpy que celle installé par <br />\n",
    "défaut</u> même si on force l'installation d'une version récente de **Numpy** <br />\n",
    "(en tout cas, ni simplement ni intuitivement).<br />\n",
    "La mise à jour étant très récente <u>la version de **Numpy** n'est pas encore <br />\n",
    "mise à jour sur **EC2**</u> mais on peut imaginer que ce sera le cas très rapidement <br />\n",
    "et il ne sera plus nécessaire d'imposer une version spécifique de **Pandas**.<br />\n",
    "En attendant, je demande <u>l'installation de l'avant dernière version de **Pandas (1.2.5)**</u>\n",
    "\n",
    "On clique ensuite sur ***Suivant***\n",
    "\n",
    "### 4.6.4 Étape 4 : Sécurité\n",
    "\n",
    "#### 4.6.4.1 Options de sécurité\n",
    "\n",
    "A cette étape nous sélectionnons la **paire de clés EC2** créé précédemment. <br />\n",
    "Elle nous permettra de se connecter en **ssh** à nos **instances EC2** <br />\n",
    "sans avoir à entrer nos login/mot de passe.<br />\n",
    "On laisse les autres paramètres par défaut. <br />\n",
    "Et enfin, on clique sur \"***Créer un cluster***\"\n",
    " \n",
    "![EMR Sécurité](img/EMR_securite.png)\n",
    "\n",
    "## 4.7 Instanciation du serveur\n",
    "\n",
    "Il ne nous reste plus qu'à attendre que le serveur soit prêt. <br />\n",
    "Cette étape peut prendre entre **15 et 20 minutes**.\n",
    "\n",
    "<u>Plusieurs étapes s'enchaîne, on peut suivre l'avancé du statut du **cluster EMR**</u> :\n",
    "\n",
    "![Instanciation étape 1](img/EMR_instanciation_01.png)\n",
    "![Instanciation étape 2](img/EMR_instanciation_02.png)\n",
    "![Instanciation étape 3](img/EMR_instanciation_03.png)\n",
    "\n",
    "<u>Lorsque le statut affiche en vert: \"**En attente**\" cela signifie que l'instanciation <br />\n",
    "s'est bien déroulée et que notre serveur est prêt à être utilisé</u>. \n",
    "\n",
    "## 4.8 Création du tunnel SSH à l'instance EC2 (Maître)\n",
    "\n",
    "### 4.8.1 Création des autorisations sur les connexions entrantes\n",
    "\n",
    "<u>Nous souhaitons maintenant pouvoir accéder à nos applications</u> :\n",
    " - **JupyterHub** pour l'exécution de notre notebook\n",
    " - **Serveur d'historique Spark** pour le suivi de l'exécution <br />\n",
    "   des tâches de notre script lorsqu'il sera lancé\n",
    " \n",
    "Cependant, <u>ces applications ne sont accessibles que depuis le réseau local du driver</u>, <br />\n",
    "et pour y accéder nous devons **créer un tunnel SSH vers le driver**.\n",
    "\n",
    "Par défaut, ce driver se situe derrière un firewall qui bloque l'accès en SSH. <br />\n",
    "<u>Pour ouvrir le port 22 qui correspond au port sur lequel écoute le serveur SSH, <br />\n",
    "il faut modifier le **groupe de sécurité EC2 du driver**</u>.\n",
    "\n",
    "*Il faudra que l'on se connecte en SSH au driver de notre cluster. <br />\n",
    "Par défaut, ce driver se situe derrière un firewall qui bloque l'accès en SSH. <br />\n",
    "Pour ouvrir le port 22 qui correspond au port sur lequel écoute le serveur SSH, <br />\n",
    "il faut modifier le groupe de sécurité EC2 du driver. Sur la page de la console <br />\n",
    "consacrée à EC2, dans l'onglet \"Réseau et sécurité\", cliquez sur \"Groupes de sécurité\". <br />\n",
    "Vous allez devoir modifier le groupe de sécurité d’ElasticMapReduce-Master. <br />\n",
    "Dans l'onglet \"Entrant\", ajoutez une règle SSH dont la source est \"N'importe où\" <br />\n",
    "(ou \"Mon IP\" si vous disposez d'une adresse IP fixe).*\n",
    "\n",
    "![Configuration autorisation ports entrants pour ssh](img/EMR_config_ssh_01.png)\n",
    "\n",
    "<u>Une fois cette étape réalisée vous devriez avoir une configuration semblable à la mienne</u> :\n",
    "\n",
    "![Configuration ssh terminée](img/EMR_config_ssh_02.png)\n",
    "\n",
    "### 4.8.2 Création du tunnel ssh vers le Driver\n",
    "\n",
    "On peut maintenant établir le **tunnel SSH** vers le **Driver**. <br />\n",
    "Pour cela on récupère les informations de connexion fournis par Amazon <br />\n",
    "depuis la page du service EMR / Cluster / onglet Récapitulatif en <br />\n",
    "cliquant sur \"**Activer la connexion Web**\"\n",
    "\n",
    "![Activer la connexion Web](img/EMR_tunnel_ssh_01.png)\n",
    "\n",
    "<u>On récupère ensuite la commande fournis par Amazon pour **établir le tunnel SSH**</u> :\n",
    "\n",
    "![Récupérer la commande pour établir le tunnel ssh](img/EMR_tunnel_ssh_02.png)\n",
    "\n",
    "<u>Dans mon cas, la commande ne fonctionne pas tel</u> quel et j'ai du **l'adapter à ma configuration**. <br />\n",
    "La **clé ssh** se situe dans un dossier \"**.ssh**\" elle-même située dans <br />\n",
    "mon **répertoire personnel** dont le symbole est, sous Linux, identifié par un tilde \"**~**\".\n",
    "\n",
    "<u>Finalement, j'utilise la commande suivante dans un terminal pour établir <br />\n",
    "    mon tunnel ssh (seul l'URL change d'une instance à une autre)</u> : <br />\n",
    "\"**ssh -i ~/.ssh/p8-ec2.pem -D 5555 hadoop@ec2-35-180-91-39.eu-west-3.compute.amazonaws.com**\"\n",
    "\n",
    "<u>On inscrit \"**yes**\" pour valider la connexion et si <br />\n",
    "    la connexion est établit on obtient le résultat suivant</u> :\n",
    "\n",
    "![Création du tunnel SSH](img/EMR_connexion_ssh_01.png)\n",
    "\n",
    "Nous avons **correctement établi le tunnel ssh avec le driver** sur le port \"5555\".\n",
    "\n",
    "### 4.8.3 Configuration de FoxyProxy\n",
    "\n",
    "Une dernière étape est nécessaire pour accéder à nos applications, <br />\n",
    "en demandant à notre navigateur d'emprunter le tunnel ssh.<br />\n",
    "J'utilise pour cela **FoxyProxy**.\n",
    "\n",
    "Sinon, ouvrez la configuration de **FoxyProxy** et <u>cliquez sur **Ajouter**</u> en haut à gauche <br />\n",
    "puis renseigner les éléments comme dans la capture ci-dessous :\n",
    "\n",
    "![Configuration FoxyProxy Etape 1](img/EMR_foxyproxy_config_01.png)\n",
    "\n",
    "<u>On obtient le résultat ci-dessous</u> :\n",
    "\n",
    "![Configuration FoxyProxy Etape 2](img/EMR_foxyproxy_config_02.png)\n",
    "\n",
    "\n",
    "### 4.8.4 Accès aux applications du serveur EMR via le tunnel ssh\n",
    "\n",
    "\n",
    "<u>Avant d'établir notre **tunnel ssh** nous avions ça</u> :\n",
    "\n",
    "![avant tunnel ssh](img/EMR_tunnel_ssh_avant.png)\n",
    "\n",
    "<u>On active le **tunnel ssh** comme vu précédemment puis on demande <br />\n",
    "à notre navigateur de l'utiliser avec **FoxyProxy**</u> :\n",
    "\n",
    "![FoxyProxy activation](img/EMR_foxyproxy_activation.png)\n",
    "\n",
    "<u>On peut maintenant s'apercevoir que plusieurs applications nous sont accessibles</u> :\n",
    "\n",
    "![avant tunnel ssh](img/EMR_tunnel_ssh_apres.png)\n",
    "\n",
    "## 4.9 Connexion au notebook JupyterHub\n",
    "\n",
    "Pour se connecter à **JupyterHub** en vue d'exécuter notre **notebook**, <br />\n",
    "il faut commencer par <u>cliquer sur l'application **JupyterHub**</u> apparu <br />\n",
    "depuis que nous avons configuré le **tunnel ssh** et **foxyproxy** sur <br />\n",
    "notre navigateur (actualisez la page si ce n’est pas le cas).\n",
    "\n",
    "![Démarrage de JupyterHub](img/EMR_jupyterhub_connexion_01.png)\n",
    "\n",
    "On passe les éventuels avertissements de sécurité puis <br />\n",
    "nous arrivons sur une page de connexion.\n",
    "    \n",
    "<u>On se connecte avec les informations par défaut</u> :\n",
    " - <u>login</u>: **jovyan**\n",
    " - <u>password</u>: **jupyter**\n",
    " \n",
    "![Connexion à JupyterHub](img/EMR_jupyterhub_connexion_02.png)\n",
    "\n",
    "Nous arrivons ensuite dans un dossier vierge de notebook.<br />\n",
    "Il suffit d'en créer un en cliquant sur \"**New**\" en haut à droite.\n",
    "\n",
    "![Liste et création des notebook](img/EMR_jupyterhub_creer_notebooks.png)\n",
    "\n",
    "Il est également possible d'en <u>uploader un directement dans notre **bucket S3**</u>.\n",
    "\n",
    "Grace à la <u>**persistance** paramétrée à l'instanciation du cluster <br />\n",
    "nous sommes actuellement dans l'arborescence de notre **bucket S3**</u>\n",
    "\n",
    "![Notebook stockés sur S3](img/EMR_jupyterhub_S3.png)\n",
    "\n",
    "Je décide d'**importer un notebook déjà rédigé en local directement <br />\n",
    "sur S3** et je l'ouvre depuis **l'interface JupyterHub**.\n",
    "\n",
    "## 4.10 Exécution du code\n",
    "\n",
    "Je décide d'exécuter cette partie du code depuis **JupyterHub hébergé sur notre cluster EMR**.<br />\n",
    "Pour ne pas alourdir inutilement les explications du **notebook**, je ne réexpliquerai pas les étapes communes <br />\n",
    "que nous avons déjà vues dans la première partie où l'on a exécuté le code localement sur notre machine virtuelle Ubuntu.\n",
    "\n",
    "<u>Avant de commencer</u>, il faut s'assurer d'utiliser le **kernel pyspark**.\n",
    "\n",
    "**En utilisant ce kernel, une session spark est créé à l'exécution de la première cellule**. <br />\n",
    "Il n'est donc **plus nécessaire d'exécuter le code \"spark = (SparkSession ...\"** comme lors <br />\n",
    "de l'exécution de notre notebook en local sur notre VM Ubuntu."
   ]
  },
  {
   "cell_type": "markdown",
   "id": "4e759c1e",
   "metadata": {},
   "source": [
    "### 4.10.1 Démarrage de la session Spark"
   ]
  },
  {
   "cell_type": "code",
   "execution_count": null,
   "id": "e5f0fbe1",
   "metadata": {},
   "outputs": [
    {
     "name": "stdout",
     "output_type": "stream",
     "text": [
      "Starting Spark application\n"
     ]
    },
    {
     "data": {
      "text/html": [
       "<table>\n",
       "<tr><th>ID</th><th>YARN Application ID</th><th>Kind</th><th>State</th><th>Spark UI</th><th>Driver log</th><th>Current session?</th></tr><tr><td>0</td><td>application_1755508786551_0002</td><td>pyspark</td><td>idle</td><td><a target=\"_blank\" href=\"http://ip-172-31-17-210.eu-west-3.compute.internal:20888/proxy/application_1755508786551_0002/\">Link</a></td><td><a target=\"_blank\" href=\"http://ip-172-31-18-192.eu-west-3.compute.internal:8042/node/containerlogs/container_1755508786551_0002_01_000001/livy\">Link</a></td><td>✔</td></tr></table>"
      ],
      "text/plain": [
       "<IPython.core.display.HTML object>"
      ]
     },
     "metadata": {},
     "output_type": "display_data"
    },
    {
     "data": {
      "application/vnd.jupyter.widget-view+json": {
       "model_id": "",
       "version_major": 2,
       "version_minor": 0
      },
      "text/plain": [
       "FloatProgress(value=0.0, bar_style='info', description='Progress:', layout=Layout(height='25px', width='50%'),…"
      ]
     },
     "metadata": {},
     "output_type": "display_data"
    },
    {
     "name": "stdout",
     "output_type": "stream",
     "text": [
      "SparkSession available as 'spark'.\n"
     ]
    },
    {
     "data": {
      "application/vnd.jupyter.widget-view+json": {
       "model_id": "",
       "version_major": 2,
       "version_minor": 0
      },
      "text/plain": [
       "FloatProgress(value=0.0, bar_style='info', description='Progress:', layout=Layout(height='25px', width='50%'),…"
      ]
     },
     "metadata": {},
     "output_type": "display_data"
    }
   ],
   "source": [
    "# L'exécution de cette cellule démarre l'application Spark\n"
   ]
  },
  {
   "cell_type": "markdown",
   "id": "3aba202f",
   "metadata": {},
   "source": [
    "<u>Affichage des informations sur la session en cours et liens vers Spark UI</u> :"
   ]
  },
  {
   "cell_type": "code",
   "execution_count": null,
   "id": "fb788991",
   "metadata": {},
   "outputs": [
    {
     "data": {
      "text/html": [
       "Current session configs: <tt>{'driverMemory': '1000M', 'executorCores': 2, 'proxyUser': 'jovyan', 'kind': 'pyspark'}</tt><br>"
      ],
      "text/plain": [
       "<IPython.core.display.HTML object>"
      ]
     },
     "metadata": {},
     "output_type": "display_data"
    },
    {
     "data": {
      "text/html": [
       "<table>\n",
       "<tr><th>ID</th><th>YARN Application ID</th><th>Kind</th><th>State</th><th>Spark UI</th><th>Driver log</th><th>Current session?</th></tr><tr><td>0</td><td>application_1755508786551_0002</td><td>pyspark</td><td>idle</td><td><a target=\"_blank\" href=\"http://ip-172-31-17-210.eu-west-3.compute.internal:20888/proxy/application_1755508786551_0002/\">Link</a></td><td><a target=\"_blank\" href=\"http://ip-172-31-18-192.eu-west-3.compute.internal:8042/node/containerlogs/container_1755508786551_0002_01_000001/livy\">Link</a></td><td>✔</td></tr></table>"
      ],
      "text/plain": [
       "<IPython.core.display.HTML object>"
      ]
     },
     "metadata": {},
     "output_type": "display_data"
    }
   ],
   "source": [
    "%%info\n"
   ]
  },
  {
   "cell_type": "markdown",
   "id": "27ac9832",
   "metadata": {},
   "source": [
    "### 4.10.2 Installation des packages\n",
    "\n",
    "Les packages nécessaires ont été installé via l'étape de **bootstrap** à l'instanciation du serveur.\n",
    "\n",
    "### 4.10.3 Import des librairies"
   ]
  },
  {
   "cell_type": "code",
   "execution_count": null,
   "id": "ad562eab",
   "metadata": {},
   "outputs": [
    {
     "data": {
      "application/vnd.jupyter.widget-view+json": {
       "model_id": "",
       "version_major": 2,
       "version_minor": 0
      },
      "text/plain": [
       "FloatProgress(value=0.0, bar_style='info', description='Progress:', layout=Layout(height='25px', width='50%'),…"
      ]
     },
     "metadata": {},
     "output_type": "display_data"
    }
   ],
   "source": [
    "import pandas as pd\n",
    "import numpy as np\n",
    "import io\n",
    "import os\n",
    "import time\n",
    "import tensorflow as tf\n",
    "from PIL import Image\n",
    "from tensorflow.keras.applications.mobilenet_v2 import MobileNetV2, preprocess_input\n",
    "from tensorflow.keras.preprocessing.image import img_to_array\n",
    "from tensorflow.keras import Model\n",
    "from pyspark.sql.functions import (\n",
    "    col,\n",
    "    pandas_udf,\n",
    "    PandasUDFType,\n",
    "    element_at,\n",
    "    split,\n",
    "    size,\n",
    ")\n",
    "from pyspark.ml.linalg import Vectors, VectorUDT\n",
    "from pyspark.ml.feature import StandardScaler, PCA\n",
    "from pyspark.ml import Pipeline, PipelineModel\n",
    "from pyspark.ml.functions import vector_to_array\n",
    "from pyspark.sql import functions as F\n"
   ]
  },
  {
   "cell_type": "markdown",
   "id": "83663cbd",
   "metadata": {},
   "source": [
    "### 4.10.4 Définition des PATH pour charger les images et enregistrer les résultats\n",
    "\n",
    "Nous accédons directement à nos **données sur S3** comme si elles étaient **stockées localement**."
   ]
  },
  {
   "cell_type": "code",
   "execution_count": null,
   "id": "46be859d",
   "metadata": {},
   "outputs": [
    {
     "data": {
      "application/vnd.jupyter.widget-view+json": {
       "model_id": "",
       "version_major": 2,
       "version_minor": 0
      },
      "text/plain": [
       "FloatProgress(value=0.0, bar_style='info', description='Progress:', layout=Layout(height='25px', width='50%'),…"
      ]
     },
     "metadata": {},
     "output_type": "display_data"
    },
    {
     "name": "stdout",
     "output_type": "stream",
     "text": [
      "PATH:        s3://ocr-data-science-p8-fruits\n",
      "PATH_Data:   s3://ocr-data-science-p8-fruits/Test\n",
      "PATH_Result: s3://ocr-data-science-p8-fruits/Results\n",
      "PATH_Model_PCA: s3://ocr-data-science-p8-fruits/Model_PCA"
     ]
    }
   ],
   "source": [
    "PATH = \"s3://ocr-data-science-p8-fruits\"\n",
    "PATH_Data = PATH + \"/Test\"\n",
    "PATH_Result = PATH + \"/Results\"\n",
    "PATH_Model_PCA = PATH + \"/Model_PCA\"\n",
    "print(\n",
    "    \"PATH:        \"\n",
    "    + PATH\n",
    "    + \"\\nPATH_Data:   \"\n",
    "    + PATH_Data\n",
    "    + \"\\nPATH_Result: \"\n",
    "    + PATH_Result\n",
    "    + \"\\nPATH_Model_PCA: \"\n",
    "    + PATH_Model_PCA\n",
    ")\n"
   ]
  },
  {
   "cell_type": "markdown",
   "id": "cf883c20",
   "metadata": {},
   "source": [
    "### 4.10.5 Traitement des données"
   ]
  },
  {
   "cell_type": "markdown",
   "id": "2ffe93f5",
   "metadata": {},
   "source": [
    "#### 4.10.5.1 Chargement des données"
   ]
  },
  {
   "cell_type": "code",
   "execution_count": null,
   "id": "7e4b319a",
   "metadata": {},
   "outputs": [
    {
     "data": {
      "application/vnd.jupyter.widget-view+json": {
       "model_id": "",
       "version_major": 2,
       "version_minor": 0
      },
      "text/plain": [
       "FloatProgress(value=0.0, bar_style='info', description='Progress:', layout=Layout(height='25px', width='50%'),…"
      ]
     },
     "metadata": {},
     "output_type": "display_data"
    },
    {
     "name": "stdout",
     "output_type": "stream",
     "text": [
      "22688"
     ]
    }
   ],
   "source": [
    "images = (\n",
    "    spark.read.format(\"binaryFile\")\n",
    "    .option(\"pathGlobFilter\", \"*.jpg\")\n",
    "    .option(\"recursiveFileLookup\", \"true\")\n",
    "    .load(PATH_Data)\n",
    ")\n",
    "images.count()\n"
   ]
  },
  {
   "cell_type": "markdown",
   "id": "8b32ac34",
   "metadata": {},
   "source": [
    "<u>Je ne conserve que le **path** de l'image et j'ajoute <br />\n",
    "    une colonne contenant les **labels** de chaque image</u> :"
   ]
  },
  {
   "cell_type": "code",
   "execution_count": null,
   "id": "a52ab808",
   "metadata": {},
   "outputs": [
    {
     "data": {
      "application/vnd.jupyter.widget-view+json": {
       "model_id": "",
       "version_major": 2,
       "version_minor": 0
      },
      "text/plain": [
       "FloatProgress(value=0.0, bar_style='info', description='Progress:', layout=Layout(height='25px', width='50%'),…"
      ]
     },
     "metadata": {},
     "output_type": "display_data"
    },
    {
     "name": "stdout",
     "output_type": "stream",
     "text": [
      "root\n",
      " |-- path: string (nullable = true)\n",
      " |-- modificationTime: timestamp (nullable = true)\n",
      " |-- length: long (nullable = true)\n",
      " |-- content: binary (nullable = true)\n",
      " |-- label: string (nullable = true)\n",
      "\n",
      "None\n",
      "+-------------------------------------------------------------+----------+\n",
      "|path                                                         |label     |\n",
      "+-------------------------------------------------------------+----------+\n",
      "|s3://ocr-data-science-p8-fruits/Test/Watermelon/r_106_100.jpg|Watermelon|\n",
      "|s3://ocr-data-science-p8-fruits/Test/Watermelon/r_109_100.jpg|Watermelon|\n",
      "|s3://ocr-data-science-p8-fruits/Test/Watermelon/r_108_100.jpg|Watermelon|\n",
      "|s3://ocr-data-science-p8-fruits/Test/Watermelon/r_107_100.jpg|Watermelon|\n",
      "|s3://ocr-data-science-p8-fruits/Test/Watermelon/r_95_100.jpg |Watermelon|\n",
      "+-------------------------------------------------------------+----------+\n",
      "only showing top 5 rows\n",
      "\n",
      "None"
     ]
    }
   ],
   "source": [
    "images = images.withColumn(\"label\", element_at(split(images[\"path\"], \"/\"), -2))\n",
    "print(images.printSchema())\n",
    "print(images.select(\"path\", \"label\").show(5, False))\n"
   ]
  },
  {
   "cell_type": "markdown",
   "id": "8f15b199",
   "metadata": {},
   "source": [
    "#### 4.10.5.2 Préparation du modèle"
   ]
  },
  {
   "cell_type": "code",
   "execution_count": null,
   "id": "ec7c7165",
   "metadata": {},
   "outputs": [
    {
     "data": {
      "application/vnd.jupyter.widget-view+json": {
       "model_id": "",
       "version_major": 2,
       "version_minor": 0
      },
      "text/plain": [
       "FloatProgress(value=0.0, bar_style='info', description='Progress:', layout=Layout(height='25px', width='50%'),…"
      ]
     },
     "metadata": {},
     "output_type": "display_data"
    },
    {
     "name": "stdout",
     "output_type": "stream",
     "text": [
      "Downloading data from https://storage.googleapis.com/tensorflow/keras-applications/mobilenet_v2/mobilenet_v2_weights_tf_dim_ordering_tf_kernels_1.0_224.h5\n",
      "14540800/14536120 [==============================] - 1s 0us/step"
     ]
    }
   ],
   "source": [
    "model = MobileNetV2(weights=\"imagenet\", include_top=True, input_shape=(224, 224, 3))\n"
   ]
  },
  {
   "cell_type": "code",
   "execution_count": null,
   "id": "1b9bc650",
   "metadata": {},
   "outputs": [
    {
     "data": {
      "application/vnd.jupyter.widget-view+json": {
       "model_id": "",
       "version_major": 2,
       "version_minor": 0
      },
      "text/plain": [
       "FloatProgress(value=0.0, bar_style='info', description='Progress:', layout=Layout(height='25px', width='50%'),…"
      ]
     },
     "metadata": {},
     "output_type": "display_data"
    }
   ],
   "source": [
    "new_model = Model(inputs=model.input, outputs=model.layers[-2].output)\n"
   ]
  },
  {
   "cell_type": "code",
   "execution_count": null,
   "id": "a0d497f2",
   "metadata": {},
   "outputs": [
    {
     "data": {
      "application/vnd.jupyter.widget-view+json": {
       "model_id": "",
       "version_major": 2,
       "version_minor": 0
      },
      "text/plain": [
       "FloatProgress(value=0.0, bar_style='info', description='Progress:', layout=Layout(height='25px', width='50%'),…"
      ]
     },
     "metadata": {},
     "output_type": "display_data"
    }
   ],
   "source": [
    "brodcast_weights = sc.broadcast(new_model.get_weights())\n"
   ]
  },
  {
   "cell_type": "code",
   "execution_count": null,
   "id": "1bc0bf14",
   "metadata": {},
   "outputs": [
    {
     "data": {
      "application/vnd.jupyter.widget-view+json": {
       "model_id": "",
       "version_major": 2,
       "version_minor": 0
      },
      "text/plain": [
       "FloatProgress(value=0.0, bar_style='info', description='Progress:', layout=Layout(height='25px', width='50%'),…"
      ]
     },
     "metadata": {},
     "output_type": "display_data"
    },
    {
     "name": "stdout",
     "output_type": "stream",
     "text": [
      "Model: \"model\"\n",
      "__________________________________________________________________________________________________\n",
      "Layer (type)                    Output Shape         Param #     Connected to                     \n",
      "==================================================================================================\n",
      "input_1 (InputLayer)            [(None, 224, 224, 3) 0                                            \n",
      "__________________________________________________________________________________________________\n",
      "Conv1 (Conv2D)                  (None, 112, 112, 32) 864         input_1[0][0]                    \n",
      "__________________________________________________________________________________________________\n",
      "bn_Conv1 (BatchNormalization)   (None, 112, 112, 32) 128         Conv1[0][0]                      \n",
      "__________________________________________________________________________________________________\n",
      "Conv1_relu (ReLU)               (None, 112, 112, 32) 0           bn_Conv1[0][0]                   \n",
      "__________________________________________________________________________________________________\n",
      "expanded_conv_depthwise (Depthw (None, 112, 112, 32) 288         Conv1_relu[0][0]                 \n",
      "__________________________________________________________________________________________________\n",
      "expanded_conv_depthwise_BN (Bat (None, 112, 112, 32) 128         expanded_conv_depthwise[0][0]    \n",
      "__________________________________________________________________________________________________\n",
      "expanded_conv_depthwise_relu (R (None, 112, 112, 32) 0           expanded_conv_depthwise_BN[0][0] \n",
      "__________________________________________________________________________________________________\n",
      "expanded_conv_project (Conv2D)  (None, 112, 112, 16) 512         expanded_conv_depthwise_relu[0][0\n",
      "__________________________________________________________________________________________________\n",
      "expanded_conv_project_BN (Batch (None, 112, 112, 16) 64          expanded_conv_project[0][0]      \n",
      "__________________________________________________________________________________________________\n",
      "block_1_expand (Conv2D)         (None, 112, 112, 96) 1536        expanded_conv_project_BN[0][0]   \n",
      "__________________________________________________________________________________________________\n",
      "block_1_expand_BN (BatchNormali (None, 112, 112, 96) 384         block_1_expand[0][0]             \n",
      "__________________________________________________________________________________________________\n",
      "block_1_expand_relu (ReLU)      (None, 112, 112, 96) 0           block_1_expand_BN[0][0]          \n",
      "__________________________________________________________________________________________________\n",
      "block_1_pad (ZeroPadding2D)     (None, 113, 113, 96) 0           block_1_expand_relu[0][0]        \n",
      "__________________________________________________________________________________________________\n",
      "block_1_depthwise (DepthwiseCon (None, 56, 56, 96)   864         block_1_pad[0][0]                \n",
      "__________________________________________________________________________________________________\n",
      "block_1_depthwise_BN (BatchNorm (None, 56, 56, 96)   384         block_1_depthwise[0][0]          \n",
      "__________________________________________________________________________________________________\n",
      "block_1_depthwise_relu (ReLU)   (None, 56, 56, 96)   0           block_1_depthwise_BN[0][0]       \n",
      "__________________________________________________________________________________________________\n",
      "block_1_project (Conv2D)        (None, 56, 56, 24)   2304        block_1_depthwise_relu[0][0]     \n",
      "__________________________________________________________________________________________________\n",
      "block_1_project_BN (BatchNormal (None, 56, 56, 24)   96          block_1_project[0][0]            \n",
      "__________________________________________________________________________________________________\n",
      "block_2_expand (Conv2D)         (None, 56, 56, 144)  3456        block_1_project_BN[0][0]         \n",
      "__________________________________________________________________________________________________\n",
      "block_2_expand_BN (BatchNormali (None, 56, 56, 144)  576         block_2_expand[0][0]             \n",
      "__________________________________________________________________________________________________\n",
      "block_2_expand_relu (ReLU)      (None, 56, 56, 144)  0           block_2_expand_BN[0][0]          \n",
      "__________________________________________________________________________________________________\n",
      "block_2_depthwise (DepthwiseCon (None, 56, 56, 144)  1296        block_2_expand_relu[0][0]        \n",
      "__________________________________________________________________________________________________\n",
      "block_2_depthwise_BN (BatchNorm (None, 56, 56, 144)  576         block_2_depthwise[0][0]          \n",
      "__________________________________________________________________________________________________\n",
      "block_2_depthwise_relu (ReLU)   (None, 56, 56, 144)  0           block_2_depthwise_BN[0][0]       \n",
      "__________________________________________________________________________________________________\n",
      "block_2_project (Conv2D)        (None, 56, 56, 24)   3456        block_2_depthwise_relu[0][0]     \n",
      "__________________________________________________________________________________________________\n",
      "block_2_project_BN (BatchNormal (None, 56, 56, 24)   96          block_2_project[0][0]            \n",
      "__________________________________________________________________________________________________\n",
      "block_2_add (Add)               (None, 56, 56, 24)   0           block_1_project_BN[0][0]         \n",
      "                                                                 block_2_project_BN[0][0]         \n",
      "__________________________________________________________________________________________________\n",
      "block_3_expand (Conv2D)         (None, 56, 56, 144)  3456        block_2_add[0][0]                \n",
      "__________________________________________________________________________________________________\n",
      "block_3_expand_BN (BatchNormali (None, 56, 56, 144)  576         block_3_expand[0][0]             \n",
      "__________________________________________________________________________________________________\n",
      "block_3_expand_relu (ReLU)      (None, 56, 56, 144)  0           block_3_expand_BN[0][0]          \n",
      "__________________________________________________________________________________________________\n",
      "block_3_pad (ZeroPadding2D)     (None, 57, 57, 144)  0           block_3_expand_relu[0][0]        \n",
      "__________________________________________________________________________________________________\n",
      "block_3_depthwise (DepthwiseCon (None, 28, 28, 144)  1296        block_3_pad[0][0]                \n",
      "__________________________________________________________________________________________________\n",
      "block_3_depthwise_BN (BatchNorm (None, 28, 28, 144)  576         block_3_depthwise[0][0]          \n",
      "__________________________________________________________________________________________________\n",
      "block_3_depthwise_relu (ReLU)   (None, 28, 28, 144)  0           block_3_depthwise_BN[0][0]       \n",
      "__________________________________________________________________________________________________\n",
      "block_3_project (Conv2D)        (None, 28, 28, 32)   4608        block_3_depthwise_relu[0][0]     \n",
      "__________________________________________________________________________________________________\n",
      "block_3_project_BN (BatchNormal (None, 28, 28, 32)   128         block_3_project[0][0]            \n",
      "__________________________________________________________________________________________________\n",
      "block_4_expand (Conv2D)         (None, 28, 28, 192)  6144        block_3_project_BN[0][0]         \n",
      "__________________________________________________________________________________________________\n",
      "block_4_expand_BN (BatchNormali (None, 28, 28, 192)  768         block_4_expand[0][0]             \n",
      "__________________________________________________________________________________________________\n",
      "block_4_expand_relu (ReLU)      (None, 28, 28, 192)  0           block_4_expand_BN[0][0]          \n",
      "__________________________________________________________________________________________________\n",
      "block_4_depthwise (DepthwiseCon (None, 28, 28, 192)  1728        block_4_expand_relu[0][0]        \n",
      "__________________________________________________________________________________________________\n",
      "block_4_depthwise_BN (BatchNorm (None, 28, 28, 192)  768         block_4_depthwise[0][0]          \n",
      "__________________________________________________________________________________________________\n",
      "block_4_depthwise_relu (ReLU)   (None, 28, 28, 192)  0           block_4_depthwise_BN[0][0]       \n",
      "__________________________________________________________________________________________________\n",
      "block_4_project (Conv2D)        (None, 28, 28, 32)   6144        block_4_depthwise_relu[0][0]     \n",
      "__________________________________________________________________________________________________\n",
      "block_4_project_BN (BatchNormal (None, 28, 28, 32)   128         block_4_project[0][0]            \n",
      "__________________________________________________________________________________________________\n",
      "block_4_add (Add)               (None, 28, 28, 32)   0           block_3_project_BN[0][0]         \n",
      "                                                                 block_4_project_BN[0][0]         \n",
      "__________________________________________________________________________________________________\n",
      "block_5_expand (Conv2D)         (None, 28, 28, 192)  6144        block_4_add[0][0]                \n",
      "__________________________________________________________________________________________________\n",
      "block_5_expand_BN (BatchNormali (None, 28, 28, 192)  768         block_5_expand[0][0]             \n",
      "__________________________________________________________________________________________________\n",
      "block_5_expand_relu (ReLU)      (None, 28, 28, 192)  0           block_5_expand_BN[0][0]          \n",
      "__________________________________________________________________________________________________\n",
      "block_5_depthwise (DepthwiseCon (None, 28, 28, 192)  1728        block_5_expand_relu[0][0]        \n",
      "__________________________________________________________________________________________________\n",
      "block_5_depthwise_BN (BatchNorm (None, 28, 28, 192)  768         block_5_depthwise[0][0]          \n",
      "__________________________________________________________________________________________________\n",
      "block_5_depthwise_relu (ReLU)   (None, 28, 28, 192)  0           block_5_depthwise_BN[0][0]       \n",
      "__________________________________________________________________________________________________\n",
      "block_5_project (Conv2D)        (None, 28, 28, 32)   6144        block_5_depthwise_relu[0][0]     \n",
      "__________________________________________________________________________________________________\n",
      "block_5_project_BN (BatchNormal (None, 28, 28, 32)   128         block_5_project[0][0]            \n",
      "__________________________________________________________________________________________________\n",
      "block_5_add (Add)               (None, 28, 28, 32)   0           block_4_add[0][0]                \n",
      "                                                                 block_5_project_BN[0][0]         \n",
      "__________________________________________________________________________________________________\n",
      "block_6_expand (Conv2D)         (None, 28, 28, 192)  6144        block_5_add[0][0]                \n",
      "__________________________________________________________________________________________________\n",
      "block_6_expand_BN (BatchNormali (None, 28, 28, 192)  768         block_6_expand[0][0]             \n",
      "__________________________________________________________________________________________________\n",
      "block_6_expand_relu (ReLU)      (None, 28, 28, 192)  0           block_6_expand_BN[0][0]          \n",
      "__________________________________________________________________________________________________\n",
      "block_6_pad (ZeroPadding2D)     (None, 29, 29, 192)  0           block_6_expand_relu[0][0]        \n",
      "__________________________________________________________________________________________________\n",
      "block_6_depthwise (DepthwiseCon (None, 14, 14, 192)  1728        block_6_pad[0][0]                \n",
      "__________________________________________________________________________________________________\n",
      "block_6_depthwise_BN (BatchNorm (None, 14, 14, 192)  768         block_6_depthwise[0][0]          \n",
      "__________________________________________________________________________________________________\n",
      "block_6_depthwise_relu (ReLU)   (None, 14, 14, 192)  0           block_6_depthwise_BN[0][0]       \n",
      "__________________________________________________________________________________________________\n",
      "block_6_project (Conv2D)        (None, 14, 14, 64)   12288       block_6_depthwise_relu[0][0]     \n",
      "__________________________________________________________________________________________________\n",
      "block_6_project_BN (BatchNormal (None, 14, 14, 64)   256         block_6_project[0][0]            \n",
      "__________________________________________________________________________________________________\n",
      "block_7_expand (Conv2D)         (None, 14, 14, 384)  24576       block_6_project_BN[0][0]         \n",
      "__________________________________________________________________________________________________\n",
      "block_7_expand_BN (BatchNormali (None, 14, 14, 384)  1536        block_7_expand[0][0]             \n",
      "__________________________________________________________________________________________________\n",
      "block_7_expand_relu (ReLU)      (None, 14, 14, 384)  0           block_7_expand_BN[0][0]          \n",
      "__________________________________________________________________________________________________\n",
      "block_7_depthwise (DepthwiseCon (None, 14, 14, 384)  3456        block_7_expand_relu[0][0]        \n",
      "__________________________________________________________________________________________________\n",
      "block_7_depthwise_BN (BatchNorm (None, 14, 14, 384)  1536        block_7_depthwise[0][0]          \n",
      "__________________________________________________________________________________________________\n",
      "block_7_depthwise_relu (ReLU)   (None, 14, 14, 384)  0           block_7_depthwise_BN[0][0]       \n",
      "__________________________________________________________________________________________________\n",
      "block_7_project (Conv2D)        (None, 14, 14, 64)   24576       block_7_depthwise_relu[0][0]     \n",
      "__________________________________________________________________________________________________\n",
      "block_7_project_BN (BatchNormal (None, 14, 14, 64)   256         block_7_project[0][0]            \n",
      "__________________________________________________________________________________________________\n",
      "block_7_add (Add)               (None, 14, 14, 64)   0           block_6_project_BN[0][0]         \n",
      "                                                                 block_7_project_BN[0][0]         \n",
      "__________________________________________________________________________________________________\n",
      "block_8_expand (Conv2D)         (None, 14, 14, 384)  24576       block_7_add[0][0]                \n",
      "__________________________________________________________________________________________________\n",
      "block_8_expand_BN (BatchNormali (None, 14, 14, 384)  1536        block_8_expand[0][0]             \n",
      "__________________________________________________________________________________________________\n",
      "block_8_expand_relu (ReLU)      (None, 14, 14, 384)  0           block_8_expand_BN[0][0]          \n",
      "__________________________________________________________________________________________________\n",
      "block_8_depthwise (DepthwiseCon (None, 14, 14, 384)  3456        block_8_expand_relu[0][0]        \n",
      "__________________________________________________________________________________________________\n",
      "block_8_depthwise_BN (BatchNorm (None, 14, 14, 384)  1536        block_8_depthwise[0][0]          \n",
      "__________________________________________________________________________________________________\n",
      "block_8_depthwise_relu (ReLU)   (None, 14, 14, 384)  0           block_8_depthwise_BN[0][0]       \n",
      "__________________________________________________________________________________________________\n",
      "block_8_project (Conv2D)        (None, 14, 14, 64)   24576       block_8_depthwise_relu[0][0]     \n",
      "__________________________________________________________________________________________________\n",
      "block_8_project_BN (BatchNormal (None, 14, 14, 64)   256         block_8_project[0][0]            \n",
      "__________________________________________________________________________________________________\n",
      "block_8_add (Add)               (None, 14, 14, 64)   0           block_7_add[0][0]                \n",
      "                                                                 block_8_project_BN[0][0]         \n",
      "__________________________________________________________________________________________________\n",
      "block_9_expand (Conv2D)         (None, 14, 14, 384)  24576       block_8_add[0][0]                \n",
      "__________________________________________________________________________________________________\n",
      "block_9_expand_BN (BatchNormali (None, 14, 14, 384)  1536        block_9_expand[0][0]             \n",
      "__________________________________________________________________________________________________\n",
      "block_9_expand_relu (ReLU)      (None, 14, 14, 384)  0           block_9_expand_BN[0][0]          \n",
      "__________________________________________________________________________________________________\n",
      "block_9_depthwise (DepthwiseCon (None, 14, 14, 384)  3456        block_9_expand_relu[0][0]        \n",
      "__________________________________________________________________________________________________\n",
      "block_9_depthwise_BN (BatchNorm (None, 14, 14, 384)  1536        block_9_depthwise[0][0]          \n",
      "__________________________________________________________________________________________________\n",
      "block_9_depthwise_relu (ReLU)   (None, 14, 14, 384)  0           block_9_depthwise_BN[0][0]       \n",
      "__________________________________________________________________________________________________\n",
      "block_9_project (Conv2D)        (None, 14, 14, 64)   24576       block_9_depthwise_relu[0][0]     \n",
      "__________________________________________________________________________________________________\n",
      "block_9_project_BN (BatchNormal (None, 14, 14, 64)   256         block_9_project[0][0]            \n",
      "__________________________________________________________________________________________________\n",
      "block_9_add (Add)               (None, 14, 14, 64)   0           block_8_add[0][0]                \n",
      "                                                                 block_9_project_BN[0][0]         \n",
      "__________________________________________________________________________________________________\n",
      "block_10_expand (Conv2D)        (None, 14, 14, 384)  24576       block_9_add[0][0]                \n",
      "__________________________________________________________________________________________________\n",
      "block_10_expand_BN (BatchNormal (None, 14, 14, 384)  1536        block_10_expand[0][0]            \n",
      "__________________________________________________________________________________________________\n",
      "block_10_expand_relu (ReLU)     (None, 14, 14, 384)  0           block_10_expand_BN[0][0]         \n",
      "__________________________________________________________________________________________________\n",
      "block_10_depthwise (DepthwiseCo (None, 14, 14, 384)  3456        block_10_expand_relu[0][0]       \n",
      "__________________________________________________________________________________________________\n",
      "block_10_depthwise_BN (BatchNor (None, 14, 14, 384)  1536        block_10_depthwise[0][0]         \n",
      "__________________________________________________________________________________________________\n",
      "block_10_depthwise_relu (ReLU)  (None, 14, 14, 384)  0           block_10_depthwise_BN[0][0]      \n",
      "__________________________________________________________________________________________________\n",
      "block_10_project (Conv2D)       (None, 14, 14, 96)   36864       block_10_depthwise_relu[0][0]    \n",
      "__________________________________________________________________________________________________\n",
      "block_10_project_BN (BatchNorma (None, 14, 14, 96)   384         block_10_project[0][0]           \n",
      "__________________________________________________________________________________________________\n",
      "block_11_expand (Conv2D)        (None, 14, 14, 576)  55296       block_10_project_BN[0][0]        \n",
      "__________________________________________________________________________________________________\n",
      "block_11_expand_BN (BatchNormal (None, 14, 14, 576)  2304        block_11_expand[0][0]            \n",
      "__________________________________________________________________________________________________\n",
      "block_11_expand_relu (ReLU)     (None, 14, 14, 576)  0           block_11_expand_BN[0][0]         \n",
      "__________________________________________________________________________________________________\n",
      "block_11_depthwise (DepthwiseCo (None, 14, 14, 576)  5184        block_11_expand_relu[0][0]       \n",
      "__________________________________________________________________________________________________\n",
      "block_11_depthwise_BN (BatchNor (None, 14, 14, 576)  2304        block_11_depthwise[0][0]         \n",
      "__________________________________________________________________________________________________\n",
      "block_11_depthwise_relu (ReLU)  (None, 14, 14, 576)  0           block_11_depthwise_BN[0][0]      \n",
      "__________________________________________________________________________________________________\n",
      "block_11_project (Conv2D)       (None, 14, 14, 96)   55296       block_11_depthwise_relu[0][0]    \n",
      "__________________________________________________________________________________________________\n",
      "block_11_project_BN (BatchNorma (None, 14, 14, 96)   384         block_11_project[0][0]           \n",
      "__________________________________________________________________________________________________\n",
      "block_11_add (Add)              (None, 14, 14, 96)   0           block_10_project_BN[0][0]        \n",
      "                                                                 block_11_project_BN[0][0]        \n",
      "__________________________________________________________________________________________________\n",
      "block_12_expand (Conv2D)        (None, 14, 14, 576)  55296       block_11_add[0][0]               \n",
      "__________________________________________________________________________________________________\n",
      "block_12_expand_BN (BatchNormal (None, 14, 14, 576)  2304        block_12_expand[0][0]            \n",
      "__________________________________________________________________________________________________\n",
      "block_12_expand_relu (ReLU)     (None, 14, 14, 576)  0           block_12_expand_BN[0][0]         \n",
      "__________________________________________________________________________________________________\n",
      "block_12_depthwise (DepthwiseCo (None, 14, 14, 576)  5184        block_12_expand_relu[0][0]       \n",
      "__________________________________________________________________________________________________\n",
      "block_12_depthwise_BN (BatchNor (None, 14, 14, 576)  2304        block_12_depthwise[0][0]         \n",
      "__________________________________________________________________________________________________\n",
      "block_12_depthwise_relu (ReLU)  (None, 14, 14, 576)  0           block_12_depthwise_BN[0][0]      \n",
      "__________________________________________________________________________________________________\n",
      "block_12_project (Conv2D)       (None, 14, 14, 96)   55296       block_12_depthwise_relu[0][0]    \n",
      "__________________________________________________________________________________________________\n",
      "block_12_project_BN (BatchNorma (None, 14, 14, 96)   384         block_12_project[0][0]           \n",
      "__________________________________________________________________________________________________\n",
      "block_12_add (Add)              (None, 14, 14, 96)   0           block_11_add[0][0]               \n",
      "                                                                 block_12_project_BN[0][0]        \n",
      "__________________________________________________________________________________________________\n",
      "block_13_expand (Conv2D)        (None, 14, 14, 576)  55296       block_12_add[0][0]               \n",
      "__________________________________________________________________________________________________\n",
      "block_13_expand_BN (BatchNormal (None, 14, 14, 576)  2304        block_13_expand[0][0]            \n",
      "__________________________________________________________________________________________________\n",
      "block_13_expand_relu (ReLU)     (None, 14, 14, 576)  0           block_13_expand_BN[0][0]         \n",
      "__________________________________________________________________________________________________\n",
      "block_13_pad (ZeroPadding2D)    (None, 15, 15, 576)  0           block_13_expand_relu[0][0]       \n",
      "__________________________________________________________________________________________________\n",
      "block_13_depthwise (DepthwiseCo (None, 7, 7, 576)    5184        block_13_pad[0][0]               \n",
      "__________________________________________________________________________________________________\n",
      "block_13_depthwise_BN (BatchNor (None, 7, 7, 576)    2304        block_13_depthwise[0][0]         \n",
      "__________________________________________________________________________________________________\n",
      "block_13_depthwise_relu (ReLU)  (None, 7, 7, 576)    0           block_13_depthwise_BN[0][0]      \n",
      "__________________________________________________________________________________________________\n",
      "block_13_project (Conv2D)       (None, 7, 7, 160)    92160       block_13_depthwise_relu[0][0]    \n",
      "__________________________________________________________________________________________________\n",
      "block_13_project_BN (BatchNorma (None, 7, 7, 160)    640         block_13_project[0][0]           \n",
      "__________________________________________________________________________________________________\n",
      "block_14_expand (Conv2D)        (None, 7, 7, 960)    153600      block_13_project_BN[0][0]        \n",
      "__________________________________________________________________________________________________\n",
      "block_14_expand_BN (BatchNormal (None, 7, 7, 960)    3840        block_14_expand[0][0]            \n",
      "__________________________________________________________________________________________________\n",
      "block_14_expand_relu (ReLU)     (None, 7, 7, 960)    0           block_14_expand_BN[0][0]         \n",
      "__________________________________________________________________________________________________\n",
      "block_14_depthwise (DepthwiseCo (None, 7, 7, 960)    8640        block_14_expand_relu[0][0]       \n",
      "__________________________________________________________________________________________________\n",
      "block_14_depthwise_BN (BatchNor (None, 7, 7, 960)    3840        block_14_depthwise[0][0]         \n",
      "__________________________________________________________________________________________________\n",
      "block_14_depthwise_relu (ReLU)  (None, 7, 7, 960)    0           block_14_depthwise_BN[0][0]      \n",
      "__________________________________________________________________________________________________\n",
      "block_14_project (Conv2D)       (None, 7, 7, 160)    153600      block_14_depthwise_relu[0][0]    \n",
      "__________________________________________________________________________________________________\n",
      "block_14_project_BN (BatchNorma (None, 7, 7, 160)    640         block_14_project[0][0]           \n",
      "__________________________________________________________________________________________________\n",
      "block_14_add (Add)              (None, 7, 7, 160)    0           block_13_project_BN[0][0]        \n",
      "                                                                 block_14_project_BN[0][0]        \n",
      "__________________________________________________________________________________________________\n",
      "block_15_expand (Conv2D)        (None, 7, 7, 960)    153600      block_14_add[0][0]               \n",
      "__________________________________________________________________________________________________\n",
      "block_15_expand_BN (BatchNormal (None, 7, 7, 960)    3840        block_15_expand[0][0]            \n",
      "__________________________________________________________________________________________________\n",
      "block_15_expand_relu (ReLU)     (None, 7, 7, 960)    0           block_15_expand_BN[0][0]         \n",
      "__________________________________________________________________________________________________\n",
      "block_15_depthwise (DepthwiseCo (None, 7, 7, 960)    8640        block_15_expand_relu[0][0]       \n",
      "__________________________________________________________________________________________________\n",
      "block_15_depthwise_BN (BatchNor (None, 7, 7, 960)    3840        block_15_depthwise[0][0]         \n",
      "__________________________________________________________________________________________________\n",
      "block_15_depthwise_relu (ReLU)  (None, 7, 7, 960)    0           block_15_depthwise_BN[0][0]      \n",
      "__________________________________________________________________________________________________\n",
      "block_15_project (Conv2D)       (None, 7, 7, 160)    153600      block_15_depthwise_relu[0][0]    \n",
      "__________________________________________________________________________________________________\n",
      "block_15_project_BN (BatchNorma (None, 7, 7, 160)    640         block_15_project[0][0]           \n",
      "__________________________________________________________________________________________________\n",
      "block_15_add (Add)              (None, 7, 7, 160)    0           block_14_add[0][0]               \n",
      "                                                                 block_15_project_BN[0][0]        \n",
      "__________________________________________________________________________________________________\n",
      "block_16_expand (Conv2D)        (None, 7, 7, 960)    153600      block_15_add[0][0]               \n",
      "__________________________________________________________________________________________________\n",
      "block_16_expand_BN (BatchNormal (None, 7, 7, 960)    3840        block_16_expand[0][0]            \n",
      "__________________________________________________________________________________________________\n",
      "block_16_expand_relu (ReLU)     (None, 7, 7, 960)    0           block_16_expand_BN[0][0]         \n",
      "__________________________________________________________________________________________________\n",
      "block_16_depthwise (DepthwiseCo (None, 7, 7, 960)    8640        block_16_expand_relu[0][0]       \n",
      "__________________________________________________________________________________________________\n",
      "block_16_depthwise_BN (BatchNor (None, 7, 7, 960)    3840        block_16_depthwise[0][0]         \n",
      "__________________________________________________________________________________________________\n",
      "block_16_depthwise_relu (ReLU)  (None, 7, 7, 960)    0           block_16_depthwise_BN[0][0]      \n",
      "__________________________________________________________________________________________________\n",
      "block_16_project (Conv2D)       (None, 7, 7, 320)    307200      block_16_depthwise_relu[0][0]    \n",
      "__________________________________________________________________________________________________\n",
      "block_16_project_BN (BatchNorma (None, 7, 7, 320)    1280        block_16_project[0][0]           \n",
      "__________________________________________________________________________________________________\n",
      "Conv_1 (Conv2D)                 (None, 7, 7, 1280)   409600      block_16_project_BN[0][0]        \n",
      "__________________________________________________________________________________________________\n",
      "Conv_1_bn (BatchNormalization)  (None, 7, 7, 1280)   5120        Conv_1[0][0]                     \n",
      "__________________________________________________________________________________________________\n",
      "out_relu (ReLU)                 (None, 7, 7, 1280)   0           Conv_1_bn[0][0]                  \n",
      "__________________________________________________________________________________________________\n",
      "global_average_pooling2d (Globa (None, 1280)         0           out_relu[0][0]                   \n",
      "==================================================================================================\n",
      "Total params: 2,257,984\n",
      "Trainable params: 2,223,872\n",
      "Non-trainable params: 34,112\n",
      "__________________________________________________________________________________________________"
     ]
    }
   ],
   "source": [
    "new_model.summary()\n"
   ]
  },
  {
   "cell_type": "code",
   "execution_count": null,
   "id": "be8fe2b9",
   "metadata": {},
   "outputs": [
    {
     "data": {
      "application/vnd.jupyter.widget-view+json": {
       "model_id": "",
       "version_major": 2,
       "version_minor": 0
      },
      "text/plain": [
       "FloatProgress(value=0.0, bar_style='info', description='Progress:', layout=Layout(height='25px', width='50%'),…"
      ]
     },
     "metadata": {},
     "output_type": "display_data"
    }
   ],
   "source": [
    "def model_fn():\n",
    "    \"\"\"\n",
    "    Returns a MobileNetV2 model with top layer removed\n",
    "    and broadcasted pretrained weights.\n",
    "    \"\"\"\n",
    "    model = MobileNetV2(weights=\"imagenet\", include_top=True, input_shape=(224, 224, 3))\n",
    "    for layer in model.layers:\n",
    "        layer.trainable = False\n",
    "    new_model = Model(inputs=model.input, outputs=model.layers[-2].output)\n",
    "    new_model.set_weights(brodcast_weights.value)\n",
    "    return new_model\n"
   ]
  },
  {
   "cell_type": "markdown",
   "id": "c032f135",
   "metadata": {},
   "source": [
    "#### 4.10.5.3 Définition du processus de chargement des images <br/> et application de leur featurisation à travers l'utilisation de pandas UDF"
   ]
  },
  {
   "cell_type": "code",
   "execution_count": null,
   "id": "933100cf",
   "metadata": {
    "scrolled": true
   },
   "outputs": [
    {
     "data": {
      "application/vnd.jupyter.widget-view+json": {
       "model_id": "",
       "version_major": 2,
       "version_minor": 0
      },
      "text/plain": [
       "FloatProgress(value=0.0, bar_style='info', description='Progress:', layout=Layout(height='25px', width='50%'),…"
      ]
     },
     "metadata": {},
     "output_type": "display_data"
    },
    {
     "name": "stdout",
     "output_type": "stream",
     "text": [
      "/usr/lib/spark/python/lib/pyspark.zip/pyspark/sql/pandas/functions.py:392: UserWarning: In Python 3.6+ and Spark 3.0+, it is preferred to specify type hints for pandas UDF instead of specifying pandas UDF type which will be deprecated in the future releases. See SPARK-28264 for more details."
     ]
    }
   ],
   "source": [
    "def preprocess(content):\n",
    "    \"\"\"\n",
    "    Preprocesses raw image bytes for prediction.\n",
    "    \"\"\"\n",
    "    img = Image.open(io.BytesIO(content)).resize([224, 224])\n",
    "    arr = img_to_array(img)\n",
    "    return preprocess_input(arr)\n",
    "\n",
    "\n",
    "def featurize_series(model, content_series):\n",
    "    \"\"\"\n",
    "    Featurize a pd.Series of raw images using the input model.\n",
    "    :return: a pd.Series of image features\n",
    "    \"\"\"\n",
    "    input = np.stack(content_series.map(preprocess))\n",
    "    preds = model.predict(input)\n",
    "    # For some layers, output features will be multi-dimensional tensors.\n",
    "    # We flatten the feature tensors to vectors for easier storage in Spark DataFrames.\n",
    "    output = [p.flatten() for p in preds]\n",
    "    return pd.Series(output)\n",
    "\n",
    "\n",
    "@pandas_udf(\"array<float>\", PandasUDFType.SCALAR_ITER)\n",
    "def featurize_udf(content_series_iter):\n",
    "    \"\"\"\n",
    "    This method is a Scalar Iterator pandas UDF wrapping our featurization function.\n",
    "    The decorator specifies that this returns a Spark DataFrame column of type ArrayType(FloatType).\n",
    "\n",
    "    :param content_series_iter: This argument is an iterator over batches of data, where each batch\n",
    "                              is a pandas Series of image data.\n",
    "    \"\"\"\n",
    "    # With Scalar Iterator pandas UDFs, we can load the model once and then re-use it\n",
    "    # for multiple data batches.  This amortizes the overhead of loading big models.\n",
    "    model = model_fn()\n",
    "    for content_series in content_series_iter:\n",
    "        yield featurize_series(model, content_series)\n"
   ]
  },
  {
   "cell_type": "markdown",
   "id": "f23206e8",
   "metadata": {},
   "source": [
    "#### 4.10.5.4 Exécutions des actions d'extractions de features"
   ]
  },
  {
   "cell_type": "code",
   "execution_count": null,
   "id": "22d760c2",
   "metadata": {},
   "outputs": [
    {
     "data": {
      "application/vnd.jupyter.widget-view+json": {
       "model_id": "",
       "version_major": 2,
       "version_minor": 0
      },
      "text/plain": [
       "FloatProgress(value=0.0, bar_style='info', description='Progress:', layout=Layout(height='25px', width='50%'),…"
      ]
     },
     "metadata": {},
     "output_type": "display_data"
    }
   ],
   "source": [
    "# spark.conf.set(\"spark.sql.execution.arrow.maxRecordsPerBatch\", \"1024\")\n"
   ]
  },
  {
   "cell_type": "code",
   "execution_count": null,
   "id": "5e07fd68",
   "metadata": {},
   "outputs": [
    {
     "data": {
      "application/vnd.jupyter.widget-view+json": {
       "model_id": "",
       "version_major": 2,
       "version_minor": 0
      },
      "text/plain": [
       "FloatProgress(value=0.0, bar_style='info', description='Progress:', layout=Layout(height='25px', width='50%'),…"
      ]
     },
     "metadata": {},
     "output_type": "display_data"
    }
   ],
   "source": [
    "features_df = images.repartition(24).select(\n",
    "    col(\"path\"), col(\"label\"), featurize_udf(\"content\").alias(\"features\")\n",
    ")\n"
   ]
  },
  {
   "cell_type": "markdown",
   "id": "f19c4654",
   "metadata": {},
   "source": [
    "#### 4.10.5.4 Réduction de dimensions"
   ]
  },
  {
   "cell_type": "code",
   "execution_count": null,
   "id": "01df530a",
   "metadata": {},
   "outputs": [
    {
     "data": {
      "application/vnd.jupyter.widget-view+json": {
       "model_id": "",
       "version_major": 2,
       "version_minor": 0
      },
      "text/plain": [
       "FloatProgress(value=0.0, bar_style='info', description='Progress:', layout=Layout(height='25px', width='50%'),…"
      ]
     },
     "metadata": {},
     "output_type": "display_data"
    },
    {
     "name": "stdout",
     "output_type": "stream",
     "text": [
      "Number of features for 90% of variance : 342\n",
      "820.2464649677277"
     ]
    }
   ],
   "source": [
    "t = time.time()\n",
    "to_vec = F.udf(lambda xs: Vectors.dense(xs), VectorUDT())\n",
    "df_vec = features_df.withColumn(\"features_vec\", to_vec(F.col(\"features\")))\n",
    "\n",
    "scaler = StandardScaler(\n",
    "    inputCol=\"features_vec\",\n",
    "    outputCol=\"features_scaled\",\n",
    "    withMean=True,\n",
    "    withStd=True,\n",
    ")\n",
    "\n",
    "# Step to estimate k\n",
    "k_probe = 400\n",
    "pca_probe = PCA(k=k_probe, inputCol=\"features_scaled\", outputCol=\"pca_probe\")\n",
    "\n",
    "pipe_probe = Pipeline(stages=[scaler, pca_probe])\n",
    "model_probe = pipe_probe.fit(df_vec)\n",
    "\n",
    "# Choose k for >= 90%\n",
    "explained = np.array(model_probe.stages[-1].explainedVariance.toArray())\n",
    "cum = explained.cumsum()\n",
    "k90 = int(np.searchsorted(cum, 0.90) + 1)\n",
    "print(f\"Number of features for 90% of variance : {k90}\")\n",
    "print(time.time() - t)\n"
   ]
  },
  {
   "cell_type": "code",
   "execution_count": null,
   "id": "f77a4819",
   "metadata": {},
   "outputs": [
    {
     "data": {
      "application/vnd.jupyter.widget-view+json": {
       "model_id": "",
       "version_major": 2,
       "version_minor": 0
      },
      "text/plain": [
       "FloatProgress(value=0.0, bar_style='info', description='Progress:', layout=Layout(height='25px', width='50%'),…"
      ]
     },
     "metadata": {},
     "output_type": "display_data"
    }
   ],
   "source": [
    "# DO PCA with k90\n",
    "pca_final = PCA(k=k90, inputCol=\"features_scaled\", outputCol=\"pca\")\n",
    "pipe_final = Pipeline(stages=[scaler, pca_final])\n",
    "model_final = pipe_final.fit(df_vec)\n",
    "df_pca = model_final.transform(df_vec)\n"
   ]
  },
  {
   "cell_type": "code",
   "execution_count": null,
   "id": "7c53ddd5",
   "metadata": {},
   "outputs": [
    {
     "data": {
      "application/vnd.jupyter.widget-view+json": {
       "model_id": "",
       "version_major": 2,
       "version_minor": 0
      },
      "text/plain": [
       "FloatProgress(value=0.0, bar_style='info', description='Progress:', layout=Layout(height='25px', width='50%'),…"
      ]
     },
     "metadata": {},
     "output_type": "display_data"
    }
   ],
   "source": [
    "model_final.write().overwrite().save(PATH_Model_PCA)\n"
   ]
  },
  {
   "cell_type": "code",
   "execution_count": null,
   "id": "06a930b3",
   "metadata": {},
   "outputs": [
    {
     "data": {
      "application/vnd.jupyter.widget-view+json": {
       "model_id": "",
       "version_major": 2,
       "version_minor": 0
      },
      "text/plain": [
       "FloatProgress(value=0.0, bar_style='info', description='Progress:', layout=Layout(height='25px', width='50%'),…"
      ]
     },
     "metadata": {},
     "output_type": "display_data"
    },
    {
     "name": "stdout",
     "output_type": "stream",
     "text": [
      "s3://ocr-data-science-p8-fruits/Results"
     ]
    }
   ],
   "source": [
    "print(PATH_Result)\n"
   ]
  },
  {
   "cell_type": "code",
   "execution_count": null,
   "id": "3947fb0e",
   "metadata": {},
   "outputs": [],
   "source": [
    "# Load saved model PCA\n",
    "model_final = PipelineModel.load(PATH_PCA_MODEL)\n",
    "\n",
    "df_pca = model_final.transform(df_vec)\n"
   ]
  },
  {
   "cell_type": "code",
   "execution_count": null,
   "id": "08021b9f",
   "metadata": {},
   "outputs": [
    {
     "data": {
      "application/vnd.jupyter.widget-view+json": {
       "model_id": "",
       "version_major": 2,
       "version_minor": 0
      },
      "text/plain": [
       "FloatProgress(value=0.0, bar_style='info', description='Progress:', layout=Layout(height='25px', width='50%'),…"
      ]
     },
     "metadata": {},
     "output_type": "display_data"
    },
    {
     "name": "stdout",
     "output_type": "stream",
     "text": [
      "309.3027722835541"
     ]
    }
   ],
   "source": [
    "t = time.time()\n",
    "df_pca.select(\"path\", \"label\", \"pca\").write.mode(\"overwrite\").parquet(PATH_Result)\n",
    "print(time.time() - t)\n"
   ]
  },
  {
   "cell_type": "markdown",
   "id": "1fe01b72",
   "metadata": {},
   "source": [
    "### 4.10.6 Chargement des données enregistrées et validation du résultat"
   ]
  },
  {
   "cell_type": "code",
   "execution_count": null,
   "id": "db3a7fe8",
   "metadata": {},
   "outputs": [
    {
     "data": {
      "application/vnd.jupyter.widget-view+json": {
       "model_id": "",
       "version_major": 2,
       "version_minor": 0
      },
      "text/plain": [
       "FloatProgress(value=0.0, bar_style='info', description='Progress:', layout=Layout(height='25px', width='50%'),…"
      ]
     },
     "metadata": {},
     "output_type": "display_data"
    }
   ],
   "source": [
    "import sys, sysconfig\n",
    "\n",
    "sys.path.insert(0, \"/opt/conda/lib/python3.7/site-packages\")\n"
   ]
  },
  {
   "cell_type": "code",
   "execution_count": null,
   "id": "2b49efa2",
   "metadata": {},
   "outputs": [
    {
     "data": {
      "application/vnd.jupyter.widget-view+json": {
       "model_id": "",
       "version_major": 2,
       "version_minor": 0
      },
      "text/plain": [
       "FloatProgress(value=0.0, bar_style='info', description='Progress:', layout=Layout(height='25px', width='50%'),…"
      ]
     },
     "metadata": {},
     "output_type": "display_data"
    }
   ],
   "source": [
    "df = spark.read.parquet(\"s3://ocr-data-science-p8-fruits/Results\")\n"
   ]
  },
  {
   "cell_type": "code",
   "execution_count": null,
   "id": "db18a784",
   "metadata": {},
   "outputs": [
    {
     "data": {
      "application/vnd.jupyter.widget-view+json": {
       "model_id": "",
       "version_major": 2,
       "version_minor": 0
      },
      "text/plain": [
       "FloatProgress(value=0.0, bar_style='info', description='Progress:', layout=Layout(height='25px', width='50%'),…"
      ]
     },
     "metadata": {},
     "output_type": "display_data"
    }
   ],
   "source": [
    "# df = pd.read_parquet(PATH_Result, engine=\"pyarrow\")\n"
   ]
  },
  {
   "cell_type": "code",
   "execution_count": null,
   "id": "b29205ff",
   "metadata": {},
   "outputs": [
    {
     "data": {
      "application/vnd.jupyter.widget-view+json": {
       "model_id": "",
       "version_major": 2,
       "version_minor": 0
      },
      "text/plain": [
       "FloatProgress(value=0.0, bar_style='info', description='Progress:', layout=Layout(height='25px', width='50%'),…"
      ]
     },
     "metadata": {},
     "output_type": "display_data"
    },
    {
     "name": "stdout",
     "output_type": "stream",
     "text": [
      "+----------------------------------------------------------------+-------------+----------+-----------------------------------------------------------------------------------------------------------------------------------------------------------------------------------------------------------------------------------------------------------------------------------------------------------------------------------------------------------------------------------------------------------------------------------------------------------------------------------------------------------------------------------------------------------------------------------------------------------------------------------------------------------------------------------------------------------------------------------------------------------------------------------------------------------------------------------------------------------------------------------------------------------------------------------------------------------------------------------------------------------------------------------------------------------------------------------------------------------------------------------------------------------------------------------------------------------------------------------------------------------------------------------------------------------------------------------------------------------------------------------------------------------------------------------------------------------------------------------------------------------------------------------------------------------------------------------------------------------------------------------------------------------------------------------------------------------------------------------------------------------------------------------------------------------------------------------------------------------------------------------------------------------------------------------------------------------------------------------------------------------------------------------------------------------------------------------------------------------------------------------------------------------------------------------------------------------------------------------------------------------------------------------------------------------------------------------------------------------------------------------------------------------------------------------------------------------------------------------------------------------------------------------------------------------------------------------------------------------------------------------------------------------------------------------------------------------------------------------------------------------------------------------------------------------------------------------------------------------------------------------------------------------------------------------------------------------------------------------------------------------------------------------------------------------------------------------------------------------------------------------------------------------------------------------------------------------------------------------------------------------------------------------------------------------------------------------------------------------------------------------------------------------------------------------------------------------------------------------------------------------------------------------------------------------------------------------------------------------------------------------------------------------------------------------------------------------------------------------------------------------------------------------------------------------------------------------------------------------------------------------------------------------------------------------------------------------------------------------------------------------------------------------------------------------------------------------------------------------------------------------------------------------------------------------------------------------------------------------------------------------------------------------------------------------------------------------------------------------------------------------------------------------------------------------------------------------------------------------------------------------------------------------------------------------------------------------------------------------------------------------------------------------------------------------------------------------------------------------------------------------------------------------------------------------------------------------------------------------------------------------------------------------------------------------------------------------------------------------------------------------------------------------------------------------------------------------------------------------------------------------------------------------------------------------------------------------------------------------------------------------------------------------------------------------------------------------------------------------------------------------------------------------------------------------------------------------------------------------------------------------------------------------------------------------------------------------------------------------------------------------------------------------------------------------------------------------------------------------------------------------------------------------------------------------------------------------------------------------------------------------------------------------------------------------------------------------------------------------------------------------------------------------------------------------------------------------------------------------------------------------------------------------------------------------------------------------------------------------------------------------------------------------------------------------------------------------------------------------------------------------------------------------------------------------------------------------------------------------------------------------------------------------------------------------------------------------------------------------------------------------------------------------------------------------------------------------------------------------------------------------------------------------------------------------------------------------------------------------------------------------------------------------------------------------------------------------------+\n",
      "|path                                                            |label        |pca_length|pca                                                                                                                                                                                                                                                                                                                                                                                                                                                                                                                                                                                                                                                                                                                                                                                                                                                                                                                                                                                                                                                                                                                                                                                                                                                                                                                                                                                                                                                                                                                                                                                                                                                                                                                                                                                                                                                                                                                                                                                                                                                                                                                                                                                                                                                                                                                                                                                                                                                                                                                                                                                                                                                                                                                                                                                                                                                                                                                                                                                                                                                                                                                                                                                                                                                                                                                                                                                                                                                                                                                                                                                                                                                                                                                                                                                                                                                                                                                                                                                                                                                                                                                                                                                                                                                                                                                                                                                                                                                                                                                                                                                                                                                                                                                                                                                                                                                                                                                                                                                                                                                                                                                                                                                                                                                                                                                                                                                                                                                                                                                                                                                                                                                                                                                                                                                                                                                                                                                                                                                                                                                                                                                                                                                                                                                                                                                                                                                                                                                                                                                                                                                                                                                                                                                                                                                                                                                                                                                                                              |\n",
      "+----------------------------------------------------------------+-------------+----------+-----------------------------------------------------------------------------------------------------------------------------------------------------------------------------------------------------------------------------------------------------------------------------------------------------------------------------------------------------------------------------------------------------------------------------------------------------------------------------------------------------------------------------------------------------------------------------------------------------------------------------------------------------------------------------------------------------------------------------------------------------------------------------------------------------------------------------------------------------------------------------------------------------------------------------------------------------------------------------------------------------------------------------------------------------------------------------------------------------------------------------------------------------------------------------------------------------------------------------------------------------------------------------------------------------------------------------------------------------------------------------------------------------------------------------------------------------------------------------------------------------------------------------------------------------------------------------------------------------------------------------------------------------------------------------------------------------------------------------------------------------------------------------------------------------------------------------------------------------------------------------------------------------------------------------------------------------------------------------------------------------------------------------------------------------------------------------------------------------------------------------------------------------------------------------------------------------------------------------------------------------------------------------------------------------------------------------------------------------------------------------------------------------------------------------------------------------------------------------------------------------------------------------------------------------------------------------------------------------------------------------------------------------------------------------------------------------------------------------------------------------------------------------------------------------------------------------------------------------------------------------------------------------------------------------------------------------------------------------------------------------------------------------------------------------------------------------------------------------------------------------------------------------------------------------------------------------------------------------------------------------------------------------------------------------------------------------------------------------------------------------------------------------------------------------------------------------------------------------------------------------------------------------------------------------------------------------------------------------------------------------------------------------------------------------------------------------------------------------------------------------------------------------------------------------------------------------------------------------------------------------------------------------------------------------------------------------------------------------------------------------------------------------------------------------------------------------------------------------------------------------------------------------------------------------------------------------------------------------------------------------------------------------------------------------------------------------------------------------------------------------------------------------------------------------------------------------------------------------------------------------------------------------------------------------------------------------------------------------------------------------------------------------------------------------------------------------------------------------------------------------------------------------------------------------------------------------------------------------------------------------------------------------------------------------------------------------------------------------------------------------------------------------------------------------------------------------------------------------------------------------------------------------------------------------------------------------------------------------------------------------------------------------------------------------------------------------------------------------------------------------------------------------------------------------------------------------------------------------------------------------------------------------------------------------------------------------------------------------------------------------------------------------------------------------------------------------------------------------------------------------------------------------------------------------------------------------------------------------------------------------------------------------------------------------------------------------------------------------------------------------------------------------------------------------------------------------------------------------------------------------------------------------------------------------------------------------------------------------------------------------------------------------------------------------------------------------------------------------------------------------------------------------------------------------------------------------------------------------------------------------------------------------------------------------------------------------------------------------------------------------------------------------------------------------------------------------------------------------------------------------------------------------------------------------------------------------------------------------------------------------------------------------------------------------------------------------------------+\n",
      "|s3://ocr-data-science-p8-fruits/Test/Watermelon/r_114_100.jpg   |Watermelon   |342       |[-11.47480662146471,5.55297873227822,-4.5160568911031485,-1.4144758939403386,0.6151793110242341,6.407312187994412,-5.051829965235329,9.133933996054022,5.44455104757396,-6.12957944956714,-0.7062031667747227,-1.9655924441720207,9.963477269789232,7.061909425636089,8.38326301942066,1.5925475268917282,3.9270157158234578,-2.5557846069873307,-4.677681239799949,-2.0031382330204326,-5.617032349833143,0.03571763502770582,3.843856465143754,10.28713125909311,-1.6576191727302017,1.679569004599272,4.258144994835869,-4.4379673221840354,-2.117625398882953,1.8802327403335746,-3.9616098939564584,-1.673670844714464,-0.8096960171746007,0.7816353531792761,5.286916048028797,-2.1437607737158637,-4.145672026719798,-0.6841651115721701,-2.7610927380773234,3.353760207367122,1.2272331192210235,5.134439465395064,-0.5045695376035346,-2.2992358422755457,0.7721661506857014,1.6899712321812927,-7.988369556739717,-0.8142721423207205,5.529930291352262,0.6368208631206776,-5.661946559551201,0.4229503713626511,-2.2533539391475954,1.236022988210303,0.18630966110015937,-2.90932511064289,3.693763075972367,-2.791904356178602,-1.4880266848652859,4.865070619569907,-0.6417295871282395,-2.055061156494799,-2.9723170933151177,-0.10665328677758269,1.3124125275946976,-2.617629628593932,-0.24414777516645367,-1.6945984676361985,-1.8728875952621473,4.7286177793760125,-4.3982743342168815,1.6137722676740982,2.6813564940783516,-0.3108585200514529,-3.4412452886524294,-6.508285059266778,3.7859905410061456,3.0721290278729634,1.1284438390535134,-0.30176617625220303,3.629596730408136,-1.3829155528706207,0.23611687814628154,1.3279703642293328,0.7632567730049119,-0.2921675507523172,-3.0742147743192128,-1.8635860418825616,-0.03521841636501857,-1.8618746708220366,-1.2232485084289961,-1.8308414043331156,-0.7805955831092953,-2.08322185878164,-1.329319922197376,-0.27682212523691585,0.7740218009691361,-1.3285366123210738,-2.769317291355896,2.486770369351562,2.652730648251274,-1.5490720814498988,0.7261450879283086,-0.19085189849387788,1.9427219693174376,0.8319793246960369,0.659788823386426,-3.0758142034618934,1.5684358511327186,0.818872672262198,1.4568323272559784,-0.5272453904245803,0.12435166094978545,1.1520947820422704,-0.2825655179260359,-0.06565359879761831,-1.1725887145678202,-0.7462068715735573,1.8954767446280418,1.4844936254159784,-1.1518037702820876,-0.3647304846892765,-0.24368977676116116,-0.7697867572333801,0.13579644233505844,-3.0665236817369905,-0.010212428520942238,-0.5458793843565639,-0.5881762828905585,-0.17074913626902596,0.2313331166606791,0.5861387270757515,-3.0214765738056903,-0.9207811611346616,0.5164661352588888,3.717167429702081,-2.0333038116631754,-0.3638848653536819,1.6449746252589226,1.1459172137755949,1.1393361848318062,0.5442500303878145,1.6250878160806415,-0.39103134016738544,-1.2347726072758407,-2.0644243497737222,-0.06748573738184092,-0.9052656670962851,1.614695730599324,-1.19519550474942,-1.7971206762788752,1.1787327056563217,0.5388360792462833,-0.5242989841985344,-1.1169242403703195,-1.0793173480334592,1.1451854204948135,1.0646959222109251,1.188429723160829,-2.7074167294988727,-1.4762662910282562,1.7320574352540645,-1.2236538682783085,1.809075294195098,0.06383190849749264,0.4993093171853221,1.9509918841648708,0.2469319320247947,1.4804259112659752,1.4855659342824568,-0.32617651522585167,-0.3419113349196282,-1.776997244842141,0.18693590189412307,2.0693576817700228,0.10917393406712836,1.5816550451957316,1.6079048781055831,-0.8114404130742231,0.3298237163968944,-0.6434313907671094,0.7779414394587566,-0.3122008708011265,-0.3429913487280393,-0.3499442355283804,0.48801285348478424,0.850081803170394,0.6681574377967336,-0.5753429100520516,-2.442967732525134,-0.06604065369738563,0.8936897848865388,-0.08263284203706012,1.9327192761365954,-1.7361511638392462,0.17323054431826906,1.5528377128913728,-2.584407881612348,-0.6557699527308969,0.02456312816871998,-1.2174368282446744,-0.7508395508785405,-1.7645955635448631,-0.38928300873264177,-0.28166460922586806,1.5676162856618954,-1.019797943761896,-1.4132958524276746,1.0198731759292878,0.010273276050522615,-0.3419238598169646,-1.5945490839830478,1.1803055428834495,1.547541296046504,0.047001010576854754,-0.9492072314220197,-1.0533486203220057,-0.018822633687433917,1.963392494761792,0.505365167108346,0.30430475612769065,-0.7474290437374639,-1.7672250985171605,-0.7025713372098799,-0.987100200058439,-2.4311836910811224,-0.8056925546932494,-0.5209408136096846,-0.7482885816317966,-0.6855411270494245,-1.0106194700445768,-0.3493035830224826,-0.9224847376866728,1.378646411436662,0.46025180345252575,-0.2712664078974893,-1.430552218850575,1.6632026660816581,-0.9713121823460374,-0.31592642535497134,-1.2481019977431087,-2.0209933256577446,-0.07856576463590331,-1.2080076708991212,-0.43863616528605076,0.37514405063109724,-1.4118285551670444,-0.46482655459281763,-0.3316040798854801,-0.8125095530980765,1.8749515135844865,-0.4268398626963966,-0.03806655144912664,0.6068722792270328,0.25327837279570475,0.07546722078033147,0.7832843854445579,0.14195718523088457,0.8882770417408402,1.9161594940697049,0.11784790009758499,-1.1553220972790805,0.4138966230562439,-0.6913418467172284,1.6621251571032438,0.5658827852085746,-0.7589497362716582,-0.3127876541295453,-0.28226577648502393,-0.07293459644987815,0.025316538827032477,-0.7198059115009072,0.7129703012357798,0.936503892626154,-0.8199855271291409,-1.6682936275400573,-1.1179681623920807,-1.3198286577629441,1.232423559201553,0.6334203318751316,-0.8546390750668609,0.5020901467364064,-0.06804575407480826,0.8635483607289897,0.5897002168978439,-0.11708386047720573,1.1749688450622462,0.43277438762339315,1.50178103725158,-1.3765121259272428,-1.0750153342187785,-0.33592622665737815,-1.004136694033772,0.3544228570036738,0.03893003103861943,-0.5639577356864062,-0.32655266433978203,-0.023788345477438834,-0.8208226031659788,0.46838256162581665,-0.2607234629278943,-1.6454892142509547,1.0224695638071053,-0.849934408001829,-0.4487402020522636,-0.25740473293570076,-0.7787477868106171,-0.8331692115803085,-0.4667761707678747,-0.620945734276287,-0.9278414325340434,0.836561608378668,-1.9290597984886457,-1.2109224258918596,-0.44258010826322786,-0.7118539204082844,-1.1276936395146138,-0.2369415104985684,-0.5527058652961443,0.5843546591201279,0.6233342701458157,-0.3771260800794124,-0.06849576019786477,1.3638767933722946,0.5801839306218134,0.9143730359643023,1.131903686102269,0.04075787421749538,-0.4565825389044504,0.6144155288452775,0.25544218814309444,-0.43679220980691646,-0.5963720608453716,0.7157394095156742,0.4855196816040491,0.4425971251554007,0.5317161878241747,-0.9224231647799297,0.7885625617978448,-0.7892366171356612,-0.6070215610049752,-0.5922581220823666]    |\n",
      "|s3://ocr-data-science-p8-fruits/Test/Watermelon/265_100.jpg     |Watermelon   |342       |[-8.86760238396707,7.473099379991874,-3.2921177740388887,-2.3969276839251945,-1.6038936491000124,1.0487235372404506,-3.4290139984612127,1.3847090004138771,4.046926529018469,-7.146872772442113,-1.4037726547724019,-3.0944518822469944,14.270483677637033,4.9571114285468445,8.160048074753407,-3.6522105212431586,3.6317022116632245,0.9540420575464416,-1.8016879619343344,6.504706046327091,-7.01575417021806,-3.454763440653025,11.0692635172078,12.836414149022985,0.3207728848373746,1.7328712776680961,3.438820553006362,-9.410868590305922,0.12667139129749377,3.6535156897344234,-1.9352101509942514,-1.2490393082098727,-1.4637692460321288,3.5928027665029427,6.05396084335002,2.321546028013557,-7.353922787201167,-3.4053942997466273,-1.2522543366962797,5.580599425579395,-1.416244456862336,-0.5314332017237828,2.223319762665925,-3.3932574191721967,4.283133708505652,1.245439048367727,-7.462835440080846,3.964153677728579,6.287302921553076,-0.36055823992905905,-8.207902105782441,3.67209885173401,-0.945725615099117,3.4589520771962237,3.215100721087427,0.801844937923848,5.823307832048469,-3.4454442087696853,0.23505402353035165,1.0780067243833396,5.076250771391209,-2.0557231902966158,-0.6740001959612544,-1.1076490998499593,1.2851732418384405,-0.7539722260783408,-4.540874316478549,3.599928411398566,-1.9306318240882352,3.9871061404135,1.2494654585388496,0.5954854998004601,1.1737880482746317,-2.469205972542868,-1.9389242720973874,-1.7492261403700016,3.420632054790281,-2.862054324190973,0.509356699529772,2.342493911573399,-0.575201983744561,-2.27671694480486,-3.4555776228385318,0.8545954203472759,-0.41568720766848827,-0.6327482880574401,2.273447264920836,-0.4955991208433275,1.9705949694874954,0.13689413089784075,-1.6905411739450924,-0.4833415160819348,0.7499061835151251,-3.3083036557943326,-1.0723840657550772,-1.3815060072780865,-0.5164190783989936,-2.123041706114233,2.635052287790762,-1.7649385701469067,0.5695058965573094,2.224578568871889,-0.5407814635592453,0.7395202099444126,-2.342977357537647,0.5652216029708093,-1.9046667171017422,0.9203715372400311,-0.8566298925368907,-0.47664793473878286,-0.7649640683740736,0.7407109345591303,0.8489470056442093,0.17413637412433566,0.7365872356880203,1.0642878049933986,3.6440060252779807,-1.2307120322869425,3.695051727235658,0.8286077371099597,1.1902983313896736,-1.318177553279111,-0.8528398123920157,-0.23731853094893832,2.0178607402662188,0.5821796239771776,1.125579602813175,-0.8230737560320524,0.84743243330825,1.7542670272008019,-1.061406362801193,0.7237131406717318,1.3465567439714454,0.08945935276921914,0.46412048178370074,-0.05310848903990351,-0.43470110933052997,0.9131102884548952,-0.3298779429574413,0.11088300417426454,0.05295113008329303,-2.2264361698762003,-0.9824494539178958,-0.3002759109478361,1.0493636809664146,-0.9931492725096023,2.064539893264175,-2.386547429002533,0.009829774696497024,0.40067197547675965,-0.745671742505832,-0.8144778924584307,-0.3903142786137167,-0.9902875129111588,-0.42055317432845846,-0.07903054968103207,-0.8547696873203763,-0.9357368420541309,1.1763818633727587,0.131695113405026,1.1866106758001924,0.3860988074119145,-0.5445094559039136,-0.9374017802972053,1.3826853108255621,0.4744144043800275,0.1490313838724306,-1.0130023039523128,-0.9476012444160146,-0.36967246817497446,0.4012407844525005,0.09648739851165147,-0.8437978976980035,-0.8094150203821004,0.06284259301279907,0.7111508683445392,-0.14879952394426463,0.7452114487958799,0.6580723382784945,1.0788182436930969,0.3303380931720031,1.8116989053760968,0.26720203902399825,0.9084746517640261,-0.8227275588316508,-0.48859406760135055,-1.109964406713225,-0.022394213487289805,-0.06266750057174374,-0.03283431747745434,-1.4904533400866997,0.20492465899571097,0.39160639715717666,0.21797835929977444,0.6171354357473994,-1.0686390078461283,-1.7206824009223975,-0.9349244543419494,1.3656011863534012,-2.0809435441534236,2.2447330807224524,0.3114299861089468,1.2836587979110552,1.088257127208122,-0.3970225094403385,0.5395479936396704,-1.9340615448869736,0.9551287643302014,-0.5557475728419862,-0.1872573862541094,0.13042160413630638,-0.46681551937782617,0.9655864276360097,0.7201423261587523,-0.11009715795379463,0.21215154804575703,-1.631722072092539,0.2855051346083215,-0.14629005183935057,-0.8938595151846188,9.460196410811677E-4,0.37847906217121585,-0.21817080165332267,-0.3827538922282948,-0.6582200152821661,-0.3001840431986323,-0.5220009963417835,-0.23750279648376524,1.011686307484119,0.42268935198201485,0.5117262715404441,0.16642387678279,0.26189423957936064,-0.023957357955361375,0.3275304785533141,-0.45604355976527877,0.026225531010561718,1.4483471319830856,-1.3248062265405764,-0.6789032775393061,-1.1717030036496592,0.8500549422330554,-0.27547186952149527,-1.7254206609867637,-0.24892568151106406,-0.06826946257986553,-0.23566945037242307,-0.3799313191542668,0.5234504481243717,-1.3234723480637085,1.8174872935508444,1.4142523139552863,-0.5320794082822178,0.018128397359268588,-0.5766779933812283,-0.14974911251809156,0.004505010253038099,-1.0363099088429473,0.6096290897010701,-0.30964136587974306,1.261637456492223,0.083518817104812,-0.6902336784191349,0.8764266607117357,-0.3580022142755554,1.0093811797552763,0.18419147294029803,0.26425067461604496,-0.012853601421481032,0.6894573939472343,0.5170657182854993,0.896213666648492,-0.8039517410540445,-0.5794310214572234,-0.5390290020170027,-0.009999282940491678,-0.20551527771419495,1.1276212027020422,-0.3687556198748438,1.4408868969643924,-0.8262161976585186,0.3529807704632186,-0.2868727698235756,-1.0608784577515435,0.9902198233359408,-0.26060453916328746,0.23393924249967285,-0.022373971373643876,0.04019093610097433,-0.6367912289158453,1.598498799332009,0.23755323882346913,-0.5499894210512359,0.3657707613334599,1.6802378436619223,0.5100143074445568,-0.9199087961059041,0.25505790237829573,0.37687873388439014,0.8565808450247009,0.37801600725172113,-0.6592573064083074,0.9246061689299375,1.1329731206094988,0.2521038493055339,1.0092740815598369,0.005387811585052286,-0.03647406222211631,-0.14709806974543063,-0.18920367636027557,-0.10419635043259996,0.11596958663603471,-0.04349470403610186,0.1796833893410093,-0.42539528695018997,0.22089983807972066,1.1983993417102987,0.18030252936969685,-0.4704854524293066,0.19462159696891196,0.07551624957634465,-0.17862489594268025,-0.08360730416659515,-0.004661374895156197,0.22209957834103025,-0.09456182959738345,-0.22633238075670734,0.4417174163875516,-0.21179881476135665,0.9203780601150937,-0.7138384791339598,-0.06621807308551206,0.22337679481879755,1.427277535967291,-0.8619045448961534,-0.8276259911631922,0.6520969247985791,1.8808630969067355,-0.80113592073056,0.8354025644327078,-0.8322105069559764,-0.726776381669721]|\n",
      "|s3://ocr-data-science-p8-fruits/Test/Watermelon/271_100.jpg     |Watermelon   |342       |[-11.045275960519096,8.25459930093668,-4.548371954356908,-1.315216069497047,-0.3622298673041246,0.8568322603934276,-4.923822082008426,2.5733042216801123,5.889549289692857,-9.093656508502999,-1.2850972224014916,-3.384046687033826,18.12247543177971,5.577211759259917,5.991193934156227,-4.793387068275949,3.7678284959345887,0.6825489249758727,-2.669157652967309,7.378433629483829,-6.575379069383609,-4.233421260944822,13.386947891942613,11.925710288780989,0.7612467158078654,2.0165144210605597,4.237729901705597,-9.318037122386025,1.3969334209689828,4.506548230154798,-2.4237286798304027,-2.0877886607799527,-2.6069790648009814,3.820939866702361,7.0121533229656,2.63509564608805,-7.531104297319921,-3.392436496493146,-1.373647835928634,6.12770496865076,-1.277616932029143,-0.37026166526481546,2.4531188410676323,-4.164685361260721,3.972686523976986,0.00307084622949588,-6.5265155311814524,3.3286224750987334,6.848629236435502,-0.6025926688496392,-9.86998262363369,3.2778268804292545,-1.6453646321102464,3.052229032253983,3.285014521001543,1.7606767863579498,5.21066646167474,-3.842434435356481,-0.22479605031462588,1.3996127892223271,5.26222561280494,-0.5554493131569708,-1.4465416364486776,-0.042203564519833196,1.10005580118307,-1.7478854999122462,-4.182989980927179,3.8534933819181494,-1.6414596959836496,4.8347805945374684,-0.10997070860686856,0.32837191512497965,0.7855462293165826,-1.7086214693614024,-1.6437386335978452,-2.3383363467029654,4.042631561633233,-2.595832582641274,0.7238605033882036,3.0527820812577673,-0.31470211691668765,-2.8917100844107093,-3.419491595251116,0.7209915149943477,-0.065046007040243,-0.7211506161595523,2.9658760566755804,-1.455087416899876,1.6752603632442142,1.3911580466374969,-1.6350523234005965,-0.5031865420288179,-0.8635884207743593,-3.1053191123737887,-0.40613548393480886,-2.0737295166184415,0.24978494909896212,-2.480193663095547,1.7899966568733965,-1.4933192759766476,0.24911765417363368,2.6267120777496595,0.20732047684977933,1.5039622745980323,-2.3749069342087386,0.07609271084127515,-1.4815000121847477,1.0015276174087693,-1.4639311352901023,0.07254153300813902,0.24476492625054655,0.5642909067220444,0.9389765131854605,-0.7535629209456253,0.20032061116415684,1.8734442051432563,3.4698035359426296,-1.34698996236482,3.958000508091513,1.2731189063594368,0.7145251617018701,-1.1787587045455366,-1.2405668845162543,-1.0355007993128313,1.8213553013974708,1.227410534436981,-0.30346534655363655,-0.31756803137364975,0.07387583035535672,0.9800757183791545,-1.0297460944204968,0.0031099281527647124,1.4569134292415125,1.2600971268164773,0.5018002639844624,-0.6093935604346429,-0.9086076470345976,0.1368399400804621,-0.2403951675698086,0.40913524577518423,-0.7129291451686386,-1.3115797508485993,-0.8311941927075518,1.017311187589605,2.5073780062332247,-1.1869018885452776,1.6557158132987668,-1.5409091489087865,0.2951455825756148,1.3468829064325218,-0.05705238063853266,-0.9171711461314912,-0.871121521468567,-0.3721333030490567,-0.7653611025691224,0.265906010779781,-0.5047754527190109,-0.43450927044174775,1.3282091189519143,0.727821724966948,1.3625361578754418,0.08301719352090137,-0.8398644430278848,-1.5762306733366624,1.6918594591402774,-0.09910787440083216,1.4372940872747608,0.20816541251559909,-0.6155478592531588,-0.5841729592531073,-1.2807020283175006,0.0897735547190086,-0.2819614329338698,-0.29954951768465876,0.333190040647964,-0.5206307398924541,0.12653376836464156,0.6441076498593978,1.8049502722832758,0.9106975242918093,-1.01538067449907,0.7691447593978299,0.783108088565648,0.4880564840361059,-0.8481896518976124,-0.5861695837868631,-2.2137753882033544,0.40391969256781746,0.07866472664308094,-0.626374623584178,-2.040288629934077,-0.8970246806165845,-0.03905179767705299,0.6814332014847475,0.7917569764732152,0.18079298803979937,-0.9303942853100807,-0.4613066249032622,-0.7643021005250078,-1.9801087602257743,1.8244366668017458,-0.18590134370416145,-0.4474876232583679,1.433847962813466,0.9699370214469961,0.42383287795861563,-0.8729590937321698,0.8170580507618952,-1.1942174133854337,-0.314713573665331,1.575283217846404,0.9100475464980977,0.46510353081379785,1.2824122279263515,0.4906793381960479,1.4203296580416434,-0.7611936829867291,0.4806856444026714,-1.1016275641689401,-0.43719305285020654,0.3834650275581965,0.5304508797187895,0.11201797097462148,0.2863012242761552,0.5499187130292164,0.13004406650488123,-1.349098979618302,0.4134307289820297,0.9024286415626481,0.4731299294734168,-0.4810620743951173,-0.9901402503507127,-0.46998819718898127,-0.8278732290860241,-0.21422936838415427,-0.832575304803988,0.8218360610752653,1.4015158551729545,-2.0993197668054404,-0.8765479539863508,-0.9625341423976588,1.7759292781271376,0.05818436911670051,-0.7796430895077542,-0.45043357136313705,1.0861693952104285,0.15570145797007945,0.07510080033341558,-0.2871027055643045,-1.9903814880187338,0.8307796591770219,2.1776758119516804,0.012197796884251466,-0.029958998664866662,-0.257040761937856,-0.90192979751704,-2.3414620489874687,0.21703752131936024,0.9539512919411761,-0.06530266348341404,-0.09653794443961088,0.26967192385621025,-1.122258693693388,1.1769898211951246,-0.8243679248032744,0.08480975689800561,0.6262742576427379,0.8191302511855674,-0.11134721653051817,1.276445461777593,0.7110400749996614,1.143068170526418,-0.11342935258733775,-0.4940161407321256,-0.3196406727204358,0.9960458179602858,-0.164003611450652,1.66799177363844,-0.8704868859118889,2.032416519509597,0.010091680806277707,-0.2226470045415611,-0.1690112731632439,-0.8762727027833622,1.2857133452391434,-0.1026183601440145,-0.7558747857349393,-0.05772054681414147,-1.4987162419160667,-0.6716155187941301,1.5890303147985878,0.776334107466756,-1.2112954988459494,0.2750712549774039,0.1370689939233128,0.14453882653232902,-0.6181010534854489,0.2531433029570712,0.36208897254041006,0.4459646826668209,-0.004748165148244277,-0.5990584862931304,0.3393985573265293,0.22502910296914228,0.898801539677112,0.791648076807834,0.7547935511092447,1.1248813045326338,-1.2900482087395924,1.1710398678061607,0.4375099592740798,-0.2581728695279124,-1.3437076233355407,-0.4299711268726168,-0.10299562620087092,-0.2856788969332354,1.3764473426747603,1.146140723887057,-0.14073300328979024,-0.4742339967553527,0.034782368343600746,-0.6981977659618539,0.6419809450509538,-0.5029072861327014,-0.433425596014971,-0.3141641088055194,-1.307884349742354,0.6447828523272947,-0.10354119465533168,0.8106588088829095,-1.2203720572738834,1.915155475649064,0.22932788872187534,1.267768706062349,0.01366232585764806,0.8018502820792193,1.0706498017238122,1.2292120004028853,-0.7900452033816333,0.7915328182980058,-1.0925274407811505,-0.5619953178602248]                                         |\n",
      "|s3://ocr-data-science-p8-fruits/Test/Cucumber Ripe/r_161_100.jpg|Cucumber Ripe|342       |[-6.506721963581217,3.661708918457825,-3.2753460404297536,-2.1366955310895652,5.875672246100577,-2.835054858140851,-5.423528330621729,-1.0754962890601272,4.811845024359366,-1.5612466826806843,1.7524063674538555,-6.836840769887996,0.5354248854543721,2.498873427396463,-1.8570960826104939,2.413044498520992,-4.815054731082154,5.703495805464205,-7.190088580652552,-0.6452494640004728,-0.5075098978691471,1.8688221836268248,1.9493751900072236,0.8314819670634712,1.1970730431889982,-1.9816226491903801,0.33531592346537736,1.2283317935776286,3.951624536596093,1.298435741392315,-1.7909490775771246,2.722417671764926,-1.2377548556743958,4.632497653047536,0.9427258608808613,1.3455642660289706,-1.9602102169055067,0.027591849623301055,-0.39430800864649035,1.1967121096842623,6.093739613938545,2.3346074712246754,2.524105947580981,3.0670398577473046,-0.8219408264012175,4.721241702058292,3.4831241566693487,-0.009572451699119501,2.25841218265285,-4.409874206529936,4.6249813658292895,-1.40646249133448,3.1815230413435205,4.770261815568323,-0.0742995091123042,-2.0191315452914607,-1.3010927767084675,6.4945760395623005,5.118628105466633,3.8539959230560266,-2.0509386643371332,-2.92070895677774,-0.0026141815453806366,-1.675820939843179,-0.1512341500477812,-2.0607766875145335,1.0734355570522671,2.4300570696395325,-3.0617255396233767,-2.39187609038334,-1.4041138963081814,-1.0410829537286133,5.009260707551475,-1.83928851730977,1.777926626589052,-1.3125883876165267,5.593177404757832,-2.0346266440317113,-0.5393673768117908,0.41162029516188475,7.675261641435003,-2.0007966573329843,9.03646428212313,-2.4167656831309663,-3.035017868586892,-0.047536293745737146,2.8349896897342117,-0.400042148638782,-1.9456358778753697,-1.1526193242385077,-1.2575050718687575,-2.1826731562728026,-5.31275396720666,-4.829657169368209,0.4612916427435486,-0.70046045922757,-0.2375128995634341,0.18177572083072302,-1.6994216675841054,-1.1023584573351835,2.224486951481242,2.0335523401397593,3.1836351700808745,-2.360186751131855,-1.1851363051584864,-0.3583512401563429,-4.277861163749765,-2.8598792148058916,3.8717597952435505,-0.27109085343693806,-0.4321035679204937,2.3589336629589046,-2.5719097004894396,-4.337993501044392,1.9138605725097193,-0.685305393891442,-2.5368102660682013,4.219668810825283,1.9408885883932094,1.2407666324864597,-1.1955251953410988,1.164936505588906,-0.5700132777420399,2.822448133910356,0.6543137385763164,0.08467917746752268,3.2164379368771145,-1.9221007442538578,-2.011575614142545,-6.545813796911169,-0.6466181199261415,2.3665345535764435,-0.5432392787041311,-3.2141661184139867,-1.744660987092174,0.9516146073482867,3.8219033997390435,0.7207881206928952,1.784934737933563,1.3061752236192625,0.3311010253685907,2.2333621638656873,1.0992895787980037,-2.365541208708109,-0.11444114383580545,-3.5174634870003905,3.791026948084507,0.837477342147896,2.881050871191315,1.2222305172858194,0.64350945347666,2.8472125518766234,-1.9513005144289843,-0.9724476865308994,-1.468189042217753,1.8680953383506673,-4.319191151702845,-2.753028821110472,-1.8275798523744409,0.27221276205277617,1.1906579184872623,-1.462730977450252,-0.24856543805633968,2.6617211958155607,-2.1381919218630294,1.4953995037306702,-1.426060388082949,-0.4492796184525429,-0.8085315930883888,1.072312282315913,-1.8952774735837823,-1.3545519591451032,-0.1267831354100285,-2.423157257811147,0.5772931270680999,0.27129345996417886,-1.0773498040222067,0.8336582840883532,4.0409952195140155,-4.542169548702513,-2.66603871055364,0.1101366087325658,0.03806360883947672,0.7534975521030549,-0.6984641659762089,2.125584053700231,1.0444429722508612,2.69832579521665,1.5418971371422379,0.3985264926598891,0.8248687320362196,0.2528385396819285,0.5906168641904952,1.1414919381558637,1.332598347891007,0.5606269226469345,-1.8982537983038856,-1.0697132346266898,0.49058718169264753,-3.2935247249468547,1.4658780249336474,3.0776119281922987,0.46382290620655875,-1.1484882348778418,-0.07496528114440024,-1.08358966625631,-2.573524193338359,0.775107315388053,-0.5655370319823285,-0.7039451255442558,-0.113551355433815,-0.8418268132500807,1.8070471485841437,-0.40343244187219196,1.6309274745112972,-1.2358425238497588,1.6194543043851972,-2.1821034583837116,-1.672591515980986,-1.695336309567189,-1.7907697052381735,-0.41859101427994627,-3.503420476695593,-2.2799105665060098,0.12586714072922223,1.2726892627284037,-1.1858063791643083,2.745061190653361,0.16464812558521372,1.49430184513522,0.6868506367873337,-0.7512242439388983,0.07652313530218999,2.2072463233008026,0.025205705640244717,-1.4411974465735218,0.12095743962154323,0.4620588224689549,0.3968849884781644,-0.4633951403603365,2.033588014558288,0.1544838228751436,0.6019384845005926,0.2846841260692781,0.15837673471955413,-1.6973260172648679,-0.9540888742301799,1.285914685142365,-2.3496317188772156,-1.5373472365223166,1.1415428120270712,0.39710983878641903,-1.176327279641057,1.40629149331214,-1.1246666313618365,-0.2973081320552853,-0.16354102750344618,0.21515464100036746,0.5669682815129596,-0.11628513594597188,-0.9020299690606296,0.5447161811223028,1.0626295633833251,-0.22832895349083496,-0.3917556324533233,-0.4535024571715265,-0.6925564868237968,1.2426455202336517,0.8367846868618105,0.8786691660416043,-1.2522345479302213,0.12194212203301993,0.04779772375210986,-0.38967898776099796,0.43590381257459504,1.0096792303384967,-0.6329120932463814,-0.5540601196976013,0.2282054986805455,-0.1781957384987536,-3.8026933557531035,1.350916021741704,-0.7034205106198963,-0.2745952188769057,1.6347162825128143,-1.2619222254549425,-2.8661729645373017,1.1900303115602109,1.1329493725479347,-1.0346397834788152,0.03614187903930395,1.1069143095834568,0.7197984148981529,-1.3164896316787327,0.46561521163873165,1.067139158766589,-1.207831547592505,0.3402937914588158,1.3742056291549194,-0.03172030674074555,0.17917402353841702,0.17166026456565261,0.9122093817949527,1.2687549429446456,-0.48484095584680853,0.744814439169652,0.2879760223671387,-2.6830911503967245,0.0048079453853400594,-0.17446958132854606,-0.8898962501003651,0.8775993391770714,-1.043051988853647,-0.41572489635598703,0.7150817968701167,0.7418371025316214,-1.2774444385663286,-1.756624222973083,2.206487098951783,-1.1862610057595866,-0.3710905214993316,0.9199184540410476,0.42614834104209864,-1.7301455026253294,0.5163385503820077,1.423141337466,0.34114243170137337,-0.2781947826088363,-1.2619372885602091,1.072223055398696,-0.6595772409778295,-0.7479238328253368,-1.2252163114467995,-0.049453603301893787,-1.3528927563205893,0.6332478138065774,-0.8953122837630482,-0.5811263377250047,-2.26951634413309,0.45979978614788286,-0.25283469473062287,1.0076167690721682]                                                                     |\n",
      "|s3://ocr-data-science-p8-fruits/Test/Cauliflower/r_309_100.jpg  |Cauliflower  |342       |[-9.106680372067624,3.079417979998277,1.7869529886741524,-10.248330212204523,-14.65206343086162,3.187480460325564,-4.093459007957496,0.4287307439552036,0.11030503936887372,8.771300876600467,-6.48085481734612,7.5101255594934635,4.296440178809384,-6.706086834502471,8.367540917397351,-4.8472254574038125,4.722968564353692,-3.3176997057210293,-4.591363414145076,-2.0404270337273074,-6.1188345042746395,6.031027531429359,-2.9070685422442817,7.929302201295063,-3.7371346483514096,-0.1436977110430069,-4.618583748524459,8.66267653800341,-5.269964464910865,4.783053995742339,0.16780058618919824,0.8617565705426057,-5.751673081378138,-0.19657288494786837,0.6058331218724253,4.566534934349832,1.5476582919432311,-5.661140844822449,-2.102127460620616,-1.9763759267736527,-3.4510651651440747,1.9560464134330584,1.8603906013251625,0.2393582118049649,-2.1481846356061927,-0.6298167929873559,3.7704493509103467,0.36827985686142145,-2.282493656559043,2.612378810475682,0.6792355549890269,-0.07619791695480613,2.6603324845715792,3.444907256344096,-1.159815670769639,1.2154380295166491,-0.17702212462158298,0.7803104095464238,0.3872574100388307,-1.9870545279610974,1.1753165109020927,0.4885299178236596,0.9994541619012102,1.7240134565205576,-0.24634067591909947,2.053595991074099,0.5787369357407498,-0.8022244371586978,1.7822485628534697,-2.029824853732372,-1.2912476927824421,-0.4578259653477013,-0.7590013541440679,-2.3938328161487283,-0.5240496168332951,0.29842972604339096,-1.0124645298190111,-0.1628466933738848,0.8207127820202633,-2.4700785804117538,-1.7365466782438466,0.38097176018186324,1.980983509625786,1.8970399951308812,0.6159093126480338,0.8305661754694079,-2.348580378848156,-0.46350149195483015,-2.0960601436013953,1.150270401460261,-1.1005559161048324,1.6035623544993824,-1.84234838507304,-0.03999626426384169,-0.8936511774862204,1.387366405426473,1.540744706352071,0.26127115243005417,0.4437853256973375,0.4468718044123688,-0.7672063867753005,-0.23264791418216083,-0.4046990367543476,2.3457182659633053,-0.7845444597819988,-3.2817250686889823,1.026121993295612,2.915257127925172,-2.5428854938209664,-0.20338111214292437,0.8445408254375502,0.8096268082197373,-0.7992094161435606,1.7844838439436146,-1.8751004922768655,-0.7320910932543282,1.2380140937220403,-0.34730423882183853,1.137295385728494,-0.9078193123535395,-0.3667363286287705,0.27981546365550625,1.5203433480401958,0.5400962811444455,3.086805921988294,0.2400111353046906,0.7592601337219469,0.6305625132284176,0.07127308825315103,-2.7700012265497787,0.8275513877226224,-0.8258439276842053,1.0630150974442778,0.050226819859775416,0.538839385373081,0.04017697525221915,-0.0015399656750922823,-0.7666247365993332,0.8082346203086739,0.3200136925446579,0.11159390400782267,-0.9906690771127348,0.6987346411956664,0.6051778829054042,2.124981237198649,-0.18730896464452287,1.2298791232393238,-0.6714588637872704,1.2646159727975617,-1.5442647714389752,-1.2766859977628713,0.11118378302574243,-2.6374384377073246,0.6770713143605674,0.9102221585817243,0.7222716500692423,-6.508407342674374E-4,0.2772778303278615,-1.909675055915816,2.0868110412490766,-0.3808524823321443,-1.2144717345045801,1.4338275457792677,0.6573834737301076,0.3287917437284223,2.40174956631564,-1.2250646699723382,0.46122931700030306,0.14570567169500845,-1.3949682739888463,0.32829717958160864,1.9973475074450162,2.050736419099831,-2.170684233646263,1.6138417561974565,0.015693953455220844,-1.6319466957094269,0.29181928007438057,0.7581925709141867,0.6007336089613058,-1.2132460339866749,-1.6775935376980677,0.6291604053952361,-0.8706443488583598,0.3226422078671972,0.9532153904350965,-1.553849885808173,-0.7378564612664862,-2.241738271635147,2.070608808692717,-0.35632077653835936,-0.43159450361735024,1.6762551154677403,0.11754642236318631,-0.1275013920462548,-0.7444364481371145,-0.46679212848670465,0.25557029701305317,-0.981776974137884,-0.6150895820099,0.5483940193628911,0.05434062492187458,0.7188638559869475,-1.076775026830244,0.7809539752783721,1.9765356195880146,-0.9258906799279467,-1.3474268908023828,0.19398908427226796,0.05387702334000805,-0.42585780099399223,-0.04488046346852729,-0.23422878938827507,-0.7364510716118767,-0.7855761121355791,0.13787464744532146,1.343700851466086,1.2803355360128423,0.13795344951079389,-2.036837057326324,0.5036540555403822,1.206949350374447,1.000798322023598,-1.640591728204115,-0.028392013856061115,-1.11833114668293,-1.8546794649885554,0.14825947906825102,-0.29103414801023497,0.9331020914559861,-1.4003500564337965,0.15398265809040945,0.05385527112836065,0.7698085491931382,0.30301357963320535,0.5020791479494218,0.3254871491849691,0.9404773871345463,-0.3554802881228776,-0.9777824599086115,-0.20403349755088535,-1.0346474622729676,0.027063626094271688,-0.48916890812285946,-0.7966526438351685,-0.3161176612009852,0.37339384791172353,0.1797012055003403,1.0015272155282084,0.004972822548514242,-0.8282494779886588,0.4240144097769833,-0.8075964602857192,-0.1803166140867474,0.5196598961619344,0.21929446657759932,-0.23454056097961987,-0.6792868111523982,-0.8645774538491926,0.0813456946782102,-2.2495539618407183,0.46683510786704874,-0.9355555403497482,-0.6233653778523975,0.4830119448803979,-0.6389622192282539,0.5715561024767665,-0.5519792165846161,-0.537856525219625,-1.1928148989515872,1.7410448345647165,-1.0198772065344797,0.914675251543379,1.2457493663734145,0.3788502247772029,1.0848374834287013,0.48416716529639336,0.5513897105306461,1.4998328152910423,-0.955741160838873,-0.0858989418475146,-1.5805190792204789,1.2826638578761371,-0.7041027630737904,-0.24902579106792175,-1.7384184005128362,-2.34379361733786,-0.05576335242796195,-1.2877334734841017,-0.5552792502065677,-0.8957793317870194,-0.2635797069878006,-1.048063725534104,-0.4213076228475313,-1.1884275792020649,0.35037458599727866,0.9196599471743505,-0.31230972001226065,-0.3496160434530803,-0.1835371354201146,0.5221466883960848,-0.5410683745511351,0.0640294703628761,-2.130432799756596,0.5035763947296511,-0.3603515475226835,-0.02099771356214365,0.7632962707057338,0.21156205721221452,0.8579517016481845,0.23113780515380208,-0.8077486023526599,1.0442918276383433,1.0641904848408563,1.735668747303127,-1.048718493109175,-1.1868146927741157,-0.40039848970621505,0.23985404154849235,-0.3117923815021858,-1.0427374936019589,-0.46733397734105836,0.562684579100189,-1.0872964412304502,0.4377121258513467,-2.0997425003495924,-0.6744084713595252,-1.1770000441824768,-0.15837129734665104,-0.7595385244480536,0.1151997967309356,-0.7814560222549717,-1.2031880223563585,-1.079794483619888,-0.0021743001379576476,0.16429699424897776,0.45924343762667247,-0.4947641510330543,-0.29275199378895084,-0.18948941121232982,-0.5865012169207935,0.09751888860320264]         |\n",
      "+----------------------------------------------------------------+-------------+----------+-----------------------------------------------------------------------------------------------------------------------------------------------------------------------------------------------------------------------------------------------------------------------------------------------------------------------------------------------------------------------------------------------------------------------------------------------------------------------------------------------------------------------------------------------------------------------------------------------------------------------------------------------------------------------------------------------------------------------------------------------------------------------------------------------------------------------------------------------------------------------------------------------------------------------------------------------------------------------------------------------------------------------------------------------------------------------------------------------------------------------------------------------------------------------------------------------------------------------------------------------------------------------------------------------------------------------------------------------------------------------------------------------------------------------------------------------------------------------------------------------------------------------------------------------------------------------------------------------------------------------------------------------------------------------------------------------------------------------------------------------------------------------------------------------------------------------------------------------------------------------------------------------------------------------------------------------------------------------------------------------------------------------------------------------------------------------------------------------------------------------------------------------------------------------------------------------------------------------------------------------------------------------------------------------------------------------------------------------------------------------------------------------------------------------------------------------------------------------------------------------------------------------------------------------------------------------------------------------------------------------------------------------------------------------------------------------------------------------------------------------------------------------------------------------------------------------------------------------------------------------------------------------------------------------------------------------------------------------------------------------------------------------------------------------------------------------------------------------------------------------------------------------------------------------------------------------------------------------------------------------------------------------------------------------------------------------------------------------------------------------------------------------------------------------------------------------------------------------------------------------------------------------------------------------------------------------------------------------------------------------------------------------------------------------------------------------------------------------------------------------------------------------------------------------------------------------------------------------------------------------------------------------------------------------------------------------------------------------------------------------------------------------------------------------------------------------------------------------------------------------------------------------------------------------------------------------------------------------------------------------------------------------------------------------------------------------------------------------------------------------------------------------------------------------------------------------------------------------------------------------------------------------------------------------------------------------------------------------------------------------------------------------------------------------------------------------------------------------------------------------------------------------------------------------------------------------------------------------------------------------------------------------------------------------------------------------------------------------------------------------------------------------------------------------------------------------------------------------------------------------------------------------------------------------------------------------------------------------------------------------------------------------------------------------------------------------------------------------------------------------------------------------------------------------------------------------------------------------------------------------------------------------------------------------------------------------------------------------------------------------------------------------------------------------------------------------------------------------------------------------------------------------------------------------------------------------------------------------------------------------------------------------------------------------------------------------------------------------------------------------------------------------------------------------------------------------------------------------------------------------------------------------------------------------------------------------------------------------------------------------------------------------------------------------------------------------------------------------------------------------------------------------------------------------------------------------------------------------------------------------------------------------------------------------------------------------------------------------------------------------------------------------------------------------------------------------------------------------------------------------------------------------------------------------------------------------------------------------------------------------------------------------------------------------------------------------------------------+\n",
      "only showing top 5 rows"
     ]
    }
   ],
   "source": [
    "df_pca.select(\n",
    "    \"path\", \"label\", size(vector_to_array(col(\"pca\"))).alias(\"pca_length\"), \"pca\"\n",
    ").show(5, truncate=False)\n"
   ]
  },
  {
   "cell_type": "code",
   "execution_count": null,
   "id": "4fba6455",
   "metadata": {},
   "outputs": [
    {
     "data": {
      "application/vnd.jupyter.widget-view+json": {
       "model_id": "",
       "version_major": 2,
       "version_minor": 0
      },
      "text/plain": [
       "FloatProgress(value=0.0, bar_style='info', description='Progress:', layout=Layout(height='25px', width='50%'),…"
      ]
     },
     "metadata": {},
     "output_type": "display_data"
    },
    {
     "name": "stdout",
     "output_type": "stream",
     "text": [
      "22688 3"
     ]
    }
   ],
   "source": [
    "n_rows = df.count()\n",
    "n_cols = len(df.columns)\n",
    "\n",
    "print(n_rows, n_cols)\n"
   ]
  },
  {
   "cell_type": "markdown",
   "id": "72974aab",
   "metadata": {},
   "source": [
    "<u>On peut également constater la présence des fichiers <br />\n",
    "    au format \"**parquet**\" sur le **serveur S3**</u> :\n",
    "\n",
    "![Affichage des résultats sur S3](img/S3_Results.png)\n",
    "\n",
    "## 4.11 Suivi de l'avancement des tâches avec le Serveur d'Historique Spark\n",
    "\n",
    "Il est possible de voir l'avancement des tâches en cours <br />\n",
    "avec le **serveur d'historique Spark**.\n",
    "\n",
    "![Accès au serveur d'historique spark](img/EMR_serveur_historique_spark_acces.png)\n",
    "\n",
    "**Il est également possible de revenir et d'étudier les tâches <br />\n",
    "qui ont été réalisé, afin de debugger, optimiser les futurs <br />\n",
    "tâches à réaliser.**\n",
    "\n",
    "<u>Lorsque la commande \"**features_df.write.mode(\"overwrite\").parquet(PATH_Result)**\" <br />\n",
    "était en cours, nous pouvions observer son état d'avancement</u> :\n",
    "\n",
    "![Progression execution script](img/EMR_jupyterhub_avancement.png)\n",
    "\n",
    "<u>Le **serveur d'historique Spark** nous permet une vision beaucoup plus précise <br />\n",
    "de l'exécution des différentes tâche sur les différentes machines du cluster</u> :\n",
    "\n",
    "![Suivi des tâches spark](img/EMR_SHSpark_01.png)\n",
    "\n",
    "On peut également constater que notre cluster de calcul a mis <br />\n",
    "un tout petit peu **moins de 8 minutes** pour traiter les **22 688 images**.\n",
    "\n",
    "![Temps de traitement](img/EMR_SHSpark_02.png)\n"
   ]
  },
  {
   "cell_type": "markdown",
   "id": "b22d65bf",
   "metadata": {},
   "source": [
    "## 4.12 Résiliation de l'instance EMR\n",
    "\n",
    "Notre travail est maintenant terminé. <br />\n",
    "Le cluster de machines EMR est **facturé à la demande**, <br />\n",
    "et nous continuons d'être facturé même lorsque <br />\n",
    "les machines sont au repos.<br />\n",
    "Pour **optimiser la facturation**, il nous faut <br />\n",
    "maintenant **résilier le cluster**.\n",
    "\n",
    "<u>Je réalise cette commande depuis l'interface AWS</u> :\n",
    "\n",
    "1. Commencez par **désactiver le tunnel ssh dans FoxyProxy** pour éviter des problèmes de **timeout**.\n",
    "![Désactivation de FoxyProxy](img/EMR_foxyproxy_desactivation.png)\n",
    "2. Cliquez sur \"**Résilier**\"\n",
    "![Cliquez sur Résilier](img/EMR_resiliation_01.png)\n",
    "3. Confirmez la résiliation\n",
    "![Confirmez la résiliation](img/EMR_resiliation_02.png)\n",
    "4. La résiliation prend environ **1 minute**\n",
    "![Résiliation en cours](img/EMR_resiliation_03.png)\n",
    "5. La résiliation est effectuée\n",
    "![Résiliation terminée](img/EMR_resiliation_04.png)\n",
    "\n",
    "## 4.13 Cloner le serveur EMR (si besoin)\n",
    "\n",
    "Si nous devons de nouveau exécuter notre notebook dans les mêmes conditions, <br />\n",
    "il nous suffit de **cloner notre cluster** et ainsi en obtenir une copie fonctionnelle <br />\n",
    "sous 15/20 minutes, le temps de son instanciation.\n",
    "\n",
    "<u>Pour cela deux solutions</u> :\n",
    "1. <u>Depuis l'interface AWS</u> :\n",
    " 1. Cliquez sur \"**Cloner**\"\n",
    "   ![Cloner un cluster](img/EMR_cloner_01.png)\n",
    " 2. Dans notre cas nous ne souhaitons pas inclure d'étapes\n",
    "   ![Ne pas inclure d'étapes](img/EMR_cloner_02.png)\n",
    " 3. La configuration du cluster est recréée à l’identique. <br />\n",
    "    On peut revenir sur les différentes étapes si on souhaite apporter des modifications<br />\n",
    "    Quand tout est prêt, cliquez sur \"**Créer un cluster**\"\n",
    "  ![Vérification/Modification/Créer un cluster](img/EMR_cloner_03.png)\n",
    "2. <u>En ligne de commande</u> (avec AWS CLI d'installé et de configuré et en s'assurant <br />\n",
    "   de s'attribuer les droits nécessaires sur le compte AMI utilisé)\n",
    " 1. Cliquez sur \"**Exporter AWS CLI**\"\n",
    " ![Exporter AWS CLI](img/EMR_cloner_cli_01.png)\n",
    " 2. Copier/Coller la commande **depuis un terminal**\n",
    " ![Copier Coller Commande](img/EMR_cloner_cli_02.png)\n",
    "\n",
    "## 4.14 Arborescence du serveur S3 à la fin du projet\n",
    "\n",
    "<u>Pour information, voici **l'arborescence complète de mon bucket S3 p8-data** à la fin du projet</u> : <br />\n",
    "*Par soucis de lisibilité, je ne liste pas les 131 sous dossiers du répertoire \"Test\"*\n",
    "\n",
    "1. Results/_SUCCESS\n",
    "1. Results/part-00000-2cc36f38-19ef-4d8a-a0d1-5ddb309b3894-c000.snappy.parquet\n",
    "1. Results/part-00001-2cc36f38-19ef-4d8a-a0d1-5ddb309b3894-c000.snappy.parquet\n",
    "1. Results/part-00002-2cc36f38-19ef-4d8a-a0d1-5ddb309b3894-c000.snappy.parquet\n",
    "1. Results/part-00003-2cc36f38-19ef-4d8a-a0d1-5ddb309b3894-c000.snappy.parquet\n",
    "1. Results/part-00004-2cc36f38-19ef-4d8a-a0d1-5ddb309b3894-c000.snappy.parquet\n",
    "1. Results/part-00005-2cc36f38-19ef-4d8a-a0d1-5ddb309b3894-c000.snappy.parquet\n",
    "1. Results/part-00006-2cc36f38-19ef-4d8a-a0d1-5ddb309b3894-c000.snappy.parquet\n",
    "1. Results/part-00007-2cc36f38-19ef-4d8a-a0d1-5ddb309b3894-c000.snappy.parquet\n",
    "1. Results/part-00008-2cc36f38-19ef-4d8a-a0d1-5ddb309b3894-c000.snappy.parquet\n",
    "1. Results/part-00009-2cc36f38-19ef-4d8a-a0d1-5ddb309b3894-c000.snappy.parquet\n",
    "1. Results/part-00010-2cc36f38-19ef-4d8a-a0d1-5ddb309b3894-c000.snappy.parquet\n",
    "1. Results/part-00011-2cc36f38-19ef-4d8a-a0d1-5ddb309b3894-c000.snappy.parquet\n",
    "1. Results/part-00012-2cc36f38-19ef-4d8a-a0d1-5ddb309b3894-c000.snappy.parquet\n",
    "1. Results/part-00013-2cc36f38-19ef-4d8a-a0d1-5ddb309b3894-c000.snappy.parquet\n",
    "1. Results/part-00014-2cc36f38-19ef-4d8a-a0d1-5ddb309b3894-c000.snappy.parquet\n",
    "1. Results/part-00015-2cc36f38-19ef-4d8a-a0d1-5ddb309b3894-c000.snappy.parquet\n",
    "1. Results/part-00016-2cc36f38-19ef-4d8a-a0d1-5ddb309b3894-c000.snappy.parquet\n",
    "1. Results/part-00017-2cc36f38-19ef-4d8a-a0d1-5ddb309b3894-c000.snappy.parquet\n",
    "1. Results/part-00018-2cc36f38-19ef-4d8a-a0d1-5ddb309b3894-c000.snappy.parquet\n",
    "1. Results/part-00019-2cc36f38-19ef-4d8a-a0d1-5ddb309b3894-c000.snappy.parquet\n",
    "1. Results/part-00020-2cc36f38-19ef-4d8a-a0d1-5ddb309b3894-c000.snappy.parquet\n",
    "1. Results/part-00021-2cc36f38-19ef-4d8a-a0d1-5ddb309b3894-c000.snappy.parquet\n",
    "1. Results/part-00022-2cc36f38-19ef-4d8a-a0d1-5ddb309b3894-c000.snappy.parquet\n",
    "1. Results/part-00023-2cc36f38-19ef-4d8a-a0d1-5ddb309b3894-c000.snappy.parquet\n",
    "1. Test/\n",
    "1. bootstrap-emr.sh\n",
    "1. jupyter-s3-conf.json\n",
    "1. jupyter/jovyan/.s3keep\n",
    "1. jupyter/jovyan/P8_01_Notebook.ipynb\n",
    "1. jupyter/jovyan/_metadata\n",
    "1. jupyter/jovyan/e-5OTY4VKPDT21945FF6DN15E35/.aws-editors-workspace-metadata/\n",
    "1. jupyter/jovyan/e-5OTY4VKPDT21945FF6DN15E35/.aws-editors-workspace-metadata/file-perm.sqlite\n",
    "1. jupyter/jovyan/e-5OTY4VKPDT21945FF6DN15E35/.aws-editors-workspace-metadata/nbconvert/\n",
    "1. jupyter/jovyan/e-5OTY4VKPDT21945FF6DN15E35/.aws-editors-workspace-metadata/nbconvert/templates/\n",
    "1. jupyter/jovyan/e-5OTY4VKPDT21945FF6DN15E35/.aws-editors-workspace-metadata/nbconvert/templates/html/\n",
    "1. jupyter/jovyan/e-5OTY4VKPDT21945FF6DN15E35/.aws-editors-workspace-metadata/nbconvert/templates/latex/\n",
    "1. jupyter/jovyan/e-5OTY4VKPDT21945FF6DN15E35/.aws-editors-workspace-metadata/nbsignatures.db\n",
    "1. jupyter/jovyan/e-5OTY4VKPDT21945FF6DN15E35/.aws-editors-workspace-metadata/notebook_secret\n",
    "1. jupyter/jovyan/e-5OTY4VKPDT21945FF6DN15E35/.ipynb_checkpoints/\n",
    "1. jupyter/jovyan/e-5OTY4VKPDT21945FF6DN15E35/.ipynb_checkpoints/Untitled-checkpoint.ipynb\n",
    "1. jupyter/jovyan/e-5OTY4VKPDT21945FF6DN15E35/.ipynb_checkpoints/Untitled1-checkpoint.ipynb\n",
    "1. jupyter/jovyan/e-5OTY4VKPDT21945FF6DN15E35/.ipynb_checkpoints/test3-checkpoint.ipynb\n",
    "1. jupyter/jovyan/e-5OTY4VKPDT21945FF6DN15E35/Untitled.ipynb\n",
    "1. jupyter/jovyan/e-5OTY4VKPDT21945FF6DN15E35/Untitled1.ipynb\n",
    "1. jupyter/jovyan/e-5OTY4VKPDT21945FF6DN15E35/test3.ipynb"
   ]
  },
  {
   "cell_type": "markdown",
   "id": "4eba46f9",
   "metadata": {},
   "source": [
    "# 5. Conclusion\n",
    "\n",
    "Nous avons réalisé ce projet **en deux temps** en tenant <br />\n",
    "compte des contraintes qui nous ont été imposées.\n",
    "\n",
    "Nous avons **dans un premier temps développé notre solution en local** <br />\n",
    "sur une machine virtuelle dans un environnement Linux Ubuntu.\n",
    "\n",
    "La <u>première phase</u> a consisté à **installer l'environnement de travail Spark**. <br />\n",
    "**Spark** a un paramètre qui nous permet de travaillé en local et nous permet <br />\n",
    "ainsi de **simuler du calcul partagé** en considérant <br />\n",
    "**chaque cœur d'un processeur comme un worker indépendant**.<br />\n",
    "Nous avons travaillé sur un plus **petit jeu de donnée**, l'idée était <br />\n",
    "simplement de **valider le bon fonctionnement de la solution**.\n",
    "\n",
    "Nous avons fait le choix de réaliser du **transfert learning** <br />\n",
    "à partir du model **MobileNetV2**.<br />\n",
    "Ce modèle a été retenu pour sa **légèreté** et sa **rapidité d'exécution** <br />\n",
    "ainsi que pour la **faible dimension de son vecteur en sortie**.\n",
    "\n",
    "Les résultats ont été enregistrés sur disque en plusieurs <br />\n",
    "partitions au format \"**parquet**\".\n",
    "\n",
    "<u>**La solution a parfaitement fonctionné en mode local**</u>.\n",
    "\n",
    "La <u>deuxième phase</u> a consisté à créer un **réel cluster de calculs**. <br />\n",
    "L'objectif était de pouvoir **anticiper une future augmentation de la charge de travail**.\n",
    "\n",
    "Le meilleur choix retenu a été l'utilisation du prestataire de services **Amazon Web Services** <br />\n",
    "qui nous permet de **louer à la demande de la puissance de calculs**, <br />\n",
    "pour un **coût tout à fait acceptable**.<br />\n",
    "Ce service se nomme **EC2** et se classe parmi les offres **Infrastructure As A Service** (IAAS).\n",
    "\n",
    "Nous sommes allez plus loin en utilisant un service de plus <br />\n",
    "haut niveau (**Plateforme As A Service** PAAS)<br />\n",
    "en utilisant le service **EMR** qui nous permet d'un seul coup <br />\n",
    "d'**instancier plusieurs serveur (un cluster)** sur lesquels <br />\n",
    "nous avons pu demander l'installation et la configuration de plusieurs<br />\n",
    "programmes et librairies nécessaires à notre projet comme **Spark**, <br />\n",
    "**Hadoop**, **JupyterHub** ainsi que la librairie **TensorFlow**.\n",
    "\n",
    "En plus d'être plus **rapide et efficace à mettre en place**, nous avons <br />\n",
    "la **certitude du bon fonctionnement de la solution**, celle-ci ayant été <br />\n",
    "préalablement validé par les ingénieurs d'Amazon.\n",
    "\n",
    "Nous avons également pu installer, sans difficulté, **les packages <br />\n",
    "nécessaires sur l'ensembles des machines du cluster**.\n",
    "\n",
    "Enfin, avec très peu de modification, et plus simplement encore, <br />\n",
    "nous avons pu **exécuter notre notebook comme nous l'avions fait localement**.<br />\n",
    "Nous avons cette fois-ci exécuté le traitement sur **l'ensemble des images de notre dossier \"Test\"**.\n",
    "\n",
    "Nous avons opté pour le service **Amazon S3** pour **stocker les données de notre projet**. <br />\n",
    "S3 offre, pour un faible coût, toutes les conditions dont nous avons besoin pour stocker <br />\n",
    "et exploiter de manière efficace nos données.<br />\n",
    "L'espace alloué est potentiellement **illimité**, mais les coûts seront fonction de l'espace utilisé.\n",
    "\n",
    "Il nous sera **facile de faire face à une monté de la charge de travail** en **redimensionnant** <br />\n",
    "simplement notre cluster de machines (horizontalement et/ou verticalement au besoin), <br />\n",
    "les coûts augmenteront en conséquence mais resteront nettement inférieurs aux coûts engendrés <br />\n",
    "par l'achat de matériels ou par la location de serveurs dédiés."
   ]
  }
 ],
 "metadata": {
  "kernelspec": {
   "display_name": "Python (pyspark-env rapide)",
   "language": "python",
   "name": "pyspark-env"
  },
  "language_info": {
   "codemirror_mode": {
    "name": "python",
    "version": 3
   },
   "mimetype": "text/x-python",
   "name": "python",
   "pygments_lexer": "python3",
   "version": "3.12.3"
  },
  "toc": {
   "base_numbering": 1,
   "nav_menu": {},
   "number_sections": true,
   "sideBar": true,
   "skip_h1_title": false,
   "title_cell": "Table of Contents",
   "title_sidebar": "Contents",
   "toc_cell": false,
   "toc_position": {
    "height": "calc(100% - 180px)",
    "left": "10px",
    "top": "150px",
    "width": "432.4px"
   },
   "toc_section_display": true,
   "toc_window_display": true
  }
 },
 "nbformat": 4,
 "nbformat_minor": 5
}
